{
 "cells": [
  {
   "metadata": {},
   "cell_type": "markdown",
   "source": "# Update photo saving",
   "id": "31ca00de4155ca3"
  },
  {
   "metadata": {
    "ExecuteTime": {
     "end_time": "2025-04-28T11:19:35.211389Z",
     "start_time": "2025-04-28T11:19:35.199201Z"
    }
   },
   "cell_type": "code",
   "source": [
    "\n",
    "import mimetypes"
   ],
   "id": "7fa671fd5e9fb318",
   "outputs": [],
   "execution_count": 1
  },
  {
   "metadata": {
    "ExecuteTime": {
     "end_time": "2025-04-28T11:19:36.299655Z",
     "start_time": "2025-04-28T11:19:36.246336Z"
    }
   },
   "cell_type": "code",
   "source": "mimetypes.guess_type('game.gif')",
   "id": "3319d1e237b5ce98",
   "outputs": [
    {
     "data": {
      "text/plain": [
       "('image/gif', None)"
      ]
     },
     "execution_count": 2,
     "metadata": {},
     "output_type": "execute_result"
    }
   ],
   "execution_count": 2
  },
  {
   "metadata": {
    "ExecuteTime": {
     "end_time": "2025-04-28T10:02:53.105057Z",
     "start_time": "2025-04-28T10:02:53.091453Z"
    }
   },
   "cell_type": "code",
   "source": [
    "from config import Config\n",
    "\n",
    "def filtration_by_filename(photo_filename: str) -> bool:\n",
    "    for rule in Config.filtration_keywords:\n",
    "        if all(keyword in photo_filename for keyword in rule):\n",
    "                return True\n",
    "    return False\n",
    "\n",
    "print(filtration_by_filename('img_0_1_coursead-dlsoptimizationalgorithms'))\n",
    "print(filtration_by_filename('issue_1_title_bert_is_back_img_0_1_cropped20roberta'))\n"
   ],
   "id": "529ed8e5e516d249",
   "outputs": [
    {
     "name": "stdout",
     "output_type": "stream",
     "text": [
      "True\n",
      "False\n"
     ]
    }
   ],
   "execution_count": 3
  },
  {
   "cell_type": "code",
   "id": "initial_id",
   "metadata": {
    "collapsed": true,
    "ExecuteTime": {
     "end_time": "2025-04-28T10:06:34.940864Z",
     "start_time": "2025-04-28T10:06:34.829777Z"
    }
   },
   "source": [
    "import os\n",
    "import json\n",
    "import requests\n",
    "from urllib.parse import urlparse\n",
    "import re\n",
    "from config import Config\n",
    "from tqdm import tqdm\n",
    "\n",
    "with open(f'../{Config.parsed_full_data_path}', 'r', encoding='utf-8') as f:\n",
    "    articles = json.load(f)\n",
    "\n",
    "output_dir = f'../{Config.image_dataset_path}'\n",
    "os.makedirs(output_dir, exist_ok=True)\n",
    "\n",
    "\n",
    "def slugify(text):\n",
    "    if text is not None:\n",
    "        text = text.lower().strip().replace(' ', '_')\n",
    "    else:\n",
    "        text = 'no_text'\n",
    "    return re.sub(r'[^a-zA-Z0-9_\\-]', '', text)\n",
    "\n",
    "\n",
    "def filtration_by_filename(photo_filename: str) -> bool:\n",
    "    for rule in Config.filtration_keywords:\n",
    "        if all(keyword in photo_filename for keyword in rule):\n",
    "                return True\n",
    "    return False\n",
    "\n",
    "uris = []\n",
    "metadata = [] # now is only url and title\n",
    "\n",
    "# Download images\n",
    "for article in tqdm(articles):\n",
    "    url = article.get('url', 'None')\n",
    "    issue = article.get('issue', 'unknown')\n",
    "    title_slug = slugify(article.get('title', 'no_title'))\n",
    "\n",
    "    for idx, img_url in enumerate(article.get('images', [])):\n",
    "        try:\n",
    "            parsed_url = urlparse(img_url)\n",
    "            img_name = os.path.basename(parsed_url.path)\n",
    "            img_ext = os.path.splitext(img_name)[-1] or '.jpg'\n",
    "            img_file_slug = slugify(os.path.splitext(img_name)[0])\n",
    "            filename = f'issue_{issue}_title_{title_slug}_img_{idx}_{img_file_slug}{img_ext}'\n",
    "            if filtration_by_filename(filename):\n",
    "                print(f\"Filtered: {filename}\")\n",
    "                continue\n",
    "  \n",
    "            filepath = os.path.join(output_dir, filename)\n",
    "            \n",
    "            # load and save image from url\n",
    "            response = requests.get(img_url, timeout=10)\n",
    "            response.raise_for_status()\n",
    "            with open(filepath, 'wb') as f:\n",
    "                f.write(response.content)\n",
    "            print(f\"Saved: {filename}\")\n",
    "            \n",
    "            # save data parameters into json\n",
    "            uris.append(filename)\n",
    "            print({'url': url, 'issue':issue, 'title':title_slug})\n",
    "            metadata.append({'url': url, 'issue':issue, 'title':title_slug})\n",
    "        except Exception as e:\n",
    "            print(f\"Error downloading {img_url}: {e}\")\n",
    "\n",
    "export_data = {\n",
    "    \"uris\": uris,\n",
    "    \"metadata\": metadata\n",
    "}\n",
    "\n",
    "with open(f'../{Config.dataset_path}/photo_data.json', 'w') as f:\n",
    "    json.dump(export_data, f)\n",
    "\n",
    "print(f\"Data exported to {Config.dataset_path}/photo_data.json\")"
   ],
   "outputs": [
    {
     "name": "stderr",
     "output_type": "stream",
     "text": [
      "100%|██████████| 1134/1134 [00:00<00:00, 35394.71it/s]"
     ]
    },
    {
     "name": "stdout",
     "output_type": "stream",
     "text": [
      "issue_1_title_this_shirt_hates_surveillance_img_0_adversarial20fashion.gif\n",
      "{'url': 'https://www.deeplearning.ai/the-batch/issue-1/', 'issue': 1, 'title': 'this_shirt_hates_surveillance'}\n",
      "issue_1_title_deepmind_results_raise_questions_img_0_1_deepmind.jpg\n",
      "{'url': 'https://www.deeplearning.ai/the-batch/issue-1/', 'issue': 1, 'title': 'deepmind_results_raise_questions'}\n",
      "issue_1_title_bert_is_back_img_0_1_cropped20roberta.png\n",
      "{'url': 'https://www.deeplearning.ai/the-batch/issue-1/', 'issue': 1, 'title': 'bert_is_back'}\n",
      "issue_1_title_a_message_fromdeeplearningai_img_0_1_coursead-dlsoptimizationalgorithms.png\n",
      "Filtered: issue_1_title_a_message_fromdeeplearningai_img_0_1_coursead-dlsoptimizationalgorithms.png\n",
      "issue_1_title_standards_in_the_making_img_0_1_nist.png\n",
      "{'url': 'https://www.deeplearning.ai/the-batch/issue-1/', 'issue': 1, 'title': 'standards_in_the_making'}\n",
      "issue_1_title_style_upgrade_img_0_1_style20320sized-1024x577.png\n",
      "{'url': 'https://www.deeplearning.ai/the-batch/issue-1/', 'issue': 1, 'title': 'style_upgrade'}\n",
      "issue_2_title_size_matters_img_0_1_cerebras220sized.png\n",
      "{'url': 'https://www.deeplearning.ai/the-batch/issue-2/', 'issue': 2, 'title': 'size_matters'}\n",
      "issue_2_title_get_your_kicks_with_drl_img_0_1_soccer.gif\n",
      "{'url': 'https://www.deeplearning.ai/the-batch/issue-2/', 'issue': 2, 'title': 'get_your_kicks_with_drl'}\n",
      "issue_2_title_in_a_galaxy_far_far_away_img_0_1_radio20waves20sized-1024x576.png\n",
      "{'url': 'https://www.deeplearning.ai/the-batch/issue-2/', 'issue': 2, 'title': 'in_a_galaxy_far_far_away'}\n",
      "issue_2_title_a_message_fromdeeplearningai_img_0_1_avoid20pitfalls.png\n",
      "{'url': 'https://www.deeplearning.ai/the-batch/issue-2/', 'issue': 2, 'title': 'a_message_fromdeeplearningai'}\n",
      "issue_2_title_second_sight_img_0_1_ezgifcom-resize.gif\n",
      "{'url': 'https://www.deeplearning.ai/the-batch/issue-2/', 'issue': 2, 'title': 'second_sight'}\n",
      "issue_2_title_scaling_bayes_img_0_1_screen20shot202019-08-2720at203121620pm.png\n",
      "{'url': 'https://www.deeplearning.ai/the-batch/issue-2/', 'issue': 2, 'title': 'scaling_bayes'}\n",
      "issue_4_title_can_ai_wage_war_should_it_img_0_xq-58a.gif\n",
      "{'url': 'https://www.deeplearning.ai/the-batch/issue-4/', 'issue': 4, 'title': 'can_ai_wage_war_should_it'}\n",
      "issue_4_title_what_language_models_know_img_0_questionanswer.png\n",
      "{'url': 'https://www.deeplearning.ai/the-batch/issue-4/', 'issue': 4, 'title': 'what_language_models_know'}\n",
      "issue_4_title_chimp_recognition_img_0_chimpanzees20faces.gif\n",
      "{'url': 'https://www.deeplearning.ai/the-batch/issue-4/', 'issue': 4, 'title': 'chimp_recognition'}\n",
      "issue_4_title_a_message_fromdeeplearningai_img_0_screen20shot202019-09-1120at2010452720am.png\n",
      "{'url': 'https://www.deeplearning.ai/the-batch/issue-4/', 'issue': 4, 'title': 'a_message_fromdeeplearningai'}\n",
      "issue_4_title_facing_down_deepfakes_img_0_fb20deepfake20challenge.gif\n",
      "{'url': 'https://www.deeplearning.ai/the-batch/issue-4/', 'issue': 4, 'title': 'facing_down_deepfakes'}\n",
      "issue_4_title_leveling_the_playing_field_img_0_atari20cropped.png\n",
      "{'url': 'https://www.deeplearning.ai/the-batch/issue-4/', 'issue': 4, 'title': 'leveling_the_playing_field'}\n",
      "issue_4_title_automations_frontier_fast_food_img_0_ezgifcom-gif-maker201.gif\n",
      "{'url': 'https://www.deeplearning.ai/the-batch/issue-4/', 'issue': 4, 'title': 'automations_frontier_fast_food'}\n",
      "issue_5_title_agbots_want_jobs_americans_dont_img_0_ezgifcom-video-to-gif201-1.gif\n",
      "{'url': 'https://www.deeplearning.ai/the-batch/issue-5/', 'issue': 5, 'title': 'agbots_want_jobs_americans_dont'}\n",
      "issue_5_title_speech_recognition_with_an_accent_img_0_speech20recognition.png\n",
      "{'url': 'https://www.deeplearning.ai/the-batch/issue-5/', 'issue': 5, 'title': 'speech_recognition_with_an_accent'}\n",
      "issue_5_title_generative_models_rock_img_0_generative20models.png\n",
      "{'url': 'https://www.deeplearning.ai/the-batch/issue-5/', 'issue': 5, 'title': 'generative_models_rock'}\n",
      "issue_5_title_a_message_fromdeeplearningai_img_0_1_dls20course20420course20ad20fixed20size.png\n",
      "Filtered: issue_5_title_a_message_fromdeeplearningai_img_0_1_dls20course20420course20ad20fixed20size.png\n",
      "issue_5_title_my_chatbot_will_call_your_chatbot_img_0_ezgifcom-resize-1.gif\n",
      "{'url': 'https://www.deeplearning.ai/the-batch/issue-5/', 'issue': 5, 'title': 'my_chatbot_will_call_your_chatbot'}\n",
      "issue_5_title_working_through_uncertainty_img_0_working20through20uncertainty.png\n",
      "{'url': 'https://www.deeplearning.ai/the-batch/issue-5/', 'issue': 5, 'title': 'working_through_uncertainty'}\n",
      "issue_5_title_easing_cross-border_collaboration_img_0_easing20cross20border20collaboration.png\n",
      "{'url': 'https://www.deeplearning.ai/the-batch/issue-5/', 'issue': 5, 'title': 'easing_cross-border_collaboration'}\n",
      "issue_6_title_ready_or_not_img_0_ezgifcom-resize201201.gif\n",
      "{'url': 'https://www.deeplearning.ai/the-batch/issue-6/', 'issue': 6, 'title': 'ready_or_not'}\n",
      "issue_6_title_ai_knows_who_labeled_the_data_img_0_annotator.png\n",
      "{'url': 'https://www.deeplearning.ai/the-batch/issue-6/', 'issue': 6, 'title': 'ai_knows_who_labeled_the_data'}\n",
      "issue_6_title_robots_put_down_stakes_img_0_ezgifcom-resize201.gif\n",
      "{'url': 'https://www.deeplearning.ai/the-batch/issue-6/', 'issue': 6, 'title': 'robots_put_down_stakes'}\n",
      "issue_6_title_a_message_fromdeeplearningai_img_0_screen20shot202019-08-2620at203204220pm.png\n",
      "{'url': 'https://www.deeplearning.ai/the-batch/issue-6/', 'issue': 6, 'title': 'a_message_fromdeeplearningai'}\n",
      "issue_6_title_the_long_and_short_of_it_img_0_screen20shot202019-09-2420at2012321720pm.png\n",
      "{'url': 'https://www.deeplearning.ai/the-batch/issue-6/', 'issue': 6, 'title': 'the_long_and_short_of_it'}\n",
      "issue_6_title_are_those_results_reproducible_img_0_screen20shot202019-09-2420at2012355620pm.png\n",
      "{'url': 'https://www.deeplearning.ai/the-batch/issue-6/', 'issue': 6, 'title': 'are_those_results_reproducible'}\n",
      "issue_6_title_watching_the_watchers_img_0_ezgifcom-resize204.gif\n",
      "{'url': 'https://www.deeplearning.ai/the-batch/issue-6/', 'issue': 6, 'title': 'watching_the_watchers'}\n",
      "issue_7_title_quantum_leap_img_0_screen20shot202019-10-0120at2010102120am.png\n",
      "{'url': 'https://www.deeplearning.ai/the-batch/issue-7/', 'issue': 7, 'title': 'quantum_leap'}\n",
      "issue_7_title_anonymous_faces_img_0_screen20shot202019-09-2720at2011522720am.png\n",
      "{'url': 'https://www.deeplearning.ai/the-batch/issue-7/', 'issue': 7, 'title': 'anonymous_faces'}\n",
      "issue_7_title_nothing_but_neural_net_img_0_basketball2.gif\n",
      "{'url': 'https://www.deeplearning.ai/the-batch/issue-7/', 'issue': 7, 'title': 'nothing_but_neural_net'}\n",
      "issue_7_title_a_message_fromdeeplearningai_img_0_1_dls20course20520course20ad.png\n",
      "Filtered: issue_7_title_a_message_fromdeeplearningai_img_0_1_dls20course20520course20ad.png\n",
      "issue_7_title_amazon_prepares_for_a_crackdown_img_0_screen20shot202019-09-3020at202084320pm.png\n",
      "{'url': 'https://www.deeplearning.ai/the-batch/issue-7/', 'issue': 7, 'title': 'amazon_prepares_for_a_crackdown'}\n",
      "issue_7_title_putting_text_generators_on_a_leash_img_0_ctrl2.png\n",
      "{'url': 'https://www.deeplearning.ai/the-batch/issue-7/', 'issue': 7, 'title': 'putting_text_generators_on_a_leash'}\n",
      "issue_7_title_prelude_to_a_quake_img_0_screen20shot202019-10-0120at205281420pm.png\n",
      "{'url': 'https://www.deeplearning.ai/the-batch/issue-7/', 'issue': 7, 'title': 'prelude_to_a_quake'}\n",
      "issue_8_title_tesla_bets_on_slim_neural_nets_img_0_deep20scale20resized.gif\n",
      "{'url': 'https://www.deeplearning.ai/the-batch/issue-8/', 'issue': 8, 'title': 'tesla_bets_on_slim_neural_nets'}\n",
      "issue_8_title_hidden_findings_revealed_img_0_supplements20resized.png\n",
      "{'url': 'https://www.deeplearning.ai/the-batch/issue-8/', 'issue': 8, 'title': 'hidden_findings_revealed'}\n",
      "issue_8_title_want_your_pension_send_a_selfie_img_0_alicem.png\n",
      "{'url': 'https://www.deeplearning.ai/the-batch/issue-8/', 'issue': 8, 'title': 'want_your_pension_send_a_selfie'}\n",
      "issue_8_title_a_message_fromdeeplearningai_img_0_course20ad2016.png\n",
      "Filtered: issue_8_title_a_message_fromdeeplearningai_img_0_course20ad2016.png\n",
      "issue_8_title_a_robot_in_every_kitchen_img_0_toyota20robot20resized.gif\n",
      "{'url': 'https://www.deeplearning.ai/the-batch/issue-8/', 'issue': 8, 'title': 'a_robot_in_every_kitchen'}\n",
      "issue_8_title_deep_learning_tackles_skin_ailments_img_0_skin20resized.png\n",
      "{'url': 'https://www.deeplearning.ai/the-batch/issue-8/', 'issue': 8, 'title': 'deep_learning_tackles_skin_ailments'}\n",
      "issue_8_title_ai_startups_in_demand_img_0_cb20insights20graph20resized.png\n",
      "{'url': 'https://www.deeplearning.ai/the-batch/issue-8/', 'issue': 8, 'title': 'ai_startups_in_demand'}\n",
      "issue_9_title_autonomous_drones_ready_to_race_img_0_drone20gif20sized.gif\n",
      "{'url': 'https://www.deeplearning.ai/the-batch/issue-9/', 'issue': 9, 'title': 'autonomous_drones_ready_to_race'}\n",
      "issue_9_title_high_accuracy_low_compute_img_0_pruning2.png\n",
      "{'url': 'https://www.deeplearning.ai/the-batch/issue-9/', 'issue': 9, 'title': 'high_accuracy_low_compute'}\n",
      "issue_9_title_clash_of_the_frameworks_img_0_tf-pt2.png\n",
      "{'url': 'https://www.deeplearning.ai/the-batch/issue-9/', 'issue': 9, 'title': 'clash_of_the_frameworks'}\n",
      "issue_9_title_a_message_fromdeeplearningai_img_0_dls20course20420course20ad20fixed20size.png\n",
      "Filtered: issue_9_title_a_message_fromdeeplearningai_img_0_dls20course20420course20ad20fixed20size.png\n",
      "issue_9_title_power_of_babel_img_0_languages2.png\n",
      "{'url': 'https://www.deeplearning.ai/the-batch/issue-9/', 'issue': 9, 'title': 'power_of_babel'}\n",
      "issue_9_title_two_steps_to_better_summaries_img_0_screen20shot202019-09-2720at2012444820pm.png\n",
      "{'url': 'https://www.deeplearning.ai/the-batch/issue-9/', 'issue': 9, 'title': 'two_steps_to_better_summaries'}\n",
      "issue_10_title_cube_controversy_img_0_rubik20sized.gif\n",
      "{'url': 'https://www.deeplearning.ai/the-batch/issue-10/', 'issue': 10, 'title': 'cube_controversy'}\n",
      "issue_10_title_public_access_private_faces_img_0_flickr20sized.png\n",
      "{'url': 'https://www.deeplearning.ai/the-batch/issue-10/', 'issue': 10, 'title': 'public_access_private_faces'}\n",
      "issue_10_title_cracking_open_doctors_notes_img_0_hip20replacement20sized.png\n",
      "{'url': 'https://www.deeplearning.ai/the-batch/issue-10/', 'issue': 10, 'title': 'cracking_open_doctors_notes'}\n",
      "issue_10_title_a_message_fromdeeplearningai_img_0_dls20course20120course20ad.png\n",
      "Filtered: issue_10_title_a_message_fromdeeplearningai_img_0_dls20course20120course20ad.png\n",
      "issue_10_title_robot_tanks_on_the_march_img_0_tanks20sized.gif\n",
      "{'url': 'https://www.deeplearning.ai/the-batch/issue-10/', 'issue': 10, 'title': 'robot_tanks_on_the_march'}\n",
      "issue_10_title_new_materials_courtesy_of_bayes_img_0_materials20sized.gif\n",
      "{'url': 'https://www.deeplearning.ai/the-batch/issue-10/', 'issue': 10, 'title': 'new_materials_courtesy_of_bayes'}\n",
      "issue_10_title_how_neural_networks_generalize_img_0_systemic20reasoning20sized.png\n",
      "{'url': 'https://www.deeplearning.ai/the-batch/issue-10/', 'issue': 10, 'title': 'how_neural_networks_generalize'}\n",
      "issue_11_title_ghosts_in_the_machine_img_0_andrewletter.png\n",
      "{'url': 'https://www.deeplearning.ai/the-batch/issue-11/', 'issue': 11, 'title': 'ghosts_in_the_machine'}\n",
      "issue_11_title_ghosts_in_the_machine_img_1_intro-1.png\n",
      "{'url': 'https://www.deeplearning.ai/the-batch/issue-11/', 'issue': 11, 'title': 'ghosts_in_the_machine'}\n",
      "issue_11_title_ai_goes_rogue_img_0_screen20shot202019-10-3020at2010435220am.png\n",
      "{'url': 'https://www.deeplearning.ai/the-batch/issue-11/', 'issue': 11, 'title': 'ai_goes_rogue'}\n",
      "issue_11_title_deepfakes_wreak_havoc_img_0_fakery-1.png\n",
      "{'url': 'https://www.deeplearning.ai/the-batch/issue-11/', 'issue': 11, 'title': 'deepfakes_wreak_havoc'}\n",
      "issue_11_title_no_escape_from_surveillance_img_0_surveillance201-1.png\n",
      "{'url': 'https://www.deeplearning.ai/the-batch/issue-11/', 'issue': 11, 'title': 'no_escape_from_surveillance'}\n",
      "issue_11_title_a_message_fromdeeplearningai_img_0_email-bobrossmemead.jpg\n",
      "{'url': 'https://www.deeplearning.ai/the-batch/issue-11/', 'issue': 11, 'title': 'a_message_fromdeeplearningai'}\n",
      "issue_11_title_biased_data_trains_oppressive_ai_img_0_biased20data-1.png\n",
      "{'url': 'https://www.deeplearning.ai/the-batch/issue-11/', 'issue': 11, 'title': 'biased_data_trains_oppressive_ai'}\n",
      "issue_11_title_machines_take_everyones_job_img_0_workforce20displacement-1.png\n",
      "{'url': 'https://www.deeplearning.ai/the-batch/issue-11/', 'issue': 11, 'title': 'machines_take_everyones_job'}\n",
      "issue_11_title_ai_winter_sets_in_img_0_ai20winter-1.png\n",
      "{'url': 'https://www.deeplearning.ai/the-batch/issue-11/', 'issue': 11, 'title': 'ai_winter_sets_in'}\n",
      "issue_14_title_what_the_watchbot_sees_img_0_knightscope.gif\n",
      "{'url': 'https://www.deeplearning.ai/the-batch/issue-14/', 'issue': 14, 'title': 'what_the_watchbot_sees'}\n",
      "issue_14_title_nose_job_img_0_scentssized.png\n",
      "{'url': 'https://www.deeplearning.ai/the-batch/issue-14/', 'issue': 14, 'title': 'nose_job'}\n",
      "issue_14_title_researchers_blocked_at_the_border_img_0_visas20sized.png\n",
      "{'url': 'https://www.deeplearning.ai/the-batch/issue-14/', 'issue': 14, 'title': 'researchers_blocked_at_the_border'}\n",
      "issue_14_title_a_message_fromdeeplearningai_img_0_1_dls20course20520course20ad.png\n",
      "Filtered: issue_14_title_a_message_fromdeeplearningai_img_0_1_dls20course20520course20ad.png\n",
      "issue_14_title_when_private_data_is_not_private_img_0_nightingale20sized.png\n",
      "{'url': 'https://www.deeplearning.ai/the-batch/issue-14/', 'issue': 14, 'title': 'when_private_data_is_not_private'}\n",
      "issue_14_title_beyond_the_bounding_box_img_0_reppoints20sized.png\n",
      "{'url': 'https://www.deeplearning.ai/the-batch/issue-14/', 'issue': 14, 'title': 'beyond_the_bounding_box'}\n",
      "issue_15_title_a_sleeping_giant_stirs_img_0_sony.gif\n",
      "{'url': 'https://www.deeplearning.ai/the-batch/issue-15/', 'issue': 15, 'title': 'a_sleeping_giant_stirs'}\n",
      "issue_15_title_bias_goes_undercover_img_0_bias20sized201.png\n",
      "{'url': 'https://www.deeplearning.ai/the-batch/issue-15/', 'issue': 15, 'title': 'bias_goes_undercover'}\n",
      "issue_15_title_a_message_fromdeeplearningai_img_0_1_dls20course20420course20ad20fixed20size.png\n",
      "Filtered: issue_15_title_a_message_fromdeeplearningai_img_0_1_dls20course20420course20ad20fixed20size.png\n",
      "issue_15_title_not_your_fathers_gpu_img_0_chips20sized.png\n",
      "{'url': 'https://www.deeplearning.ai/the-batch/issue-15/', 'issue': 15, 'title': 'not_your_fathers_gpu'}\n",
      "issue_15_title_melding_transformers_with_rl_img_0_screen20shot202019-11-2720at2011003120am.png\n",
      "{'url': 'https://www.deeplearning.ai/the-batch/issue-15/', 'issue': 15, 'title': 'melding_transformers_with_rl'}\n",
      "issue_16_title_solar_power_heats_up_img_0_solar-small.gif\n",
      "{'url': 'https://www.deeplearning.ai/the-batch/issue-16/', 'issue': 16, 'title': 'solar_power_heats_up'}\n",
      "issue_16_title_bias_fighter_img_0_bias-resilience-sized.png\n",
      "{'url': 'https://www.deeplearning.ai/the-batch/issue-16/', 'issue': 16, 'title': 'bias_fighter'}\n",
      "issue_16_title_prehistoric_pictures_rediscovered_img_0_nazca-sized-1.png\n",
      "{'url': 'https://www.deeplearning.ai/the-batch/issue-16/', 'issue': 16, 'title': 'prehistoric_pictures_rediscovered'}\n",
      "issue_16_title_no_text_img_0_ezgifcom-video-to-gif-1.gif\n",
      "{'url': 'https://www.deeplearning.ai/the-batch/issue-16/', 'issue': 16, 'title': 'no_text'}\n",
      "issue_16_title_googles_ai_explains_itself_img_0_explainability-sized.png\n",
      "{'url': 'https://www.deeplearning.ai/the-batch/issue-16/', 'issue': 16, 'title': 'googles_ai_explains_itself'}\n",
      "issue_16_title_bigger_corpora_better_answers_img_0_knowledge-graph-sized-1.png\n",
      "{'url': 'https://www.deeplearning.ai/the-batch/issue-16/', 'issue': 16, 'title': 'bigger_corpora_better_answers'}\n",
      "issue_16_title_is_ai_making_mastery_obsolete_img_0_sedol-sized.png\n",
      "{'url': 'https://www.deeplearning.ai/the-batch/issue-16/', 'issue': 16, 'title': 'is_ai_making_mastery_obsolete'}\n",
      "issue_17_title_neighborhood_watchers_img_0_ring2.gif\n",
      "{'url': 'https://www.deeplearning.ai/the-batch/issue-17/', 'issue': 17, 'title': 'neighborhood_watchers'}\n",
      "issue_17_title_keeping_the_facts_straight_img_0_factual20consistency.png\n",
      "{'url': 'https://www.deeplearning.ai/the-batch/issue-17/', 'issue': 17, 'title': 'keeping_the_facts_straight'}\n",
      "issue_17_title_predicting_the_next_eruption_img_0_volcano2.gif\n",
      "{'url': 'https://www.deeplearning.ai/the-batch/issue-17/', 'issue': 17, 'title': 'predicting_the_next_eruption'}\n",
      "issue_17_title_a_message_fromdeeplearningai_img_0_ezgifcom-resize-3.gif\n",
      "{'url': 'https://www.deeplearning.ai/the-batch/issue-17/', 'issue': 17, 'title': 'a_message_fromdeeplearningai'}\n",
      "issue_17_title_fighting_fakes_img_0_deepfake2.gif\n",
      "{'url': 'https://www.deeplearning.ai/the-batch/issue-17/', 'issue': 17, 'title': 'fighting_fakes'}\n",
      "issue_17_title_seeing_the_world_blindfolded_img_0_ezgifcom-optimize201.gif\n",
      "{'url': 'https://www.deeplearning.ai/the-batch/issue-17/', 'issue': 17, 'title': 'seeing_the_world_blindfolded'}\n",
      "issue_17_title_transparency_for_military_ai_img_0_foia.gif\n",
      "{'url': 'https://www.deeplearning.ai/the-batch/issue-17/', 'issue': 17, 'title': 'transparency_for_military_ai'}\n",
      "issue_18_title_deployment_gap_img_0_algorithmia220aspect.png\n",
      "{'url': 'https://www.deeplearning.ai/the-batch/issue-18/', 'issue': 18, 'title': 'deployment_gap'}\n",
      "issue_18_title_self-training_for_sharper_vision_img_0_noisy20student20aspect.png\n",
      "{'url': 'https://www.deeplearning.ai/the-batch/issue-18/', 'issue': 18, 'title': 'self-training_for_sharper_vision'}\n",
      "issue_18_title_inside_ais_muppet_empire_img_0_muppets.gif\n",
      "{'url': 'https://www.deeplearning.ai/the-batch/issue-18/', 'issue': 18, 'title': 'inside_ais_muppet_empire'}\n",
      "issue_18_title_a_message_fromdeeplearningai_img_0_ezgifcom-resize-3.gif\n",
      "{'url': 'https://www.deeplearning.ai/the-batch/issue-18/', 'issue': 18, 'title': 'a_message_fromdeeplearningai'}\n",
      "issue_18_title_competition_or_cooperation_img_0_arms20race20aspect.png\n",
      "{'url': 'https://www.deeplearning.ai/the-batch/issue-18/', 'issue': 18, 'title': 'competition_or_cooperation'}\n",
      "issue_18_title_different_skills_from_different_demos_img_0_iris20aspect.png\n",
      "{'url': 'https://www.deeplearning.ai/the-batch/issue-18/', 'issue': 18, 'title': 'different_skills_from_different_demos'}\n",
      "issue_18_title_ip_for_ai_img_0_patents20aspect-1.png\n",
      "{'url': 'https://www.deeplearning.ai/the-batch/issue-18/', 'issue': 18, 'title': 'ip_for_ai'}\n",
      "issue_19_title__img_0_andrews20letter202.png\n",
      "{'url': 'https://www.deeplearning.ai/the-batch/issue-19/', 'issue': 19, 'title': ''}\n",
      "issue_19_title_language_models_get_literate_img_0_language20models.png\n",
      "{'url': 'https://www.deeplearning.ai/the-batch/issue-19/', 'issue': 19, 'title': 'language_models_get_literate'}\n",
      "issue_19_title_face_recognition_meets_resistance_img_0_recognition20backlash.png\n",
      "{'url': 'https://www.deeplearning.ai/the-batch/issue-19/', 'issue': 19, 'title': 'face_recognition_meets_resistance'}\n",
      "issue_19_title_driverless_cars_stall_img_0_driverless20cars.png\n",
      "{'url': 'https://www.deeplearning.ai/the-batch/issue-19/', 'issue': 19, 'title': 'driverless_cars_stall'}\n",
      "issue_19_title_deepfakes_go_mainstream_img_0_generative20models-1.png\n",
      "{'url': 'https://www.deeplearning.ai/the-batch/issue-19/', 'issue': 19, 'title': 'deepfakes_go_mainstream'}\n",
      "issue_19_title_simulation_substitutes_for_data_img_0_rl.png\n",
      "{'url': 'https://www.deeplearning.ai/the-batch/issue-19/', 'issue': 19, 'title': 'simulation_substitutes_for_data'}\n",
      "issue_19_title_a_smoldering_conflict_flares_img_0_twitter20fight.png\n",
      "{'url': 'https://www.deeplearning.ai/the-batch/issue-19/', 'issue': 19, 'title': 'a_smoldering_conflict_flares'}\n",
      "issue_20_title_high_hopes_for_2020_img_0_screen20shot202019-12-3120at202295920pm.png\n",
      "{'url': 'https://www.deeplearning.ai/the-batch/issue-20/', 'issue': 20, 'title': 'high_hopes_for_2020'}\n",
      "issue_20_title_anima_anandkumar_the_power_of_simulation_img_0_anima20anandkumar20sized-1.png\n",
      "{'url': 'https://www.deeplearning.ai/the-batch/issue-20/', 'issue': 20, 'title': 'anima_anandkumar_the_power_of_simulation'}\n",
      "issue_20_title_oren_etzioni_tools_for_equality_img_0_oren20etzioni20aspect.png\n",
      "{'url': 'https://www.deeplearning.ai/the-batch/issue-20/', 'issue': 20, 'title': 'oren_etzioni_tools_for_equality'}\n",
      "issue_20_title_chelsea_finn_robots_that_generalize_img_0_chelsea20finn20sized-1.png\n",
      "{'url': 'https://www.deeplearning.ai/the-batch/issue-20/', 'issue': 20, 'title': 'chelsea_finn_robots_that_generalize'}\n",
      "issue_20_title_yann_lecun_learning_from_observation_img_0_yann20lecun20aspect.png\n",
      "{'url': 'https://www.deeplearning.ai/the-batch/issue-20/', 'issue': 20, 'title': 'yann_lecun_learning_from_observation'}\n",
      "issue_20_title_kai-fu_lee_ai_everywhere_img_0_kai-fu20lee20sized-1.png\n",
      "{'url': 'https://www.deeplearning.ai/the-batch/issue-20/', 'issue': 20, 'title': 'kai-fu_lee_ai_everywhere'}\n",
      "issue_20_title_david_patterson_faster_training_and_inference_img_0_davidpatterson220aspect.png\n",
      "{'url': 'https://www.deeplearning.ai/the-batch/issue-20/', 'issue': 20, 'title': 'david_patterson_faster_training_and_inference'}\n",
      "issue_20_title_richard_socher_boiling_the_information_ocean_img_0_richard20socher20sized-1.png\n",
      "{'url': 'https://www.deeplearning.ai/the-batch/issue-20/', 'issue': 20, 'title': 'richard_socher_boiling_the_information_ocean'}\n",
      "issue_20_title_dawn_song_taking_responsibility_for_data_img_0_dawn20song20aspect.png\n",
      "{'url': 'https://www.deeplearning.ai/the-batch/issue-20/', 'issue': 20, 'title': 'dawn_song_taking_responsibility_for_data'}\n",
      "issue_20_title_zhi-hua_zhou_fresh_methods_clear_guidelines_img_0_zhi-hua20zhou20sized-1.png\n",
      "{'url': 'https://www.deeplearning.ai/the-batch/issue-20/', 'issue': 20, 'title': 'zhi-hua_zhou_fresh_methods_clear_guidelines'}\n",
      "issue_21_title_imagenet_gets_a_makeover_img_0_imagenet20bias20aspect202.png\n",
      "{'url': 'https://www.deeplearning.ai/the-batch/issue-21/', 'issue': 21, 'title': 'imagenet_gets_a_makeover'}\n",
      "issue_21_title_language_modeling_on_one_gpu_img_0_sha-rnn20aspect.png\n",
      "{'url': 'https://www.deeplearning.ai/the-batch/issue-21/', 'issue': 21, 'title': 'language_modeling_on_one_gpu'}\n",
      "issue_21_title_facebook_vs_deepfakes_img_0_facebook20deepfakes.gif\n",
      "{'url': 'https://www.deeplearning.ai/the-batch/issue-21/', 'issue': 21, 'title': 'facebook_vs_deepfakes'}\n",
      "issue_21_title_a_message_fromdeeplearningai_img_0_ezgifcom-resize-3.gif\n",
      "{'url': 'https://www.deeplearning.ai/the-batch/issue-21/', 'issue': 21, 'title': 'a_message_fromdeeplearningai'}\n",
      "issue_21_title_cancer_in_the_crosshairs_img_0_google20breast20cancer20aspect202.png\n",
      "{'url': 'https://www.deeplearning.ai/the-batch/issue-21/', 'issue': 21, 'title': 'cancer_in_the_crosshairs'}\n",
      "issue_21_title_tracking_ais_global_growth_img_0_ai20index20aspect202.png\n",
      "{'url': 'https://www.deeplearning.ai/the-batch/issue-21/', 'issue': 21, 'title': 'tracking_ais_global_growth'}\n",
      "issue_21_title_easy_on_the_eyes_img_0_efficientdet20aspect.png\n",
      "{'url': 'https://www.deeplearning.ai/the-batch/issue-21/', 'issue': 21, 'title': 'easy_on_the_eyes'}\n",
      "issue_22_title_ai_steals_ces_img_0_ces2.gif\n",
      "{'url': 'https://www.deeplearning.ai/the-batch/issue-22/', 'issue': 22, 'title': 'ai_steals_ces'}\n",
      "issue_22_title_neural_networks_study_math_img_0_symbolic20math20aspect.png\n",
      "{'url': 'https://www.deeplearning.ai/the-batch/issue-22/', 'issue': 22, 'title': 'neural_networks_study_math'}\n",
      "issue_22_title_here_be_dragons_img_0_ezgifcom-optimize-1.gif\n",
      "{'url': 'https://www.deeplearning.ai/the-batch/issue-22/', 'issue': 22, 'title': 'here_be_dragons'}\n",
      "issue_22_title_a_message_fromdeeplearningai_img_0_1_1200x675jan.jpg\n",
      "{'url': 'https://www.deeplearning.ai/the-batch/issue-22/', 'issue': 22, 'title': 'a_message_fromdeeplearningai'}\n",
      "issue_22_title_forecasting_blockbusters_img_0_cinelytic20aspect.png\n",
      "{'url': 'https://www.deeplearning.ai/the-batch/issue-22/', 'issue': 22, 'title': 'forecasting_blockbusters'}\n",
      "issue_22_title_two-way_winner_img_0_atari2.gif\n",
      "{'url': 'https://www.deeplearning.ai/the-batch/issue-22/', 'issue': 22, 'title': 'two-way_winner'}\n",
      "issue_22_title_white_house_go_easy_on_ai_img_0_white20house20220aspect.png\n",
      "{'url': 'https://www.deeplearning.ai/the-batch/issue-22/', 'issue': 22, 'title': 'white_house_go_easy_on_ai'}\n",
      "issue_23_title_virtual_creatures_come_to_life_img_0_frogs.gif\n",
      "{'url': 'https://www.deeplearning.ai/the-batch/issue-23/', 'issue': 23, 'title': 'virtual_creatures_come_to_life'}\n",
      "issue_23_title_better_than_backprop_img_0_infomax20aspect201.png\n",
      "{'url': 'https://www.deeplearning.ai/the-batch/issue-23/', 'issue': 23, 'title': 'better_than_backprop'}\n",
      "issue_23_title_steal_your_face_img_0_clearview20220aspect.png\n",
      "{'url': 'https://www.deeplearning.ai/the-batch/issue-23/', 'issue': 23, 'title': 'steal_your_face'}\n",
      "issue_23_title_a_message_fromdeeplearningai_img_0_1_ezgifcom-resize-4.gif\n",
      "{'url': 'https://www.deeplearning.ai/the-batch/issue-23/', 'issue': 23, 'title': 'a_message_fromdeeplearningai'}\n",
      "issue_23_title_hrs_robot_helper_img_0_ezgifcom-optimize201-1.gif\n",
      "{'url': 'https://www.deeplearning.ai/the-batch/issue-23/', 'issue': 23, 'title': 'hrs_robot_helper'}\n",
      "issue_23_title_upgrading_softmax_img_0_mixtape20aspect201.png\n",
      "{'url': 'https://www.deeplearning.ai/the-batch/issue-23/', 'issue': 23, 'title': 'upgrading_softmax'}\n",
      "issue_23_title_bad_recommendations_img_0_youtube203.png\n",
      "{'url': 'https://www.deeplearning.ai/the-batch/issue-23/', 'issue': 23, 'title': 'bad_recommendations'}\n",
      "issue_24_title_stopping_coronavirus_img_0_coronavirus20aspect.png\n",
      "{'url': 'https://www.deeplearning.ai/the-batch/issue-24/', 'issue': 24, 'title': 'stopping_coronavirus'}\n",
      "issue_24_title_helpful_neighbors_img_0_k20nearest20neighbors20aspect.png\n",
      "{'url': 'https://www.deeplearning.ai/the-batch/issue-24/', 'issue': 24, 'title': 'helpful_neighbors'}\n",
      "issue_24_title_the_right_problem_for_your_solution_img_0_github20aspect.png\n",
      "{'url': 'https://www.deeplearning.ai/the-batch/issue-24/', 'issue': 24, 'title': 'the_right_problem_for_your_solution'}\n",
      "issue_24_title_a_message_fromdeeplearningai_img_0_1200x675jan.jpg\n",
      "{'url': 'https://www.deeplearning.ai/the-batch/issue-24/', 'issue': 24, 'title': 'a_message_fromdeeplearningai'}\n",
      "issue_24_title_hunting_online_drug_dealers_img_0_opioids220aspect.png\n",
      "{'url': 'https://www.deeplearning.ai/the-batch/issue-24/', 'issue': 24, 'title': 'hunting_online_drug_dealers'}\n",
      "issue_24_title_text_to_speech_in_parallel_img_0_fastspeech20aspect.png\n",
      "{'url': 'https://www.deeplearning.ai/the-batch/issue-24/', 'issue': 24, 'title': 'text_to_speech_in_parallel'}\n",
      "issue_24_title_limits_on_ai_job_interviews_img_0_illinois.gif\n",
      "{'url': 'https://www.deeplearning.ai/the-batch/issue-24/', 'issue': 24, 'title': 'limits_on_ai_job_interviews'}\n",
      "issue_26_title_phantom_menace_img_0_phantom.gif\n",
      "{'url': 'https://www.deeplearning.ai/the-batch/issue-26/', 'issue': 26, 'title': 'phantom_menace'}\n",
      "issue_26_title_that_swipe-right_look_img_0_photofeeler20220aspect.png\n",
      "{'url': 'https://www.deeplearning.ai/the-batch/issue-26/', 'issue': 26, 'title': 'that_swipe-right_look'}\n",
      "issue_26_title_tools_for_a_pandemic_img_0_corona2052020aspect.png\n",
      "{'url': 'https://www.deeplearning.ai/the-batch/issue-26/', 'issue': 26, 'title': 'tools_for_a_pandemic'}\n",
      "issue_26_title_a_message_fromdeeplearningai_img_0_1_ezgifcom-video-to-gif201-2.gif\n",
      "{'url': 'https://www.deeplearning.ai/the-batch/issue-26/', 'issue': 26, 'title': 'a_message_fromdeeplearningai'}\n",
      "issue_26_title_fighting_fakes_img_0_jigsaw202.gif\n",
      "{'url': 'https://www.deeplearning.ai/the-batch/issue-26/', 'issue': 26, 'title': 'fighting_fakes'}\n",
      "issue_26_title_what_love_sounds_like_img_0_pandas20220aspect.png\n",
      "{'url': 'https://www.deeplearning.ai/the-batch/issue-26/', 'issue': 26, 'title': 'what_love_sounds_like'}\n",
      "issue_26_title_extreme_weather_warning_img_0_weather20420aspect.png\n",
      "{'url': 'https://www.deeplearning.ai/the-batch/issue-26/', 'issue': 26, 'title': 'extreme_weather_warning'}\n",
      "issue_27_title_glimpse_my_ride_img_0_license20plate204.gif\n",
      "{'url': 'https://www.deeplearning.ai/the-batch/issue-27/', 'issue': 27, 'title': 'glimpse_my_ride'}\n",
      "issue_27_title_periscope_vision_img_0_corners20220aspect.png\n",
      "{'url': 'https://www.deeplearning.ai/the-batch/issue-27/', 'issue': 27, 'title': 'periscope_vision'}\n",
      "issue_27_title_robocallers_vs_robolawyer_img_0_robo20revenge20220aspect.png\n",
      "{'url': 'https://www.deeplearning.ai/the-batch/issue-27/', 'issue': 27, 'title': 'robocallers_vs_robolawyer'}\n",
      "issue_27_title_a_message_fromdeeplearningai_img_0_1_ezgifcom-video-to-gif201-2.gif\n",
      "{'url': 'https://www.deeplearning.ai/the-batch/issue-27/', 'issue': 27, 'title': 'a_message_fromdeeplearningai'}\n",
      "issue_27_title_meeting_of_the_minds_img_0_godfathers201.gif\n",
      "{'url': 'https://www.deeplearning.ai/the-batch/issue-27/', 'issue': 27, 'title': 'meeting_of_the_minds'}\n",
      "issue_27_title_trading_faces_img_0_faceshifter20aspect.png\n",
      "{'url': 'https://www.deeplearning.ai/the-batch/issue-27/', 'issue': 27, 'title': 'trading_faces'}\n",
      "issue_27_title_business_pushes_the_envelope_img_0_cb20insights20aspect.png\n",
      "{'url': 'https://www.deeplearning.ai/the-batch/issue-27/', 'issue': 27, 'title': 'business_pushes_the_envelope'}\n",
      "issue_30_title_ai_gets_a_grip_img_0_prosthetics1-hand20only2.gif\n",
      "{'url': 'https://www.deeplearning.ai/the-batch/issue-30/', 'issue': 30, 'title': 'ai_gets_a_grip'}\n",
      "issue_30_title_less_labels_more_learning_img_0_fixmatch20aspect.png\n",
      "{'url': 'https://www.deeplearning.ai/the-batch/issue-30/', 'issue': 30, 'title': 'less_labels_more_learning'}\n",
      "issue_30_title_secret_identity_img_0_fawkes20aspect.png\n",
      "{'url': 'https://www.deeplearning.ai/the-batch/issue-30/', 'issue': 30, 'title': 'secret_identity'}\n",
      "issue_30_title_a_message_fromdeeplearningai_img_0_ezgifcom-gif-maker-1.gif\n",
      "{'url': 'https://www.deeplearning.ai/the-batch/issue-30/', 'issue': 30, 'title': 'a_message_fromdeeplearningai'}\n",
      "issue_30_title_clothes_make_the_gan_img_0_fashion2.gif\n",
      "{'url': 'https://www.deeplearning.ai/the-batch/issue-30/', 'issue': 30, 'title': 'clothes_make_the_gan'}\n",
      "issue_30_title_guest_speaker_img_0_deepfakes.gif\n",
      "{'url': 'https://www.deeplearning.ai/the-batch/issue-30/', 'issue': 30, 'title': 'guest_speaker'}\n",
      "issue_30_title_machine_learning_churning_img_0_ai10020aspect.png\n",
      "{'url': 'https://www.deeplearning.ai/the-batch/issue-30/', 'issue': 30, 'title': 'machine_learning_churning'}\n",
      "issue_31_title_no_text_img_0_covid.gif\n",
      "{'url': 'https://www.deeplearning.ai/the-batch/issue-31/', 'issue': 31, 'title': 'no_text'}\n",
      "issue_31_title_no_text_img_0_simclr2022020aspect.png\n",
      "{'url': 'https://www.deeplearning.ai/the-batch/issue-31/', 'issue': 31, 'title': 'no_text'}\n",
      "issue_31_title_no_text_img_0_philippines.gif\n",
      "{'url': 'https://www.deeplearning.ai/the-batch/issue-31/', 'issue': 31, 'title': 'no_text'}\n",
      "issue_31_title_a_message_fromdeeplearningai_img_0_ezgifcom-video-to-gif201-2.gif\n",
      "{'url': 'https://www.deeplearning.ai/the-batch/issue-31/', 'issue': 31, 'title': 'a_message_fromdeeplearningai'}\n",
      "issue_31_title_no_text_img_0_quantum-1.gif\n",
      "{'url': 'https://www.deeplearning.ai/the-batch/issue-31/', 'issue': 31, 'title': 'no_text'}\n",
      "issue_31_title_no_text_img_0_radioactive20aspect.png\n",
      "{'url': 'https://www.deeplearning.ai/the-batch/issue-31/', 'issue': 31, 'title': 'no_text'}\n",
      "issue_31_title_no_text_img_0_cuneiform.gif\n",
      "{'url': 'https://www.deeplearning.ai/the-batch/issue-31/', 'issue': 31, 'title': 'no_text'}\n",
      "issue_32_title_satellite_data_hints_at_china_upswing_img_0_china20econ202.gif\n",
      "{'url': 'https://www.deeplearning.ai/the-batch/issue-32/', 'issue': 32, 'title': 'satellite_data_hints_at_china_upswing'}\n",
      "issue_32_title_silent_snacking_img_0_snack1.gif\n",
      "{'url': 'https://www.deeplearning.ai/the-batch/issue-32/', 'issue': 32, 'title': 'silent_snacking'}\n",
      "issue_32_title_deep_learning_finds_new_antibiotic_img_0_antibiotic20aspect.png\n",
      "{'url': 'https://www.deeplearning.ai/the-batch/issue-32/', 'issue': 32, 'title': 'deep_learning_finds_new_antibiotic'}\n",
      "issue_32_title_a_message_fromdeeplearningai_img_0_ezgifcom-resize-4.gif\n",
      "{'url': 'https://www.deeplearning.ai/the-batch/issue-32/', 'issue': 32, 'title': 'a_message_fromdeeplearningai'}\n",
      "issue_32_title_algorithm_and_blues_img_0_shimon2.gif\n",
      "{'url': 'https://www.deeplearning.ai/the-batch/issue-32/', 'issue': 32, 'title': 'algorithm_and_blues'}\n",
      "issue_32_title_rightsizing_neural_nets_img_0_error20aspect.png\n",
      "{'url': 'https://www.deeplearning.ai/the-batch/issue-32/', 'issue': 32, 'title': 'rightsizing_neural_nets'}\n",
      "issue_32_title_ais_gender_imbalance_img_0_gender20aspect201.png\n",
      "{'url': 'https://www.deeplearning.ai/the-batch/issue-32/', 'issue': 32, 'title': 'ais_gender_imbalance'}\n",
      "issue_36_title_no_text_img_0_1_resources20aspect20replacement.png\n",
      "{'url': 'https://www.deeplearning.ai/the-batch/issue-36/', 'issue': 36, 'title': 'no_text'}\n",
      "issue_36_title_news_img_0_covid-1.gif\n",
      "{'url': 'https://www.deeplearning.ai/the-batch/issue-36/', 'issue': 36, 'title': 'news'}\n",
      "issue_36_title_no_text_img_0_frequency20aspect.png\n",
      "{'url': 'https://www.deeplearning.ai/the-batch/issue-36/', 'issue': 36, 'title': 'no_text'}\n",
      "issue_36_title_no_text_img_0_corn20revised.gif\n",
      "{'url': 'https://www.deeplearning.ai/the-batch/issue-36/', 'issue': 36, 'title': 'no_text'}\n",
      "issue_36_title_a_message_fromdeeplearningai_img_0_ai4mc2batchad.gif\n",
      "{'url': 'https://www.deeplearning.ai/the-batch/issue-36/', 'issue': 36, 'title': 'a_message_fromdeeplearningai'}\n",
      "issue_36_title_no_text_img_0_toilet20aspect.png\n",
      "{'url': 'https://www.deeplearning.ai/the-batch/issue-36/', 'issue': 36, 'title': 'no_text'}\n",
      "issue_36_title_no_text_img_1_place20at20bottom20of20toilets.png\n",
      "{'url': 'https://www.deeplearning.ai/the-batch/issue-36/', 'issue': 36, 'title': 'no_text'}\n",
      "issue_36_title_no_text_img_0_doubledescent20aspect.png\n",
      "{'url': 'https://www.deeplearning.ai/the-batch/issue-36/', 'issue': 36, 'title': 'no_text'}\n",
      "issue_36_title_no_text_img_0_construc1-smartividio.gif\n",
      "{'url': 'https://www.deeplearning.ai/the-batch/issue-36/', 'issue': 36, 'title': 'no_text'}\n",
      "issue_37_title_no_text_img_0_ezgifcom-optimize209.gif\n",
      "{'url': 'https://www.deeplearning.ai/the-batch/issue-37/', 'issue': 37, 'title': 'no_text'}\n",
      "issue_37_title_no_text_img_0_rf1.gif\n",
      "{'url': 'https://www.deeplearning.ai/the-batch/issue-37/', 'issue': 37, 'title': 'no_text'}\n",
      "issue_37_title_no_text_img_0_road.gif\n",
      "{'url': 'https://www.deeplearning.ai/the-batch/issue-37/', 'issue': 37, 'title': 'no_text'}\n",
      "issue_37_title_a_message_fromdeeplearningai_img_0_ai4mc1batchad-2.gif\n",
      "{'url': 'https://www.deeplearning.ai/the-batch/issue-37/', 'issue': 37, 'title': 'a_message_fromdeeplearningai'}\n",
      "issue_37_title_no_text_img_0_screen20shot202020-04-2820at2012081520pm.png\n",
      "{'url': 'https://www.deeplearning.ai/the-batch/issue-37/', 'issue': 37, 'title': 'no_text'}\n",
      "issue_37_title_no_text_img_0_ezgifcom-gif-maker201-1.gif\n",
      "{'url': 'https://www.deeplearning.ai/the-batch/issue-37/', 'issue': 37, 'title': 'no_text'}\n",
      "issue_37_title_no_text_img_0_trust20aspect.png\n",
      "{'url': 'https://www.deeplearning.ai/the-batch/issue-37/', 'issue': 37, 'title': 'no_text'}\n",
      "issue_39_title_no_text_img_0_ezgifcom-optimize2010.gif\n",
      "{'url': 'https://www.deeplearning.ai/the-batch/issue-39/', 'issue': 39, 'title': 'no_text'}\n",
      "issue_39_title_no_text_img_0_cortical.gif\n",
      "{'url': 'https://www.deeplearning.ai/the-batch/issue-39/', 'issue': 39, 'title': 'no_text'}\n",
      "issue_39_title_no_text_img_0_cartoon.gif\n",
      "{'url': 'https://www.deeplearning.ai/the-batch/issue-39/', 'issue': 39, 'title': 'no_text'}\n",
      "issue_39_title_a_message_fromdeeplearningai_img_0_ai4mc2batchad.gif\n",
      "{'url': 'https://www.deeplearning.ai/the-batch/issue-39/', 'issue': 39, 'title': 'a_message_fromdeeplearningai'}\n",
      "issue_39_title_no_text_img_0_tax3.gif\n",
      "{'url': 'https://www.deeplearning.ai/the-batch/issue-39/', 'issue': 39, 'title': 'no_text'}\n",
      "issue_39_title_no_text_img_0_metapseudo.gif\n",
      "{'url': 'https://www.deeplearning.ai/the-batch/issue-39/', 'issue': 39, 'title': 'no_text'}\n",
      "issue_39_title_no_text_img_0_secrets.gif\n",
      "{'url': 'https://www.deeplearning.ai/the-batch/issue-39/', 'issue': 39, 'title': 'no_text'}\n",
      "issue_40_title_no_text_img_0_consumers.png\n",
      "{'url': 'https://www.deeplearning.ai/the-batch/issue-40/', 'issue': 40, 'title': 'no_text'}\n",
      "issue_40_title_no_text_img_0_few-shot.gif\n",
      "{'url': 'https://www.deeplearning.ai/the-batch/issue-40/', 'issue': 40, 'title': 'no_text'}\n",
      "issue_40_title_no_text_img_0_moonshot2.gif\n",
      "{'url': 'https://www.deeplearning.ai/the-batch/issue-40/', 'issue': 40, 'title': 'no_text'}\n",
      "issue_40_title_a_message_fromdeeplearningai_img_0_ai4mc1batchad-2.gif\n",
      "{'url': 'https://www.deeplearning.ai/the-batch/issue-40/', 'issue': 40, 'title': 'a_message_fromdeeplearningai'}\n",
      "issue_40_title_no_text_img_0_ezgifcom-optimize2011.gif\n",
      "{'url': 'https://www.deeplearning.ai/the-batch/issue-40/', 'issue': 40, 'title': 'no_text'}\n",
      "issue_40_title_no_text_img_0_chexbert.gif\n",
      "{'url': 'https://www.deeplearning.ai/the-batch/issue-40/', 'issue': 40, 'title': 'no_text'}\n",
      "issue_40_title_no_text_img_0_hate202.gif\n",
      "{'url': 'https://www.deeplearning.ai/the-batch/issue-40/', 'issue': 40, 'title': 'no_text'}\n",
      "issue_41_title_no_text_img_0_pacman3.gif\n",
      "{'url': 'https://www.deeplearning.ai/the-batch/issue-41/', 'issue': 41, 'title': 'no_text'}\n",
      "issue_41_title_no_text_img_0_supercomputer2.gif\n",
      "{'url': 'https://www.deeplearning.ai/the-batch/issue-41/', 'issue': 41, 'title': 'no_text'}\n",
      "issue_41_title_no_text_img_0_googlebot.gif\n",
      "{'url': 'https://www.deeplearning.ai/the-batch/issue-41/', 'issue': 41, 'title': 'no_text'}\n",
      "issue_41_title_a_message_fromdeeplearningai_img_0_1_ai4mc3batchad.gif\n",
      "{'url': 'https://www.deeplearning.ai/the-batch/issue-41/', 'issue': 41, 'title': 'a_message_fromdeeplearningai'}\n",
      "issue_41_title_no_text_img_0_oil3-1.png\n",
      "{'url': 'https://www.deeplearning.ai/the-batch/issue-41/', 'issue': 41, 'title': 'no_text'}\n",
      "issue_41_title_no_text_img_0_video3.gif\n",
      "{'url': 'https://www.deeplearning.ai/the-batch/issue-41/', 'issue': 41, 'title': 'no_text'}\n",
      "issue_41_title_no_text_img_0_facebookbot.gif\n",
      "{'url': 'https://www.deeplearning.ai/the-batch/issue-41/', 'issue': 41, 'title': 'no_text'}\n",
      "issue_42_title_facebook_likes_extreme_content_img_0_facebook.gif\n",
      "{'url': 'https://www.deeplearning.ai/the-batch/issue-42/', 'issue': 42, 'title': 'facebook_likes_extreme_content'}\n",
      "issue_42_title_when_models_take_shortcuts_img_0_shortcut.gif\n",
      "{'url': 'https://www.deeplearning.ai/the-batch/issue-42/', 'issue': 42, 'title': 'when_models_take_shortcuts'}\n",
      "issue_42_title_ai_does_the_dishes_img_0_dishes2-optimized.gif\n",
      "{'url': 'https://www.deeplearning.ai/the-batch/issue-42/', 'issue': 42, 'title': 'ai_does_the_dishes'}\n",
      "issue_42_title_a_message_fromdeeplearningai_img_0_ai4mc3batchad.gif\n",
      "{'url': 'https://www.deeplearning.ai/the-batch/issue-42/', 'issue': 42, 'title': 'a_message_fromdeeplearningai'}\n",
      "issue_42_title_cars_idled_av_makers_keep_rolling_img_0_drive1.gif\n",
      "{'url': 'https://www.deeplearning.ai/the-batch/issue-42/', 'issue': 42, 'title': 'cars_idled_av_makers_keep_rolling'}\n",
      "issue_42_title_another_look_at_yolo_img_0_yolo.gif\n",
      "{'url': 'https://www.deeplearning.ai/the-batch/issue-42/', 'issue': 42, 'title': 'another_look_at_yolo'}\n",
      "issue_42_title_goodbye_tourists_hello_labelers_img_0_africa.gif\n",
      "{'url': 'https://www.deeplearning.ai/the-batch/issue-42/', 'issue': 42, 'title': 'goodbye_tourists_hello_labelers'}\n",
      "issue_44_title_an_explosion_of_words_img_0_1-andrewsletter.png\n",
      "{'url': 'https://www.deeplearning.ai/the-batch/issue-44/', 'issue': 44, 'title': 'an_explosion_of_words'}\n",
      "issue_44_title_an_explosion_of_words_img_1_2-intro.png\n",
      "{'url': 'https://www.deeplearning.ai/the-batch/issue-44/', 'issue': 44, 'title': 'an_explosion_of_words'}\n",
      "issue_44_title_ai_transformed_img_0_3-qna.png\n",
      "{'url': 'https://www.deeplearning.ai/the-batch/issue-44/', 'issue': 44, 'title': 'ai_transformed'}\n",
      "issue_44_title_outing_hidden_hatred_img_0_s1-facebook.png\n",
      "{'url': 'https://www.deeplearning.ai/the-batch/issue-44/', 'issue': 44, 'title': 'outing_hidden_hatred'}\n",
      "issue_44_title_what_were_we_talking_about_img_0_s2-amazon201.png\n",
      "{'url': 'https://www.deeplearning.ai/the-batch/issue-44/', 'issue': 44, 'title': 'what_were_we_talking_about'}\n",
      "issue_44_title_choosing_words_carefully_img_0_s3-google.png\n",
      "{'url': 'https://www.deeplearning.ai/the-batch/issue-44/', 'issue': 44, 'title': 'choosing_words_carefully'}\n",
      "issue_44_title_a_message_fromdeeplearningai_img_0_1-1.gif\n",
      "{'url': 'https://www.deeplearning.ai/the-batch/issue-44/', 'issue': 44, 'title': 'a_message_fromdeeplearningai'}\n",
      "issue_44_title_gender_bender_img_0_s4-salesforce.png\n",
      "{'url': 'https://www.deeplearning.ai/the-batch/issue-44/', 'issue': 44, 'title': 'gender_bender'}\n",
      "issue_44_title_bigger_is_better_img_0_s5-microsoft.png\n",
      "{'url': 'https://www.deeplearning.ai/the-batch/issue-44/', 'issue': 44, 'title': 'bigger_is_better'}\n",
      "issue_44_title_found_in_translation_img_0_s6-apple2.png\n",
      "{'url': 'https://www.deeplearning.ai/the-batch/issue-44/', 'issue': 44, 'title': 'found_in_translation'}\n",
      "issue_45_title_tech_giants_face_off_with_police_img_0_facecops.png\n",
      "{'url': 'https://www.deeplearning.ai/the-batch/issue-45/', 'issue': 45, 'title': 'tech_giants_face_off_with_police'}\n",
      "issue_45_title_mapping_ais_talent_pipeline_img_0_talent6.gif\n",
      "{'url': 'https://www.deeplearning.ai/the-batch/issue-45/', 'issue': 45, 'title': 'mapping_ais_talent_pipeline'}\n",
      "issue_45_title_build_once_run_anywhere_img_0_ofa.gif\n",
      "{'url': 'https://www.deeplearning.ai/the-batch/issue-45/', 'issue': 45, 'title': 'build_once_run_anywhere'}\n",
      "issue_45_title_a_message_fromdeeplearningai_img_0_2.gif\n",
      "{'url': 'https://www.deeplearning.ai/the-batch/issue-45/', 'issue': 45, 'title': 'a_message_fromdeeplearningai'}\n",
      "issue_45_title_baidu_leaves_partnership_on_ai_img_0_baidu4.png\n",
      "{'url': 'https://www.deeplearning.ai/the-batch/issue-45/', 'issue': 45, 'title': 'baidu_leaves_partnership_on_ai'}\n",
      "issue_45_title_misleading_metrics_img_0_metric.gif\n",
      "{'url': 'https://www.deeplearning.ai/the-batch/issue-45/', 'issue': 45, 'title': 'misleading_metrics'}\n",
      "issue_46_title_no_text_img_0_obama203.gif\n",
      "{'url': 'https://www.deeplearning.ai/the-batch/issue-46/', 'issue': 46, 'title': 'no_text'}\n",
      "issue_46_title_no_text_img_0_try20on.gif\n",
      "{'url': 'https://www.deeplearning.ai/the-batch/issue-46/', 'issue': 46, 'title': 'no_text'}\n",
      "issue_46_title_no_text_img_0_replika203.gif\n",
      "{'url': 'https://www.deeplearning.ai/the-batch/issue-46/', 'issue': 46, 'title': 'no_text'}\n",
      "issue_46_title_a_message_fromdeeplearningai_img_0_3.gif\n",
      "{'url': 'https://www.deeplearning.ai/the-batch/issue-46/', 'issue': 46, 'title': 'a_message_fromdeeplearningai'}\n",
      "issue_46_title_no_text_img_0_convenience1.gif\n",
      "{'url': 'https://www.deeplearning.ai/the-batch/issue-46/', 'issue': 46, 'title': 'no_text'}\n",
      "issue_46_title_no_text_img_0_ezgifcom-optimize2012.gif\n",
      "{'url': 'https://www.deeplearning.ai/the-batch/issue-46/', 'issue': 46, 'title': 'no_text'}\n",
      "issue_47_title_no_text_img_0_dataset202.gif\n",
      "{'url': 'https://www.deeplearning.ai/the-batch/issue-47/', 'issue': 47, 'title': 'no_text'}\n",
      "issue_47_title_no_text_img_0_detr.gif\n",
      "{'url': 'https://www.deeplearning.ai/the-batch/issue-47/', 'issue': 47, 'title': 'no_text'}\n",
      "issue_47_title_no_text_img_0_portrait202.gif\n",
      "{'url': 'https://www.deeplearning.ai/the-batch/issue-47/', 'issue': 47, 'title': 'no_text'}\n",
      "issue_47_title_a_message_fromdeeplearningai_img_0_5.gif\n",
      "{'url': 'https://www.deeplearning.ai/the-batch/issue-47/', 'issue': 47, 'title': 'a_message_fromdeeplearningai'}\n",
      "issue_47_title_no_text_img_0_soccer2.png\n",
      "{'url': 'https://www.deeplearning.ai/the-batch/issue-47/', 'issue': 47, 'title': 'no_text'}\n",
      "issue_47_title_no_text_img_0_steerable.gif\n",
      "{'url': 'https://www.deeplearning.ai/the-batch/issue-47/', 'issue': 47, 'title': 'no_text'}\n",
      "issue_48_title_assembly_line_ai_img_0_qc1.gif\n",
      "{'url': 'https://www.deeplearning.ai/the-batch/issue-48/', 'issue': 48, 'title': 'assembly_line_ai'}\n",
      "issue_48_title_that_online_boutique_but_smarter_img_0_val.gif\n",
      "{'url': 'https://www.deeplearning.ai/the-batch/issue-48/', 'issue': 48, 'title': 'that_online_boutique_but_smarter'}\n",
      "issue_48_title_a_message_fromdeeplearningai_img_0_1-2.gif\n",
      "{'url': 'https://www.deeplearning.ai/the-batch/issue-48/', 'issue': 48, 'title': 'a_message_fromdeeplearningai'}\n",
      "issue_48_title_ai_makes_headlines_img_0_headline.gif\n",
      "{'url': 'https://www.deeplearning.ai/the-batch/issue-48/', 'issue': 48, 'title': 'ai_makes_headlines'}\n",
      "issue_48_title_monsters_in_motion_img_0_madness204.gif\n",
      "{'url': 'https://www.deeplearning.ai/the-batch/issue-48/', 'issue': 48, 'title': 'monsters_in_motion'}\n",
      "issue_49_title_no_text_img_0_ezgifcom-optimize2014.gif\n",
      "{'url': 'https://www.deeplearning.ai/the-batch/issue-49/', 'issue': 49, 'title': 'no_text'}\n",
      "issue_49_title_no_text_img_0_csa-net.gif\n",
      "{'url': 'https://www.deeplearning.ai/the-batch/issue-49/', 'issue': 49, 'title': 'no_text'}\n",
      "issue_49_title_no_text_img_0_corporate202.gif\n",
      "{'url': 'https://www.deeplearning.ai/the-batch/issue-49/', 'issue': 49, 'title': 'no_text'}\n",
      "issue_49_title_a_message_fromdeeplearningai_img_0_twitter-1.png\n",
      "{'url': 'https://www.deeplearning.ai/the-batch/issue-49/', 'issue': 49, 'title': 'a_message_fromdeeplearningai'}\n",
      "issue_49_title_no_text_img_0_africa2-aspectpng.gif\n",
      "{'url': 'https://www.deeplearning.ai/the-batch/issue-49/', 'issue': 49, 'title': 'no_text'}\n",
      "issue_49_title_no_text_img_0_siren.gif\n",
      "{'url': 'https://www.deeplearning.ai/the-batch/issue-49/', 'issue': 49, 'title': 'no_text'}\n",
      "issue_50_title_no_text_img_0_gpt-3203.gif\n",
      "{'url': 'https://www.deeplearning.ai/the-batch/issue-50/', 'issue': 50, 'title': 'no_text'}\n",
      "issue_50_title_no_text_img_0_tunascope.gif\n",
      "{'url': 'https://www.deeplearning.ai/the-batch/issue-50/', 'issue': 50, 'title': 'no_text'}\n",
      "issue_50_title_no_text_img_0_otam.gif\n",
      "{'url': 'https://www.deeplearning.ai/the-batch/issue-50/', 'issue': 50, 'title': 'no_text'}\n",
      "issue_50_title_a_message_fromdeeplearningai_img_0_gif202.gif\n",
      "{'url': 'https://www.deeplearning.ai/the-batch/issue-50/', 'issue': 50, 'title': 'a_message_fromdeeplearningai'}\n",
      "issue_50_title_no_text_img_0_synced.gif\n",
      "{'url': 'https://www.deeplearning.ai/the-batch/issue-50/', 'issue': 50, 'title': 'no_text'}\n",
      "issue_50_title_no_text_img_0_neuro.gif\n",
      "{'url': 'https://www.deeplearning.ai/the-batch/issue-50/', 'issue': 50, 'title': 'no_text'}\n",
      "issue_55_title_no_text_img_0_ezgifcom-optimize201-2.gif\n",
      "{'url': 'https://www.deeplearning.ai/the-batch/issue-55/', 'issue': 55, 'title': 'no_text'}\n",
      "issue_55_title_no_text_img_0_sliceout.gif\n",
      "{'url': 'https://www.deeplearning.ai/the-batch/issue-55/', 'issue': 55, 'title': 'no_text'}\n",
      "issue_55_title_no_text_img_0_tennis202.gif\n",
      "{'url': 'https://www.deeplearning.ai/the-batch/issue-55/', 'issue': 55, 'title': 'no_text'}\n",
      "issue_55_title_a_message_fromdeeplearningai_img_0_gif205-1.gif\n",
      "{'url': 'https://www.deeplearning.ai/the-batch/issue-55/', 'issue': 55, 'title': 'a_message_fromdeeplearningai'}\n",
      "issue_55_title_no_text_img_0_institutes.gif\n",
      "{'url': 'https://www.deeplearning.ai/the-batch/issue-55/', 'issue': 55, 'title': 'no_text'}\n",
      "issue_55_title_no_text_img_0_transformer20rnn.gif\n",
      "{'url': 'https://www.deeplearning.ai/the-batch/issue-55/', 'issue': 55, 'title': 'no_text'}\n",
      "issue_58_title_no_text_img_0_ezgifcom-resize2015.gif\n",
      "{'url': 'https://www.deeplearning.ai/the-batch/issue-58/', 'issue': 58, 'title': 'no_text'}\n",
      "issue_58_title_no_text_img_0_ezgifcom-resize2014.gif\n",
      "{'url': 'https://www.deeplearning.ai/the-batch/issue-58/', 'issue': 58, 'title': 'no_text'}\n",
      "issue_58_title_no_text_img_0_ezgifcom-resize2017.gif\n",
      "{'url': 'https://www.deeplearning.ai/the-batch/issue-58/', 'issue': 58, 'title': 'no_text'}\n",
      "issue_58_title_a_message_fromdeeplearningai_img_0_batch.png\n",
      "{'url': 'https://www.deeplearning.ai/the-batch/issue-58/', 'issue': 58, 'title': 'a_message_fromdeeplearningai'}\n",
      "issue_58_title_no_text_img_0_ezgifcom-optimize201-3.gif\n",
      "{'url': 'https://www.deeplearning.ai/the-batch/issue-58/', 'issue': 58, 'title': 'no_text'}\n",
      "issue_58_title_no_text_img_0_ezgifcom-resize2013.gif\n",
      "{'url': 'https://www.deeplearning.ai/the-batch/issue-58/', 'issue': 58, 'title': 'no_text'}\n",
      "issue_58_title_a_message_fromdeeplearningai_img_0_nlp20c420gif203.gif\n",
      "{'url': 'https://www.deeplearning.ai/the-batch/issue-58/', 'issue': 58, 'title': 'a_message_fromdeeplearningai'}\n",
      "issue_61_title_no_text_img_0_fire2.gif\n",
      "{'url': 'https://www.deeplearning.ai/the-batch/issue-61/', 'issue': 61, 'title': 'no_text'}\n",
      "issue_61_title_no_text_img_0_ezgifcom-gif-maker203-1.gif\n",
      "{'url': 'https://www.deeplearning.ai/the-batch/issue-61/', 'issue': 61, 'title': 'no_text'}\n",
      "issue_61_title_no_text_img_0_ezgifcom-gif-maker2017.gif\n",
      "{'url': 'https://www.deeplearning.ai/the-batch/issue-61/', 'issue': 61, 'title': 'no_text'}\n",
      "issue_61_title_a_message_fromdeeplearningai_img_0_ezgifcom-gif-maker2018.gif\n",
      "{'url': 'https://www.deeplearning.ai/the-batch/issue-61/', 'issue': 61, 'title': 'a_message_fromdeeplearningai'}\n",
      "issue_61_title_no_text_img_0_ezgifcom-gif-maker2015.gif\n",
      "{'url': 'https://www.deeplearning.ai/the-batch/issue-61/', 'issue': 61, 'title': 'no_text'}\n",
      "issue_61_title_no_text_img_0_ezgifcom-gif-maker207-1.gif\n",
      "{'url': 'https://www.deeplearning.ai/the-batch/issue-61/', 'issue': 61, 'title': 'no_text'}\n",
      "issue_61_title_a_message_fromdeeplearningai_img_0_batch20banner.png\n",
      "{'url': 'https://www.deeplearning.ai/the-batch/issue-61/', 'issue': 61, 'title': 'a_message_fromdeeplearningai'}\n",
      "issue_62_title_no_text_img_0_ezgifcom-gif-maker2023.gif\n",
      "{'url': 'https://www.deeplearning.ai/the-batch/issue-62/', 'issue': 62, 'title': 'no_text'}\n",
      "issue_62_title_no_text_img_0_ezgifcom-gif-maker2016units.gif\n",
      "{'url': 'https://www.deeplearning.ai/the-batch/issue-62/', 'issue': 62, 'title': 'no_text'}\n",
      "issue_62_title_no_text_img_0_ezgifcom-gif-maker2019.gif\n",
      "{'url': 'https://www.deeplearning.ai/the-batch/issue-62/', 'issue': 62, 'title': 'no_text'}\n",
      "issue_62_title_a_message_fromdeeplearningai_img_0_1-3.gif\n",
      "{'url': 'https://www.deeplearning.ai/the-batch/issue-62/', 'issue': 62, 'title': 'a_message_fromdeeplearningai'}\n",
      "issue_62_title_no_text_img_0_ezgifcom-resize2020.gif\n",
      "{'url': 'https://www.deeplearning.ai/the-batch/issue-62/', 'issue': 62, 'title': 'no_text'}\n",
      "issue_62_title_no_text_img_0_batteries1.png\n",
      "{'url': 'https://www.deeplearning.ai/the-batch/issue-62/', 'issue': 62, 'title': 'no_text'}\n",
      "issue_63_title_trick_or_treat_img_0_introduction-jackolantern-onredbook201.jpg\n",
      "{'url': 'https://www.deeplearning.ai/the-batch/issue-63/', 'issue': 63, 'title': 'trick_or_treat'}\n",
      "issue_63_title_trick_or_treat_img_1_bonfire120copy.jpg\n",
      "{'url': 'https://www.deeplearning.ai/the-batch/issue-63/', 'issue': 63, 'title': 'trick_or_treat'}\n",
      "issue_63_title_no_text_img_0_bunniesaretherealmonsters_800x449px20copy.jpg\n",
      "{'url': 'https://www.deeplearning.ai/the-batch/issue-63/', 'issue': 63, 'title': 'no_text'}\n",
      "issue_63_title_no_text_img_0_balkanwitches4_800x449px20copy.jpg\n",
      "{'url': 'https://www.deeplearning.ai/the-batch/issue-63/', 'issue': 63, 'title': 'no_text'}\n",
      "issue_63_title_no_text_img_0_screen20shot202020-10-2820at2012235020pm.png\n",
      "{'url': 'https://www.deeplearning.ai/the-batch/issue-63/', 'issue': 63, 'title': 'no_text'}\n",
      "issue_63_title_a_message_fromdeeplearningai_img_0_2201.gif\n",
      "{'url': 'https://www.deeplearning.ai/the-batch/issue-63/', 'issue': 63, 'title': 'a_message_fromdeeplearningai'}\n",
      "issue_63_title_no_text_img_0_candyweight-generic_alt320copy.jpg\n",
      "{'url': 'https://www.deeplearning.ai/the-batch/issue-63/', 'issue': 63, 'title': 'no_text'}\n",
      "issue_63_title_no_text_img_0_thing-candydistribution_800x449px20copy.jpg\n",
      "{'url': 'https://www.deeplearning.ai/the-batch/issue-63/', 'issue': 63, 'title': 'no_text'}\n",
      "issue_64_title_no_text_img_0_facrec1.gif\n",
      "{'url': 'https://www.deeplearning.ai/the-batch/issue-64/', 'issue': 64, 'title': 'no_text'}\n",
      "issue_64_title_no_text_img_0_ezgifcom-gif-maker2016heartbeat.gif\n",
      "{'url': 'https://www.deeplearning.ai/the-batch/issue-64/', 'issue': 64, 'title': 'no_text'}\n",
      "issue_64_title_no_text_img_0_ezgifcom-gif-maker2025.gif\n",
      "{'url': 'https://www.deeplearning.ai/the-batch/issue-64/', 'issue': 64, 'title': 'no_text'}\n",
      "issue_64_title_a_message_fromdeeplearningai_img_0_c320gif20-20model20architecture.gif\n",
      "{'url': 'https://www.deeplearning.ai/the-batch/issue-64/', 'issue': 64, 'title': 'a_message_fromdeeplearningai'}\n",
      "issue_64_title_no_text_img_0_ezgifcom-gif-maker2028.gif\n",
      "{'url': 'https://www.deeplearning.ai/the-batch/issue-64/', 'issue': 64, 'title': 'no_text'}\n",
      "issue_64_title_no_text_img_0_ezgifcom-gif-maker2016.gif\n",
      "{'url': 'https://www.deeplearning.ai/the-batch/issue-64/', 'issue': 64, 'title': 'no_text'}\n",
      "issue_65_title_no_text_img_0_ezgifcom-gif-maker2036.gif\n",
      "{'url': 'https://www.deeplearning.ai/the-batch/issue-65/', 'issue': 65, 'title': 'no_text'}\n",
      "issue_65_title_no_text_img_0_screen20shot202020-10-1320at204454620pm_proof.png\n",
      "{'url': 'https://www.deeplearning.ai/the-batch/issue-65/', 'issue': 65, 'title': 'no_text'}\n",
      "issue_65_title_no_text_img_0_ezgifcom-optimize-2-1.gif\n",
      "{'url': 'https://www.deeplearning.ai/the-batch/issue-65/', 'issue': 65, 'title': 'no_text'}\n",
      "issue_65_title_a_message_fromdeeplearningai_img_0_main20specialization20-20twitter20e28093201-2.png\n",
      "{'url': 'https://www.deeplearning.ai/the-batch/issue-65/', 'issue': 65, 'title': 'a_message_fromdeeplearningai'}\n",
      "issue_65_title_no_text_img_0_ezgifcom-gif-maker2021.gif\n",
      "{'url': 'https://www.deeplearning.ai/the-batch/issue-65/', 'issue': 65, 'title': 'no_text'}\n",
      "issue_65_title_no_text_img_0_ezgifcom-gif-maker2026.gif\n",
      "{'url': 'https://www.deeplearning.ai/the-batch/issue-65/', 'issue': 65, 'title': 'no_text'}\n",
      "issue_66_title_no_text_img_0_ezgifcom-gif-maker2033.gif\n",
      "{'url': 'https://www.deeplearning.ai/the-batch/issue-66/', 'issue': 66, 'title': 'no_text'}\n",
      "issue_66_title_no_text_img_0_ezgifcom-gif-maker2038.gif\n",
      "{'url': 'https://www.deeplearning.ai/the-batch/issue-66/', 'issue': 66, 'title': 'no_text'}\n",
      "issue_66_title_a_message_fromdeeplearningai_img_0_gif201.gif\n",
      "{'url': 'https://www.deeplearning.ai/the-batch/issue-66/', 'issue': 66, 'title': 'a_message_fromdeeplearningai'}\n",
      "issue_66_title_no_text_img_0_ezgifcom-gif-maker2024.gif\n",
      "{'url': 'https://www.deeplearning.ai/the-batch/issue-66/', 'issue': 66, 'title': 'no_text'}\n",
      "issue_66_title_no_text_img_0_ezgifcom-gif-maker2037.gif\n",
      "{'url': 'https://www.deeplearning.ai/the-batch/issue-66/', 'issue': 66, 'title': 'no_text'}\n",
      "issue_67_title_no_text_img_0_ezgifcom-gif-maker2039.gif\n",
      "{'url': 'https://www.deeplearning.ai/the-batch/issue-67/', 'issue': 67, 'title': 'no_text'}\n",
      "issue_67_title_no_text_img_0_ezgifcom-gif-maker2029.gif\n",
      "{'url': 'https://www.deeplearning.ai/the-batch/issue-67/', 'issue': 67, 'title': 'no_text'}\n",
      "issue_67_title_a_message_fromdeeplearningai_img_0_gif202-1080202.gif\n",
      "{'url': 'https://www.deeplearning.ai/the-batch/issue-67/', 'issue': 67, 'title': 'a_message_fromdeeplearningai'}\n",
      "issue_67_title_no_text_img_0_bearsgif2.gif\n",
      "{'url': 'https://www.deeplearning.ai/the-batch/issue-67/', 'issue': 67, 'title': 'no_text'}\n",
      "issue_67_title_no_text_img_0_semantic.gif\n",
      "{'url': 'https://www.deeplearning.ai/the-batch/issue-67/', 'issue': 67, 'title': 'no_text'}\n",
      "issue_68_title_no_text_img_0_dogfight.gif\n",
      "{'url': 'https://www.deeplearning.ai/the-batch/issue-68/', 'issue': 68, 'title': 'no_text'}\n",
      "issue_68_title_no_text_img_0_ezgifcom-gif-maker2030.gif\n",
      "{'url': 'https://www.deeplearning.ai/the-batch/issue-68/', 'issue': 68, 'title': 'no_text'}\n",
      "issue_68_title_a_message_fromdeeplearningai_img_0_gif203.gif\n",
      "{'url': 'https://www.deeplearning.ai/the-batch/issue-68/', 'issue': 68, 'title': 'a_message_fromdeeplearningai'}\n",
      "issue_68_title_no_text_img_0_ezgifcom-gif-maker2040.gif\n",
      "{'url': 'https://www.deeplearning.ai/the-batch/issue-68/', 'issue': 68, 'title': 'no_text'}\n",
      "issue_68_title_no_text_img_0_fail.gif\n",
      "{'url': 'https://www.deeplearning.ai/the-batch/issue-68/', 'issue': 68, 'title': 'no_text'}\n",
      "issue_71_title_coping_with_covid_img_0_the-batch-new-year_reindeermedicine_576x324.jpg\n",
      "{'url': 'https://www.deeplearning.ai/the-batch/issue-71/', 'issue': 71, 'title': 'coping_with_covid'}\n",
      "issue_71_title_this_snowman_does_not_exist_img_0_the-batch-new-year_gans-field-of-snowmen6.jpg\n",
      "{'url': 'https://www.deeplearning.ai/the-batch/issue-71/', 'issue': 71, 'title': 'this_snowman_does_not_exist'}\n",
      "issue_71_title_representing_the_underrepresented_img_0_the-batch-new-year_treefarmdataset_fenced.jpg\n",
      "{'url': 'https://www.deeplearning.ai/the-batch/issue-71/', 'issue': 71, 'title': 'representing_the_underrepresented'}\n",
      "issue_71_title_algorithms_against_disinformation_img_0_the-batch-new-year_snowballfight_576x324px-2.jpg\n",
      "{'url': 'https://www.deeplearning.ai/the-batch/issue-71/', 'issue': 71, 'title': 'algorithms_against_disinformation'}\n",
      "issue_71_title_the_model_will_see_you_now_img_0_the-batch-new-year_medicalsnowman_576x324px.jpg\n",
      "{'url': 'https://www.deeplearning.ai/the-batch/issue-71/', 'issue': 71, 'title': 'the_model_will_see_you_now'}\n",
      "issue_71_title_writers_unblock_img_0_the-batch-new-year_holiday-bookstack_576x324px.jpg\n",
      "{'url': 'https://www.deeplearning.ai/the-batch/issue-71/', 'issue': 71, 'title': 'writers_unblock'}\n",
      "issue_72_title_onward_to_2021_img_0_screen20shot202020-12-2920at205-2.webp\n",
      "{'url': 'https://www.deeplearning.ai/the-batch/issue-72/', 'issue': 72, 'title': 'onward_to_2021'}\n",
      "issue_72_title_no_text_img_0_ayanna-howar-screen20shot202020-12-2920at2010.webp\n",
      "{'url': 'https://www.deeplearning.ai/the-batch/issue-72/', 'issue': 72, 'title': 'no_text'}\n",
      "issue_72_title_no_text_img_0_screen20shot202020-12-2920at206272020pm20copy--1-.png\n",
      "{'url': 'https://www.deeplearning.ai/the-batch/issue-72/', 'issue': 72, 'title': 'no_text'}\n",
      "issue_72_title_no_text_img_0_screen20shot202020-12-2220at209473220am20copy--1-.png\n",
      "{'url': 'https://www.deeplearning.ai/the-batch/issue-72/', 'issue': 72, 'title': 'no_text'}\n",
      "issue_72_title_no_text_img_0_screen20shot202020-12-2920at209375920am20copy--1-.png\n",
      "{'url': 'https://www.deeplearning.ai/the-batch/issue-72/', 'issue': 72, 'title': 'no_text'}\n",
      "issue_72_title_no_text_img_0_the20batch20new20year20ilya20sutskever20aspect20copy-1--1-.png\n",
      "{'url': 'https://www.deeplearning.ai/the-batch/issue-72/', 'issue': 72, 'title': 'no_text'}\n",
      "issue_73_title_online_clues_to_mental_illness_img_0_ezgifcom-gif-maker2070.gif\n",
      "{'url': 'https://www.deeplearning.ai/the-batch/issue-73/', 'issue': 73, 'title': 'online_clues_to_mental_illness'}\n",
      "issue_73_title_smaller_models_bigger_biases_img_0_compressed.gif\n",
      "{'url': 'https://www.deeplearning.ai/the-batch/issue-73/', 'issue': 73, 'title': 'smaller_models_bigger_biases'}\n",
      "issue_73_title_us_new_years_resolutions_for_ai_img_0_ndaa20sized.png\n",
      "{'url': 'https://www.deeplearning.ai/the-batch/issue-73/', 'issue': 73, 'title': 'us_new_years_resolutions_for_ai'}\n",
      "issue_73_title_a_message_fromdeeplearningai_img_0_gif20520v2.gif\n",
      "{'url': 'https://www.deeplearning.ai/the-batch/issue-73/', 'issue': 73, 'title': 'a_message_fromdeeplearningai'}\n",
      "issue_73_title_algorithms_for_elephants_img_0_ezgifcom-gif-maker2064.gif\n",
      "{'url': 'https://www.deeplearning.ai/the-batch/issue-73/', 'issue': 73, 'title': 'algorithms_for_elephants'}\n",
      "issue_73_title_enterprise_ai_on_the_rise_img_0_algorithmia.gif\n",
      "{'url': 'https://www.deeplearning.ai/the-batch/issue-73/', 'issue': 73, 'title': 'enterprise_ai_on_the_rise'}\n",
      "issue_74_title_ai_truths_ai_falsehoods_img_0_paranoia.png\n",
      "{'url': 'https://www.deeplearning.ai/the-batch/issue-74/', 'issue': 74, 'title': 'ai_truths_ai_falsehoods'}\n",
      "issue_74_title_tell_me_a_picture_img_0_avocado.gif\n",
      "{'url': 'https://www.deeplearning.ai/the-batch/issue-74/', 'issue': 74, 'title': 'tell_me_a_picture'}\n",
      "issue_74_title_striding_toward_the_minimum_img_0_ezgifcom-gif-maker2061.gif\n",
      "{'url': 'https://www.deeplearning.ai/the-batch/issue-74/', 'issue': 74, 'title': 'striding_toward_the_minimum'}\n",
      "issue_74_title_a_message_fromdeeplearningai_img_0_gif201-1.gif\n",
      "{'url': 'https://www.deeplearning.ai/the-batch/issue-74/', 'issue': 74, 'title': 'a_message_fromdeeplearningai'}\n",
      "issue_74_title_the_fax_about_tracking_covid_img_0_fax.gif\n",
      "{'url': 'https://www.deeplearning.ai/the-batch/issue-74/', 'issue': 74, 'title': 'the_fax_about_tracking_covid'}\n",
      "issue_74_title_its_a_small_world_model_after_all_img_0_ezgifcom-gif-maker2069.gif\n",
      "{'url': 'https://www.deeplearning.ai/the-batch/issue-74/', 'issue': 74, 'title': 'its_a_small_world_model_after_all'}\n",
      "issue_75_title_ai_versus_lead_poisoning_img_0_lead20576x324.gif\n",
      "{'url': 'https://www.deeplearning.ai/the-batch/issue-75/', 'issue': 75, 'title': 'ai_versus_lead_poisoning'}\n",
      "issue_75_title_adversarial_helper_img_0_villa20576x324.gif\n",
      "{'url': 'https://www.deeplearning.ai/the-batch/issue-75/', 'issue': 75, 'title': 'adversarial_helper'}\n",
      "issue_75_title_a_message_fromdeeplearningai_img_0_gif202-1080202-1.gif\n",
      "{'url': 'https://www.deeplearning.ai/the-batch/issue-75/', 'issue': 75, 'title': 'a_message_fromdeeplearningai'}\n",
      "issue_75_title_draw_a_gun_trigger_an_algorithm_img_0_gun.gif\n",
      "{'url': 'https://www.deeplearning.ai/the-batch/issue-75/', 'issue': 75, 'title': 'draw_a_gun_trigger_an_algorithm'}\n",
      "issue_75_title_annual_report_robot_edition_img_0_corporate.gif\n",
      "{'url': 'https://www.deeplearning.ai/the-batch/issue-75/', 'issue': 75, 'title': 'annual_report_robot_edition'}\n",
      "issue_76_title_the_language_of_viruses_img_0_mutations.gif\n",
      "{'url': 'https://www.deeplearning.ai/the-batch/issue-76/', 'issue': 76, 'title': 'the_language_of_viruses'}\n",
      "issue_76_title_quake_watch_img_0_ezgifcom-gif-maker2075.gif\n",
      "{'url': 'https://www.deeplearning.ai/the-batch/issue-76/', 'issue': 76, 'title': 'quake_watch'}\n",
      "issue_76_title_every_picture_tells_a_story_img_0_blind.gif\n",
      "{'url': 'https://www.deeplearning.ai/the-batch/issue-76/', 'issue': 76, 'title': 'every_picture_tells_a_story'}\n",
      "issue_76_title_a_message_fromdeeplearningai_img_0_the20batch.png\n",
      "{'url': 'https://www.deeplearning.ai/the-batch/issue-76/', 'issue': 76, 'title': 'a_message_fromdeeplearningai'}\n",
      "issue_76_title_drones_unleashed_img_0_drones.gif\n",
      "{'url': 'https://www.deeplearning.ai/the-batch/issue-76/', 'issue': 76, 'title': 'drones_unleashed'}\n",
      "issue_76_title_images_from_noise_img_0_ezgifcom-gif-maker2074.gif\n",
      "{'url': 'https://www.deeplearning.ai/the-batch/issue-76/', 'issue': 76, 'title': 'images_from_noise'}\n",
      "issue_77_title_language_models_want_to_be_free_img_0_diygpt.gif\n",
      "{'url': 'https://www.deeplearning.ai/the-batch/issue-77/', 'issue': 77, 'title': 'language_models_want_to_be_free'}\n",
      "issue_77_title_a_privacy_threat_revealed_img_0_instahide20576x324.gif\n",
      "{'url': 'https://www.deeplearning.ai/the-batch/issue-77/', 'issue': 77, 'title': 'a_privacy_threat_revealed'}\n",
      "issue_77_title_a_message_fromdeeplearningai_img_0_the20batch201.png\n",
      "{'url': 'https://www.deeplearning.ai/the-batch/issue-77/', 'issue': 77, 'title': 'a_message_fromdeeplearningai'}\n",
      "issue_77_title_materials_science_gets_a_boost_img_0_ezgifcom-gif-maker2076.gif\n",
      "{'url': 'https://www.deeplearning.ai/the-batch/issue-77/', 'issue': 77, 'title': 'materials_science_gets_a_boost'}\n",
      "issue_77_title_performance_guaranteed_img_0_bayes.gif\n",
      "{'url': 'https://www.deeplearning.ai/the-batch/issue-77/', 'issue': 77, 'title': 'performance_guaranteed'}\n",
      "issue_78_title_eyes_on_drivers_img_0_carcam.gif\n",
      "{'url': 'https://www.deeplearning.ai/the-batch/issue-78/', 'issue': 78, 'title': 'eyes_on_drivers'}\n",
      "issue_78_title_better_language_through_vision_img_0_voken-1.gif\n",
      "{'url': 'https://www.deeplearning.ai/the-batch/issue-78/', 'issue': 78, 'title': 'better_language_through_vision'}\n",
      "issue_78_title_fairness_east_and_west_img_0_ezgifcom-gif-maker-97.gif\n",
      "{'url': 'https://www.deeplearning.ai/the-batch/issue-78/', 'issue': 78, 'title': 'fairness_east_and_west'}\n",
      "issue_78_title_a_message_fromdeeplearningai_img_0_the-batch-image-1024x576.png\n",
      "Filtered: issue_78_title_a_message_fromdeeplearningai_img_0_the-batch-image-1024x576.png\n",
      "issue_78_title_shortcut_to_cancer_treatment_img_0_receptornet.gif\n",
      "{'url': 'https://www.deeplearning.ai/the-batch/issue-78/', 'issue': 78, 'title': 'shortcut_to_cancer_treatment'}\n",
      "issue_78_title_how_much_for_that_vintage_gucci_img_0_ezgifcom-gif-maker-100.gif\n",
      "{'url': 'https://www.deeplearning.ai/the-batch/issue-78/', 'issue': 78, 'title': 'how_much_for_that_vintage_gucci'}\n",
      "issue_83_title_social_engagement_vs_social_good_img_0_social-engagement-vs-social-good-1.gif\n",
      "{'url': 'https://www.deeplearning.ai/the-batch/issue-83/', 'issue': 83, 'title': 'social_engagement_vs_social_good'}\n",
      "issue_83_title_old_drugs_for_new_ailments_img_0_old-drugs-for-new-ailments-1.gif\n",
      "{'url': 'https://www.deeplearning.ai/the-batch/issue-83/', 'issue': 83, 'title': 'old_drugs_for_new_ailments'}\n",
      "issue_83_title_who_audits_the_auditors_img_0_who-audits-the-auditors-1.gif\n",
      "{'url': 'https://www.deeplearning.ai/the-batch/issue-83/', 'issue': 83, 'title': 'who_audits_the_auditors'}\n",
      "issue_83_title_a_message_fromdeeplearningai_img_0_mlops-march-24_the-batch-image-2048x115220copy.png\n",
      "Filtered: issue_83_title_a_message_fromdeeplearningai_img_0_mlops-march-24_the-batch-image-2048x115220copy.png\n",
      "issue_83_title_your_words_their_voices_img_0_your-words--their-voices-1.gif\n",
      "{'url': 'https://www.deeplearning.ai/the-batch/issue-83/', 'issue': 83, 'title': 'your_words_their_voices'}\n",
      "issue_83_title_good_labels_for_cropped_images_img_0_good-labels-for-cropped-images-1.gif\n",
      "{'url': 'https://www.deeplearning.ai/the-batch/issue-83/', 'issue': 83, 'title': 'good_labels_for_cropped_images'}\n",
      "issue_85_title_tesla_safety_under_investigation_img_0_tesla20tg.gif\n",
      "{'url': 'https://www.deeplearning.ai/the-batch/issue-85/', 'issue': 85, 'title': 'tesla_safety_under_investigation'}\n",
      "issue_85_title_vision_models_get_some_attention_img_0_ezgifcom-gif-maker20-202021-03-22t175640664-1.gif\n",
      "{'url': 'https://www.deeplearning.ai/the-batch/issue-85/', 'issue': 85, 'title': 'vision_models_get_some_attention'}\n",
      "issue_85_title_star_trekthe_videobot_generation_img_0_shatner20tg.gif\n",
      "{'url': 'https://www.deeplearning.ai/the-batch/issue-85/', 'issue': 85, 'title': 'star_trekthe_videobot_generation'}\n",
      "issue_85_title_a_message_fromdeeplearningai_img_0_the20batch-1.png\n",
      "{'url': 'https://www.deeplearning.ai/the-batch/issue-85/', 'issue': 85, 'title': 'a_message_fromdeeplearningai'}\n",
      "issue_85_title_same_patient_different_views_img_0_ezgifcom-gif-maker20-202021-03-08t122032068-1.gif\n",
      "{'url': 'https://www.deeplearning.ai/the-batch/issue-85/', 'issue': 85, 'title': 'same_patient_different_views'}\n",
      "issue_85_title_on_her_majestys_secret_algorithm_img_0_ukspy-1.gif\n",
      "{'url': 'https://www.deeplearning.ai/the-batch/issue-85/', 'issue': 85, 'title': 'on_her_majestys_secret_algorithm'}\n",
      "issue_85_title_a_message_from_fourthbrain_img_0_the20batch20-20march2029th.png\n",
      "{'url': 'https://www.deeplearning.ai/the-batch/issue-85/', 'issue': 85, 'title': 'a_message_from_fourthbrain'}\n",
      "issue_86_title_de-facing_imagenet_img_0_blur20tg.gif\n",
      "{'url': 'https://www.deeplearning.ai/the-batch/issue-86/', 'issue': 86, 'title': 'de-facing_imagenet'}\n",
      "issue_86_title_pretraining_on_uncurated_data_img_0_seer201.gif\n",
      "{'url': 'https://www.deeplearning.ai/the-batch/issue-86/', 'issue': 86, 'title': 'pretraining_on_uncurated_data'}\n",
      "issue_86_title_would_your_doctor_take_ais_advice_img_0_influence20tg.gif\n",
      "{'url': 'https://www.deeplearning.ai/the-batch/issue-86/', 'issue': 86, 'title': 'would_your_doctor_take_ais_advice'}\n",
      "issue_86_title_a_message_fromdeeplearningai_img_0_the20batch201-1.png\n",
      "{'url': 'https://www.deeplearning.ai/the-batch/issue-86/', 'issue': 86, 'title': 'a_message_fromdeeplearningai'}\n",
      "issue_86_title_new_life_for_old_songs_img_0_upmix.gif\n",
      "{'url': 'https://www.deeplearning.ai/the-batch/issue-86/', 'issue': 86, 'title': 'new_life_for_old_songs'}\n",
      "issue_86_title_attention_for_image_generation_img_0_ezgifcom-gif-maker20-202021-03-30t133105644.gif\n",
      "{'url': 'https://www.deeplearning.ai/the-batch/issue-86/', 'issue': 86, 'title': 'attention_for_image_generation'}\n",
      "issue_87_title_labeling_errors_everywhere_img_0_image-12.png\n",
      "{'url': 'https://www.deeplearning.ai/the-batch/issue-87/', 'issue': 87, 'title': 'labeling_errors_everywhere'}\n",
      "issue_87_title_image_generation_transformed_img_0_image-13.png\n",
      "{'url': 'https://www.deeplearning.ai/the-batch/issue-87/', 'issue': 87, 'title': 'image_generation_transformed'}\n",
      "issue_87_title_no_text_img_0_image-15.png\n",
      "{'url': 'https://www.deeplearning.ai/the-batch/issue-87/', 'issue': 87, 'title': 'no_text'}\n",
      "issue_87_title_who_watches_the_welders_img_0_image-14.png\n",
      "{'url': 'https://www.deeplearning.ai/the-batch/issue-87/', 'issue': 87, 'title': 'who_watches_the_welders'}\n",
      "issue_87_title_large_language_models_for_chinese_img_0_image-16.png\n",
      "{'url': 'https://www.deeplearning.ai/the-batch/issue-87/', 'issue': 87, 'title': 'large_language_models_for_chinese'}\n",
      "issue_87_title_motion_mapper_img_0_image-17.png\n",
      "{'url': 'https://www.deeplearning.ai/the-batch/issue-87/', 'issue': 87, 'title': 'motion_mapper'}\n",
      "issue_88_title_haters_gonna_mute_img_0_image-6.png\n",
      "{'url': 'https://www.deeplearning.ai/the-batch/issue-88/', 'issue': 88, 'title': 'haters_gonna_mute'}\n",
      "issue_88_title_cream_of_the_startup_crop_img_0_image-7.png\n",
      "{'url': 'https://www.deeplearning.ai/the-batch/issue-88/', 'issue': 88, 'title': 'cream_of_the_startup_crop'}\n",
      "issue_88_title_no_text_img_0_the20batch202.png\n",
      "{'url': 'https://www.deeplearning.ai/the-batch/issue-88/', 'issue': 88, 'title': 'no_text'}\n",
      "issue_88_title_crouching_beggar_hidden_painting_img_0_image-8.png\n",
      "{'url': 'https://www.deeplearning.ai/the-batch/issue-88/', 'issue': 88, 'title': 'crouching_beggar_hidden_painting'}\n",
      "issue_88_title_toward_better_video_search_img_0_image-9.png\n",
      "{'url': 'https://www.deeplearning.ai/the-batch/issue-88/', 'issue': 88, 'title': 'toward_better_video_search'}\n",
      "issue_89_title_the_coming_crackdown_img_0_image.png\n",
      "{'url': 'https://www.deeplearning.ai/the-batch/issue-89/', 'issue': 89, 'title': 'the_coming_crackdown'}\n",
      "issue_89_title_wreck_recognition_img_0_image-1.png\n",
      "{'url': 'https://www.deeplearning.ai/the-batch/issue-89/', 'issue': 89, 'title': 'wreck_recognition'}\n",
      "issue_89_title_no_text_img_0_image-2.png\n",
      "{'url': 'https://www.deeplearning.ai/the-batch/issue-89/', 'issue': 89, 'title': 'no_text'}\n",
      "issue_89_title_up_for_debate_img_0_image-3.png\n",
      "{'url': 'https://www.deeplearning.ai/the-batch/issue-89/', 'issue': 89, 'title': 'up_for_debate'}\n",
      "issue_89_title_boosting_biomedicine_img_0_image-4.png\n",
      "{'url': 'https://www.deeplearning.ai/the-batch/issue-89/', 'issue': 89, 'title': 'boosting_biomedicine'}\n",
      "issue_90_title_robocoders_img_0_code_revised-2.gif\n",
      "{'url': 'https://www.deeplearning.ai/the-batch/issue-90/', 'issue': 90, 'title': 'robocoders'}\n",
      "issue_90_title_banking_on_computer_vision_img_0_bank576x324.gif\n",
      "{'url': 'https://www.deeplearning.ai/the-batch/issue-90/', 'issue': 90, 'title': 'banking_on_computer_vision'}\n",
      "issue_90_title_greener_machine_learning_img_0_ezgifcom-gif-maker---2021-04-27t113917099-1.gif\n",
      "{'url': 'https://www.deeplearning.ai/the-batch/issue-90/', 'issue': 90, 'title': 'greener_machine_learning'}\n",
      "issue_90_title_3d_object_factory_img_0_ezgifcom-gif-maker---2021-04-20t095340976-1.gif\n",
      "{'url': 'https://www.deeplearning.ai/the-batch/issue-90/', 'issue': 90, 'title': '3d_object_factory'}\n",
      "issue_91_title_out_of_the_lab_and_into_the_world_img_0_screen-shot-2021-05-11-at-40536-pm-copy--1-.png\n",
      "{'url': 'https://www.deeplearning.ai/the-batch/issue-91/', 'issue': 91, 'title': 'out_of_the_lab_and_into_the_world'}\n",
      "issue_95_title_borderline_ai_img_0_asylum-updated.gif\n",
      "{'url': 'https://www.deeplearning.ai/the-batch/issue-95/', 'issue': 95, 'title': 'borderline_ai'}\n",
      "issue_95_title_3d_scene_synthesis_for_the_real_world_img_0_barf.gif\n",
      "{'url': 'https://www.deeplearning.ai/the-batch/issue-95/', 'issue': 95, 'title': '3d_scene_synthesis_for_the_real_world'}\n",
      "issue_95_title_a_message_fromdeeplearningai_img_0_experts20panel-6-17_the20batch20image-1.png\n",
      "{'url': 'https://www.deeplearning.ai/the-batch/issue-95/', 'issue': 95, 'title': 'a_message_fromdeeplearningai'}\n",
      "issue_95_title_every_problem_looks_like_a_nail_img_0_manicure2.gif\n",
      "{'url': 'https://www.deeplearning.ai/the-batch/issue-95/', 'issue': 95, 'title': 'every_problem_looks_like_a_nail'}\n",
      "issue_95_title_irresponsible_ai_img_0_fico-redo-2.gif\n",
      "{'url': 'https://www.deeplearning.ai/the-batch/issue-95/', 'issue': 95, 'title': 'irresponsible_ai'}\n",
      "issue_95_title_a_message_fromdeeplearningai_img_0_specialization20name201.png\n",
      "{'url': 'https://www.deeplearning.ai/the-batch/issue-95/', 'issue': 95, 'title': 'a_message_fromdeeplearningai'}\n",
      "issue_96_title_computers_making_computers_img_0_chips.gif\n",
      "{'url': 'https://www.deeplearning.ai/the-batch/issue-96/', 'issue': 96, 'title': 'computers_making_computers'}\n",
      "issue_96_title_ai_against_covid_progress_report_img_0_covid.gif\n",
      "{'url': 'https://www.deeplearning.ai/the-batch/issue-96/', 'issue': 96, 'title': 'ai_against_covid_progress_report'}\n",
      "issue_96_title_a_message_fromdeeplearningai_img_0_the20batch20image204.png\n",
      "{'url': 'https://www.deeplearning.ai/the-batch/issue-96/', 'issue': 96, 'title': 'a_message_fromdeeplearningai'}\n",
      "issue_96_title_the_writing_not_the_doodles_img_0_handwritting_revised.gif\n",
      "{'url': 'https://www.deeplearning.ai/the-batch/issue-96/', 'issue': 96, 'title': 'the_writing_not_the_doodles'}\n",
      "issue_96_title_a_bicycle_built_for_zero_img_0_bike.gif\n",
      "{'url': 'https://www.deeplearning.ai/the-batch/issue-96/', 'issue': 96, 'title': 'a_bicycle_built_for_zero'}\n",
      "issue_97_title_where_theres_smoke_theres_ai_img_0_ezgifcom-gif-maker20-202021-06-15t133323218.gif\n",
      "{'url': 'https://www.deeplearning.ai/the-batch/issue-97/', 'issue': 97, 'title': 'where_theres_smoke_theres_ai'}\n",
      "issue_97_title_synthetic_videos_on_the_double_img_0_vgpt.gif\n",
      "{'url': 'https://www.deeplearning.ai/the-batch/issue-97/', 'issue': 97, 'title': 'synthetic_videos_on_the_double'}\n",
      "issue_97_title_a_message_fromdeeplearningai_img_0_experts20panel-630_the20batch20image-1.png\n",
      "{'url': 'https://www.deeplearning.ai/the-batch/issue-97/', 'issue': 97, 'title': 'a_message_fromdeeplearningai'}\n",
      "issue_97_title_machine_learning_for_human_learners_img_0_highered.gif\n",
      "{'url': 'https://www.deeplearning.ai/the-batch/issue-97/', 'issue': 97, 'title': 'machine_learning_for_human_learners'}\n",
      "issue_97_title_sorting_shattered_traditions_img_0_ezgifcom-gif-maker20-202021-05-25t145524475.gif\n",
      "{'url': 'https://www.deeplearning.ai/the-batch/issue-97/', 'issue': 97, 'title': 'sorting_shattered_traditions'}\n",
      "issue_97_title_a_message_fromdeeplearningai_img_0_course20name201-2.png\n",
      "Filtered: issue_97_title_a_message_fromdeeplearningai_img_0_course20name201-2.png\n",
      "issue_98_title_flight_paths_optimized_img_0_flyways.gif\n",
      "{'url': 'https://www.deeplearning.ai/the-batch/issue-98/', 'issue': 98, 'title': 'flight_paths_optimized'}\n",
      "issue_98_title_is_ethical_ai_an_oxymoron_img_0_ethics-1.gif\n",
      "{'url': 'https://www.deeplearning.ai/the-batch/issue-98/', 'issue': 98, 'title': 'is_ethical_ai_an_oxymoron'}\n",
      "issue_98_title_a_message_fromdeeplearningai_img_0_the-batch-image-4--1---2-.png\n",
      "Filtered: issue_98_title_a_message_fromdeeplearningai_img_0_the-batch-image-4--1---2-.png\n",
      "issue_98_title_no_cashier_no_problem_img_0_fresh.gif\n",
      "{'url': 'https://www.deeplearning.ai/the-batch/issue-98/', 'issue': 98, 'title': 'no_cashier_no_problem'}\n",
      "issue_98_title_pattern_for_efficient_learning_img_0_fewshot.gif\n",
      "{'url': 'https://www.deeplearning.ai/the-batch/issue-98/', 'issue': 98, 'title': 'pattern_for_efficient_learning'}\n",
      "issue_99_title_lighter_traffic_ahead_img_0_notraffic-revised.gif\n",
      "{'url': 'https://www.deeplearning.ai/the-batch/issue-99/', 'issue': 99, 'title': 'lighter_traffic_ahead'}\n",
      "issue_99_title_behavioral_cloning_shootout_img_0_csgo576x324.gif\n",
      "{'url': 'https://www.deeplearning.ai/the-batch/issue-99/', 'issue': 99, 'title': 'behavioral_cloning_shootout'}\n",
      "issue_99_title_no_text_img_0_course-name-2-2.png\n",
      "Filtered: issue_99_title_no_text_img_0_course-name-2-2.png\n",
      "issue_99_title_home_sweet_ai-appraised_home_img_0_zillow.gif\n",
      "{'url': 'https://www.deeplearning.ai/the-batch/issue-99/', 'issue': 99, 'title': 'home_sweet_ai-appraised_home'}\n",
      "issue_99_title_bugbot_img_0_divscan.gif\n",
      "{'url': 'https://www.deeplearning.ai/the-batch/issue-99/', 'issue': 99, 'title': 'bugbot'}\n",
      "issue_99_title__img_0_ai-access-78_the-batch-image--1---1-.png\n",
      "{'url': 'https://www.deeplearning.ai/the-batch/issue-99/', 'issue': 99, 'title': ''}\n",
      "issue_101_title_listening_to_the_brain_img_0_brain-implant.gif\n",
      "{'url': 'https://www.deeplearning.ai/the-batch/issue-101/', 'issue': 101, 'title': 'listening_to_the_brain'}\n",
      "issue_101_title_when_algorithms_manage_humans_img_0_ezgifcom-gif-maker-4.gif\n",
      "{'url': 'https://www.deeplearning.ai/the-batch/issue-101/', 'issue': 101, 'title': 'when_algorithms_manage_humans'}\n",
      "issue_101_title_no_text_img_0_course-name-3-3.png\n",
      "Filtered: issue_101_title_no_text_img_0_course-name-3-3.png\n",
      "issue_101_title_one_network_many_scenes_img_0_nerf-vae.gif\n",
      "{'url': 'https://www.deeplearning.ai/the-batch/issue-101/', 'issue': 101, 'title': 'one_network_many_scenes'}\n",
      "issue_101_title_bye_bye_bots_img_0_openai.gif\n",
      "{'url': 'https://www.deeplearning.ai/the-batch/issue-101/', 'issue': 101, 'title': 'bye_bye_bots'}\n",
      "issue_102_title_meet_the_new_smart-cities_champ_img_0_city--1-.gif\n",
      "{'url': 'https://www.deeplearning.ai/the-batch/issue-102/', 'issue': 102, 'title': 'meet_the_new_smart-cities_champ'}\n",
      "issue_102_title_fake_aim_img_0_ezgifcom-gif-maker--1--3.gif\n",
      "{'url': 'https://www.deeplearning.ai/the-batch/issue-102/', 'issue': 102, 'title': 'fake_aim'}\n",
      "issue_102_title_no_text_img_0_specialization-name--2---1-.png\n",
      "{'url': 'https://www.deeplearning.ai/the-batch/issue-102/', 'issue': 102, 'title': 'no_text'}\n",
      "issue_102_title_transformers_smarter_than_you_think_img_0_transformer.gif\n",
      "{'url': 'https://www.deeplearning.ai/the-batch/issue-102/', 'issue': 102, 'title': 'transformers_smarter_than_you_think'}\n",
      "issue_102_title_us_lax_on_face_recognition_img_0_gao.gif\n",
      "{'url': 'https://www.deeplearning.ai/the-batch/issue-102/', 'issue': 102, 'title': 'us_lax_on_face_recognition'}\n",
      "issue_103_title_shots_in_the_dark_img_0_shotspotter2.gif\n",
      "{'url': 'https://www.deeplearning.ai/the-batch/issue-103/', 'issue': 103, 'title': 'shots_in_the_dark'}\n",
      "issue_103_title_biomedical_treasure_chest_img_0_protein-2.gif\n",
      "{'url': 'https://www.deeplearning.ai/the-batch/issue-103/', 'issue': 103, 'title': 'biomedical_treasure_chest'}\n",
      "issue_103_title_no_text_img_0_experts-panel-811_the-batch-image.png\n",
      "Filtered: issue_103_title_no_text_img_0_experts-panel-811_the-batch-image.png\n",
      "issue_103_title_olympic_ai_img_0_volleyball.gif\n",
      "{'url': 'https://www.deeplearning.ai/the-batch/issue-103/', 'issue': 103, 'title': 'olympic_ai'}\n",
      "issue_103_title_revenge_of_the_perceptrons_img_0_mixer.gif\n",
      "{'url': 'https://www.deeplearning.ai/the-batch/issue-103/', 'issue': 103, 'title': 'revenge_of_the_perceptrons'}\n",
      "issue_105_title_user_privacy_versus_child_safety_img_0_apple.gif\n",
      "{'url': 'https://www.deeplearning.ai/the-batch/issue-105/', 'issue': 105, 'title': 'user_privacy_versus_child_safety'}\n",
      "issue_105_title_outstanding_in_the_field_img_0_ezgifcom-gif-maker--4--2.gif\n",
      "{'url': 'https://www.deeplearning.ai/the-batch/issue-105/', 'issue': 105, 'title': 'outstanding_in_the_field'}\n",
      "issue_105_title_no_text_img_0_specialization-name--2-.png\n",
      "{'url': 'https://www.deeplearning.ai/the-batch/issue-105/', 'issue': 105, 'title': 'no_text'}\n",
      "issue_105_title_invented_by_ai_img_0_patent-with-highlights-2.gif\n",
      "{'url': 'https://www.deeplearning.ai/the-batch/issue-105/', 'issue': 105, 'title': 'invented_by_ai'}\n",
      "issue_105_title_solve_rl_with_this_one_weird_trick_img_0_spectral-1.gif\n",
      "{'url': 'https://www.deeplearning.ai/the-batch/issue-105/', 'issue': 105, 'title': 'solve_rl_with_this_one_weird_trick'}\n",
      "issue_106_title_fighting_addiction_or_denying_care_img_0_perscription.gif\n",
      "{'url': 'https://www.deeplearning.ai/the-batch/issue-106/', 'issue': 106, 'title': 'fighting_addiction_or_denying_care'}\n",
      "issue_106_title_weak_foundations_make_weak_models_img_0_ezgifcom-gif-maker--7--2.gif\n",
      "{'url': 'https://www.deeplearning.ai/the-batch/issue-106/', 'issue': 106, 'title': 'weak_foundations_make_weak_models'}\n",
      "issue_106_title_no_text_img_0_course-name-banner-4-1.png\n",
      "Filtered: issue_106_title_no_text_img_0_course-name-banner-4-1.png\n",
      "issue_106_title_wake_up_and_smell_the_ai_img_0_ezgifcom-gif-maker--3--2.gif\n",
      "{'url': 'https://www.deeplearning.ai/the-batch/issue-106/', 'issue': 106, 'title': 'wake_up_and_smell_the_ai'}\n",
      "issue_106_title_more_reliable_pretraining_img_0_vicregv2.gif\n",
      "{'url': 'https://www.deeplearning.ai/the-batch/issue-106/', 'issue': 106, 'title': 'more_reliable_pretraining'}\n",
      "issue_107_title_dances_with_robots_img_0_tesla-bot.gif\n",
      "{'url': 'https://www.deeplearning.ai/the-batch/issue-107/', 'issue': 107, 'title': 'dances_with_robots'}\n",
      "issue_107_title_deep_unlearning_img_0_unlearn.gif\n",
      "{'url': 'https://www.deeplearning.ai/the-batch/issue-107/', 'issue': 107, 'title': 'deep_unlearning'}\n",
      "issue_107_title_no_text_img_0_course-name-banner-4--1-.png\n",
      "Filtered: issue_107_title_no_text_img_0_course-name-banner-4--1-.png\n",
      "issue_107_title_full-bodied_with_hints_of_forest_fire_img_0_wine.gif\n",
      "{'url': 'https://www.deeplearning.ai/the-batch/issue-107/', 'issue': 107, 'title': 'full-bodied_with_hints_of_forest_fire'}\n",
      "issue_107_title_ask_me_in_a_different_way_img_0_truefewv5--1-.gif\n",
      "{'url': 'https://www.deeplearning.ai/the-batch/issue-107/', 'issue': 107, 'title': 'ask_me_in_a_different_way'}\n",
      "issue_108_title_getting_a_jump_on_climate_change_img_0_weather.gif\n",
      "{'url': 'https://www.deeplearning.ai/the-batch/issue-108/', 'issue': 108, 'title': 'getting_a_jump_on_climate_change'}\n",
      "issue_108_title_ai_sales_closing_in_on_500_billion_img_0_idc-1.gif\n",
      "{'url': 'https://www.deeplearning.ai/the-batch/issue-108/', 'issue': 108, 'title': 'ai_sales_closing_in_on_500_billion'}\n",
      "issue_108_title_no_text_img_0_course-name-banner-4-2.png\n",
      "Filtered: issue_108_title_no_text_img_0_course-name-banner-4-2.png\n",
      "issue_108_title_perceptrons_are_all_you_need_img_0_gmlp-1.gif\n",
      "{'url': 'https://www.deeplearning.ai/the-batch/issue-108/', 'issue': 108, 'title': 'perceptrons_are_all_you_need'}\n",
      "issue_108_title_solar_system_img_0_solar.gif\n",
      "{'url': 'https://www.deeplearning.ai/the-batch/issue-108/', 'issue': 108, 'title': 'solar_system'}\n",
      "issue_109_title_rules_for_recommenders_img_0_chinarecs.gif\n",
      "{'url': 'https://www.deeplearning.ai/the-batch/issue-109/', 'issue': 109, 'title': 'rules_for_recommenders'}\n",
      "issue_109_title_risk_reduction_for_elders_img_0_ezgifcom-gif-maker---2021-08-31t102909159.gif\n",
      "{'url': 'https://www.deeplearning.ai/the-batch/issue-109/', 'issue': 109, 'title': 'risk_reduction_for_elders'}\n",
      "issue_109_title_no_text_img_0_9.webp\n",
      "{'url': 'https://www.deeplearning.ai/the-batch/issue-109/', 'issue': 109, 'title': 'no_text'}\n",
      "issue_109_title_team_players_img_0_football-1.gif\n",
      "{'url': 'https://www.deeplearning.ai/the-batch/issue-109/', 'issue': 109, 'title': 'team_players'}\n",
      "issue_109_title_ai_engineers_weigh_in_on_ai_ethics_img_0_survey.gif\n",
      "{'url': 'https://www.deeplearning.ai/the-batch/issue-109/', 'issue': 109, 'title': 'ai_engineers_weigh_in_on_ai_ethics'}\n",
      "issue_110_title_distance_killing_img_0_screen-shot-2021-09-20-at-10416-pm-sized.png\n",
      "{'url': 'https://www.deeplearning.ai/the-batch/issue-110/', 'issue': 110, 'title': 'distance_killing'}\n",
      "issue_110_title_driverless_delivery_in_high_gear_img_0_walmart.gif\n",
      "{'url': 'https://www.deeplearning.ai/the-batch/issue-110/', 'issue': 110, 'title': 'driverless_delivery_in_high_gear'}\n",
      "issue_110_title_no_text_img_0_ai-x-929_the-batch-image.png\n",
      "Filtered: issue_110_title_no_text_img_0_ai-x-929_the-batch-image.png\n",
      "issue_110_title_ai_with_a_sense_of_style_img_0_gansnroses--1-.gif\n",
      "{'url': 'https://www.deeplearning.ai/the-batch/issue-110/', 'issue': 110, 'title': 'ai_with_a_sense_of_style'}\n",
      "issue_110_title_un_calls_out_ai_img_0_un.gif\n",
      "{'url': 'https://www.deeplearning.ai/the-batch/issue-110/', 'issue': 110, 'title': 'un_calls_out_ai'}\n",
      "issue_111_title_who_needs_a_covid_test_ai_decides_img_0_1.gif\n",
      "{'url': 'https://www.deeplearning.ai/the-batch/issue-111/', 'issue': 111, 'title': 'who_needs_a_covid_test_ai_decides'}\n",
      "issue_111_title_too_fabulous_for_face_recognition_img_0_2.gif\n",
      "{'url': 'https://www.deeplearning.ai/the-batch/issue-111/', 'issue': 111, 'title': 'too_fabulous_for_face_recognition'}\n",
      "issue_111_title_a_message_fromquantumscape_img_0_3.jpg\n",
      "{'url': 'https://www.deeplearning.ai/the-batch/issue-111/', 'issue': 111, 'title': 'a_message_fromquantumscape'}\n",
      "issue_111_title_more_thinking_solves_harder_problems_img_0_4.gif\n",
      "{'url': 'https://www.deeplearning.ai/the-batch/issue-111/', 'issue': 111, 'title': 'more_thinking_solves_harder_problems'}\n",
      "issue_111_title_conference_paper_choices_under_fire_img_0_5.gif\n",
      "{'url': 'https://www.deeplearning.ai/the-batch/issue-111/', 'issue': 111, 'title': 'conference_paper_choices_under_fire'}\n",
      "issue_115_title_something_wicked_this_way_comes_img_0_andrew-trickortreating-aspanda-4_600px.webp\n",
      "{'url': 'https://www.deeplearning.ai/the-batch/issue-115/', 'issue': 115, 'title': 'something_wicked_this_way_comes'}\n",
      "issue_121_title_minorities_reported_img_0_predpol--1-.gif\n",
      "{'url': 'https://www.deeplearning.ai/the-batch/issue-121/', 'issue': 121, 'title': 'minorities_reported'}\n",
      "issue_121_title_recognizing_autism_img_0_autism--1-.gif\n",
      "{'url': 'https://www.deeplearning.ai/the-batch/issue-121/', 'issue': 121, 'title': 'recognizing_autism'}\n",
      "issue_121_title_a_message_fromdeeplearningai_img_0_the-batch-s12n.webp\n",
      "Filtered: issue_121_title_a_message_fromdeeplearningai_img_0_the-batch-s12n.webp\n",
      "issue_121_title_corporate_ethics_counterbalance_img_0_dair--1-.gif\n",
      "{'url': 'https://www.deeplearning.ai/the-batch/issue-121/', 'issue': 121, 'title': 'corporate_ethics_counterbalance'}\n",
      "issue_121_title_reinforcement_learning_transformed_img_0_decision-1.gif\n",
      "{'url': 'https://www.deeplearning.ai/the-batch/issue-121/', 'issue': 121, 'title': 'reinforcement_learning_transformed'}\n",
      "issue_128_title_no_text_img_0_deeplearningai_banner_main_1200x628_a.png\n",
      "{'url': 'https://www.deeplearning.ai/the-batch/issue-128/', 'issue': 128, 'title': 'no_text'}\n",
      "issue_135_title_help_wanted_ai_developers_img_0_help-wanted-ai-developers-2.png\n",
      "{'url': 'https://www.deeplearning.ai/the-batch/issue-135/', 'issue': 135, 'title': 'help_wanted_ai_developers'}\n",
      "issue_135_title_investorbots_too_good_to_be_true_img_0_investorbots-too-good-to-be-true-2.gif\n",
      "{'url': 'https://www.deeplearning.ai/the-batch/issue-135/', 'issue': 135, 'title': 'investorbots_too_good_to_be_true'}\n",
      "issue_135_title_coordinating_robot_limbs_img_0_coordinating-robot-limbs-2.gif\n",
      "{'url': 'https://www.deeplearning.ai/the-batch/issue-135/', 'issue': 135, 'title': 'coordinating_robot_limbs'}\n",
      "issue_135_title_algorithms_for_the_aged_img_0_algorithms-for-the-aged.gif\n",
      "{'url': 'https://www.deeplearning.ai/the-batch/issue-135/', 'issue': 135, 'title': 'algorithms_for_the_aged'}\n",
      "issue_137_title_who_needs_programming_img_0_nocode--1-.gif\n",
      "{'url': 'https://www.deeplearning.ai/the-batch/issue-137/', 'issue': 137, 'title': 'who_needs_programming'}\n",
      "issue_137_title_the_many_faces_of_genetic_illness_img_0_ezgifcom-gif-maker--24--1.gif\n",
      "{'url': 'https://www.deeplearning.ai/the-batch/issue-137/', 'issue': 137, 'title': 'the_many_faces_of_genetic_illness'}\n",
      "issue_137_title_stock-trading_test_bed_img_0_ezgifcom-gif-maker--11--2-1.gif\n",
      "{'url': 'https://www.deeplearning.ai/the-batch/issue-137/', 'issue': 137, 'title': 'stock-trading_test_bed'}\n",
      "issue_137_title_ai_a_progress_report_img_0_index--1-.gif\n",
      "{'url': 'https://www.deeplearning.ai/the-batch/issue-137/', 'issue': 137, 'title': 'ai_a_progress_report'}\n",
      "issue_138_title_ai_designs_chemical_weapons_img_0_chemweapons.gif\n",
      "{'url': 'https://www.deeplearning.ai/the-batch/issue-138/', 'issue': 138, 'title': 'ai_designs_chemical_weapons'}\n",
      "issue_138_title_transformer_accelerator_img_0_nvidia.gif\n",
      "{'url': 'https://www.deeplearning.ai/the-batch/issue-138/', 'issue': 138, 'title': 'transformer_accelerator'}\n",
      "issue_138_title_a_message_fromdeeplearningai_img_0_the-batch-image--3-.png\n",
      "Filtered: issue_138_title_a_message_fromdeeplearningai_img_0_the-batch-image--3-.png\n",
      "issue_138_title_native_processing_img_0_ivow.png\n",
      "{'url': 'https://www.deeplearning.ai/the-batch/issue-138/', 'issue': 138, 'title': 'native_processing'}\n",
      "issue_139_title_the_hammer_drops_img_0_ftc--1-.gif\n",
      "{'url': 'https://www.deeplearning.ai/the-batch/issue-139/', 'issue': 139, 'title': 'the_hammer_drops'}\n",
      "issue_139_title_animal_animations_from_video_img_0_zoobuilder.gif\n",
      "{'url': 'https://www.deeplearning.ai/the-batch/issue-139/', 'issue': 139, 'title': 'animal_animations_from_video'}\n",
      "issue_139_title_a_message_fromdeeplearningai_img_0_the-batch-image--4-.png\n",
      "Filtered: issue_139_title_a_message_fromdeeplearningai_img_0_the-batch-image--4-.png\n",
      "issue_139_title_learning_after_overfitting_img_0_ezgifcom-gif-maker--18--1.gif\n",
      "{'url': 'https://www.deeplearning.ai/the-batch/issue-139/', 'issue': 139, 'title': 'learning_after_overfitting'}\n",
      "issue_139_title_slime_pays_img_0_algae--1-.gif\n",
      "{'url': 'https://www.deeplearning.ai/the-batch/issue-139/', 'issue': 139, 'title': 'slime_pays'}\n",
      "issue_140_title_ai_enters_the_radiology_department_img_0_xray.gif\n",
      "{'url': 'https://www.deeplearning.ai/the-batch/issue-140/', 'issue': 140, 'title': 'ai_enters_the_radiology_department'}\n",
      "issue_140_title_seeing_through_the_fog_of_war_img_0_facewar.gif\n",
      "{'url': 'https://www.deeplearning.ai/the-batch/issue-140/', 'issue': 140, 'title': 'seeing_through_the_fog_of_war'}\n",
      "issue_140_title_a_message_fromdeeplearningai_img_0_428_the-batch-image.png\n",
      "Filtered: issue_140_title_a_message_fromdeeplearningai_img_0_428_the-batch-image.png\n",
      "issue_140_title_your_salesbot_connection_img_0_deepfake--1-.gif\n",
      "{'url': 'https://www.deeplearning.ai/the-batch/issue-140/', 'issue': 140, 'title': 'your_salesbot_connection'}\n",
      "issue_140_title_from_sequences_to_symbols_img_0_symbolic.gif\n",
      "{'url': 'https://www.deeplearning.ai/the-batch/issue-140/', 'issue': 140, 'title': 'from_sequences_to_symbols'}\n",
      "issue_141_title_how_ai_ventures_spend_their_capital_img_0_startups.png\n",
      "{'url': 'https://www.deeplearning.ai/the-batch/issue-141/', 'issue': 141, 'title': 'how_ai_ventures_spend_their_capital'}\n",
      "issue_141_title_neural_nets__rules__truer_text_img_0_mrkl.gif\n",
      "{'url': 'https://www.deeplearning.ai/the-batch/issue-141/', 'issue': 141, 'title': 'neural_nets__rules__truer_text'}\n",
      "issue_141_title_more_realistic_pictures_from_text_img_0_glidev2.gif\n",
      "{'url': 'https://www.deeplearning.ai/the-batch/issue-141/', 'issue': 141, 'title': 'more_realistic_pictures_from_text'}\n",
      "issue_141_title_algorithm_as_real_estate_agent_img_0_ezgifcom-gif-maker--19--2.gif\n",
      "{'url': 'https://www.deeplearning.ai/the-batch/issue-141/', 'issue': 141, 'title': 'algorithm_as_real_estate_agent'}\n",
      "issue_142_title_the_view_through_the_windshield_img_0_accidents--1-.gif\n",
      "{'url': 'https://www.deeplearning.ai/the-batch/issue-142/', 'issue': 142, 'title': 'the_view_through_the_windshield'}\n",
      "issue_142_title_bridge_to_explainable_ai_img_0_bridge.webp\n",
      "{'url': 'https://www.deeplearning.ai/the-batch/issue-142/', 'issue': 142, 'title': 'bridge_to_explainable_ai'}\n",
      "issue_142_title_a_message_fromdeeplearningai_img_0_deeplearningai_banner_stanford_teaser_1200x628_artboard-2--1-.png\n",
      "{'url': 'https://www.deeplearning.ai/the-batch/issue-142/', 'issue': 142, 'title': 'a_message_fromdeeplearningai'}\n",
      "issue_142_title_efficiency_experts_img_0_glam.gif\n",
      "{'url': 'https://www.deeplearning.ai/the-batch/issue-142/', 'issue': 142, 'title': 'efficiency_experts'}\n",
      "issue_142_title_training_mission_img_0_jet--1-.gif\n",
      "{'url': 'https://www.deeplearning.ai/the-batch/issue-142/', 'issue': 142, 'title': 'training_mission'}\n",
      "issue_143_title_predicting_the_next_pandemic_img_0_virus-animation.gif\n",
      "{'url': 'https://www.deeplearning.ai/the-batch/issue-143/', 'issue': 143, 'title': 'predicting_the_next_pandemic'}\n",
      "issue_143_title_autonomy_becomes_autonomous_img_0_beijing--1-.gif\n",
      "{'url': 'https://www.deeplearning.ai/the-batch/issue-143/', 'issue': 143, 'title': 'autonomy_becomes_autonomous'}\n",
      "issue_143_title_a_message_fromdeeplearningai_img_0_ai-x-518_the-batch-image.png\n",
      "Filtered: issue_143_title_a_message_fromdeeplearningai_img_0_ai-x-518_the-batch-image.png\n",
      "issue_143_title_managing_medical_uncertainty_img_0_hospitals-1.webp\n",
      "{'url': 'https://www.deeplearning.ai/the-batch/issue-143/', 'issue': 143, 'title': 'managing_medical_uncertainty'}\n",
      "issue_143_title_less_data_for_vision_transformers_img_0_small.gif\n",
      "{'url': 'https://www.deeplearning.ai/the-batch/issue-143/', 'issue': 143, 'title': 'less_data_for_vision_transformers'}\n",
      "issue_144_title_gpt-free_img_0_meta.webp\n",
      "{'url': 'https://www.deeplearning.ai/the-batch/issue-144/', 'issue': 144, 'title': 'gpt-free'}\n",
      "issue_144_title_nurses_mechanical_helper_img_0_moxi--1-.gif\n",
      "{'url': 'https://www.deeplearning.ai/the-batch/issue-144/', 'issue': 144, 'title': 'nurses_mechanical_helper'}\n",
      "issue_144_title_a_message_fromdeeplearningai_img_0_deeplearningai_banner_stanford_teaser_1200x628_artboard-2--1-.png\n",
      "{'url': 'https://www.deeplearning.ai/the-batch/issue-144/', 'issue': 144, 'title': 'a_message_fromdeeplearningai'}\n",
      "issue_144_title_hit_picker_img_0_musiio--1-.gif\n",
      "{'url': 'https://www.deeplearning.ai/the-batch/issue-144/', 'issue': 144, 'title': 'hit_picker'}\n",
      "issue_144_title_image_generation__probabilities_img_0_embeddedv2.gif\n",
      "{'url': 'https://www.deeplearning.ai/the-batch/issue-144/', 'issue': 144, 'title': 'image_generation__probabilities'}\n",
      "issue_145_title_one_model_hundreds_of_tasks_img_0_ezgifcom-gif-maker-may-18-2022-09-16-57-71-pm.gif\n",
      "{'url': 'https://www.deeplearning.ai/the-batch/issue-145/', 'issue': 145, 'title': 'one_model_hundreds_of_tasks'}\n",
      "issue_145_title_recognizing_workplace_hazards_img_0_ezgifcom-gif-maker--25--1.gif\n",
      "{'url': 'https://www.deeplearning.ai/the-batch/issue-145/', 'issue': 145, 'title': 'recognizing_workplace_hazards'}\n",
      "issue_145_title_a_message_fromdeeplearningai_img_0_deeplearningai_banner_stanford_teaser_1200x628_artboard-2--1--1.png\n",
      "{'url': 'https://www.deeplearning.ai/the-batch/issue-145/', 'issue': 145, 'title': 'a_message_fromdeeplearningai'}\n",
      "issue_145_title_when_data__danger_img_0_locationetcdata.webp\n",
      "{'url': 'https://www.deeplearning.ai/the-batch/issue-145/', 'issue': 145, 'title': 'when_data__danger'}\n",
      "issue_145_title_upgrade_for_vision_transformers_img_0_cxvv2.gif\n",
      "{'url': 'https://www.deeplearning.ai/the-batch/issue-145/', 'issue': 145, 'title': 'upgrade_for_vision_transformers'}\n",
      "issue_146_title_essential_algorithms_img_0_andrew-atwhiteboard-questionmark_1200px-1.jpg\n",
      "{'url': 'https://www.deeplearning.ai/the-batch/issue-146/', 'issue': 146, 'title': 'essential_algorithms'}\n",
      "issue_146_title_linear_regression_straight__narrow_img_0_linearregression_carweight-milege_1200px.webp\n",
      "{'url': 'https://www.deeplearning.ai/the-batch/issue-146/', 'issue': 146, 'title': 'linear_regression_straight__narrow'}\n",
      "issue_146_title_logistic_regression_follow_the_curve_img_0_logisticregression_tumbler_1200px.webp\n",
      "{'url': 'https://www.deeplearning.ai/the-batch/issue-146/', 'issue': 146, 'title': 'logistic_regression_follow_the_curve'}\n",
      "issue_146_title_gradient_descent_its_all_downhill_img_0_heroes-mountainpaths-gullies_1200px-1.webp\n",
      "{'url': 'https://www.deeplearning.ai/the-batch/issue-146/', 'issue': 146, 'title': 'gradient_descent_its_all_downhill'}\n",
      "issue_146_title_a_message_fromdeeplearningai_img_0_deeplearningai_banner_stanford_teaser_1200x628_artboard-2--1-.webp\n",
      "{'url': 'https://www.deeplearning.ai/the-batch/issue-146/', 'issue': 146, 'title': 'a_message_fromdeeplearningai'}\n",
      "issue_146_title_neural_networks_find_the_function_img_0_admiralperceptron_1200px.webp\n",
      "{'url': 'https://www.deeplearning.ai/the-batch/issue-146/', 'issue': 146, 'title': 'neural_networks_find_the_function'}\n",
      "issue_146_title_decision_trees_from_root_to_leaves_img_0_decisiontree_1200px.webp\n",
      "{'url': 'https://www.deeplearning.ai/the-batch/issue-146/', 'issue': 146, 'title': 'decision_trees_from_root_to_leaves'}\n",
      "issue_146_title_k-means_clustering_group_think_img_0_k-means_3clusters_1200px_crop-2.webp\n",
      "{'url': 'https://www.deeplearning.ai/the-batch/issue-146/', 'issue': 146, 'title': 'k-means_clustering_group_think'}\n",
      "issue_147_title_actors_act_against_ai_img_0_ezgif.webp\n",
      "{'url': 'https://www.deeplearning.ai/the-batch/issue-147/', 'issue': 147, 'title': 'actors_act_against_ai'}\n",
      "issue_147_title_winning_the_google_game_img_0_content--1-.gif\n",
      "{'url': 'https://www.deeplearning.ai/the-batch/issue-147/', 'issue': 147, 'title': 'winning_the_google_game'}\n",
      "issue_147_title_a_message_fromdeeplearningai_img_0_intro-to-mlops-cover--1-.webp\n",
      "{'url': 'https://www.deeplearning.ai/the-batch/issue-147/', 'issue': 147, 'title': 'a_message_fromdeeplearningai'}\n",
      "issue_147_title_deep_learning_for_deep_discounts_img_0_upside.webp\n",
      "{'url': 'https://www.deeplearning.ai/the-batch/issue-147/', 'issue': 147, 'title': 'deep_learning_for_deep_discounts'}\n",
      "issue_147_title_right-sizing_confidence_img_0_ezgifcom-gif-maker--12--1.gif\n",
      "{'url': 'https://www.deeplearning.ai/the-batch/issue-147/', 'issue': 147, 'title': 'right-sizing_confidence'}\n",
      "issue_148_title_dalle_2s_emergent_vocabulary_img_0_dallenglish.gif\n",
      "{'url': 'https://www.deeplearning.ai/the-batch/issue-148/', 'issue': 148, 'title': 'dalle_2s_emergent_vocabulary'}\n",
      "issue_148_title_standout_startups_img_0_ai100.gif\n",
      "{'url': 'https://www.deeplearning.ai/the-batch/issue-148/', 'issue': 148, 'title': 'standout_startups'}\n",
      "issue_148_title_a_message_fromdeeplearningai_img_0_pie---ai-amabssador-soptlight_the-batch-brigita.png\n",
      "Filtered: issue_148_title_a_message_fromdeeplearningai_img_0_pie---ai-amabssador-soptlight_the-batch-brigita.png\n",
      "issue_148_title_child-welfare_agency_drops_ai_img_0_oregon.gif\n",
      "{'url': 'https://www.deeplearning.ai/the-batch/issue-148/', 'issue': 148, 'title': 'child-welfare_agency_drops_ai'}\n",
      "issue_148_title_tech_imitates_life_life_imitates_art_img_0_automata--1-.gif\n",
      "{'url': 'https://www.deeplearning.ai/the-batch/issue-148/', 'issue': 148, 'title': 'tech_imitates_life_life_imitates_art'}\n",
      "issue_149_title_lamda_comes_alive_img_0_lamda--1-.gif\n",
      "{'url': 'https://www.deeplearning.ai/the-batch/issue-149/', 'issue': 149, 'title': 'lamda_comes_alive'}\n",
      "issue_149_title_ethics_team_scuttles_taser_drone_img_0_taser--1-.gif\n",
      "{'url': 'https://www.deeplearning.ai/the-batch/issue-149/', 'issue': 149, 'title': 'ethics_team_scuttles_taser_drone'}\n",
      "issue_149_title_a_message_fromdeeplearningai_img_0_specialization-name-banner--2-.png\n",
      "{'url': 'https://www.deeplearning.ai/the-batch/issue-149/', 'issue': 149, 'title': 'a_message_fromdeeplearningai'}\n",
      "issue_149_title_meta_decentralizes_ai_effort_img_0_ezgifcom-gif-maker--34-.gif\n",
      "{'url': 'https://www.deeplearning.ai/the-batch/issue-149/', 'issue': 149, 'title': 'meta_decentralizes_ai_effort'}\n",
      "issue_149_title_airfoils_automatically_optimized_img_0_physics.gif\n",
      "{'url': 'https://www.deeplearning.ai/the-batch/issue-149/', 'issue': 149, 'title': 'airfoils_automatically_optimized'}\n",
      "issue_150_title_toward_next-gen_language_models_img_0_bigbench.gif\n",
      "{'url': 'https://www.deeplearning.ai/the-batch/issue-150/', 'issue': 150, 'title': 'toward_next-gen_language_models'}\n",
      "issue_150_title_wind_in_the_forecast_img_0_wind.webp\n",
      "{'url': 'https://www.deeplearning.ai/the-batch/issue-150/', 'issue': 150, 'title': 'wind_in_the_forecast'}\n",
      "issue_150_title_a_message_fromdeeplearningai_img_0_pie---ai-amabssador-soptlight_the-batch-emilio.png\n",
      "Filtered: issue_150_title_a_message_fromdeeplearningai_img_0_pie---ai-amabssador-soptlight_the-batch-emilio.png\n",
      "issue_150_title_deep_doo-doo_img_0_ezgifcom-gif-maker--31--1.gif\n",
      "{'url': 'https://www.deeplearning.ai/the-batch/issue-150/', 'issue': 150, 'title': 'deep_doo-doo'}\n",
      "issue_150_title_pile_on_the_layers_img_0_deepnet.gif\n",
      "{'url': 'https://www.deeplearning.ai/the-batch/issue-150/', 'issue': 150, 'title': 'pile_on_the_layers'}\n",
      "issue_151_title_more_autonomy_for_martian_drone_img_0_ingenuity--1-.gif\n",
      "{'url': 'https://www.deeplearning.ai/the-batch/issue-151/', 'issue': 151, 'title': 'more_autonomy_for_martian_drone'}\n",
      "issue_151_title_us_acts_against_algorithmic_bias_img_0_ads-1.gif\n",
      "{'url': 'https://www.deeplearning.ai/the-batch/issue-151/', 'issue': 151, 'title': 'us_acts_against_algorithmic_bias'}\n",
      "issue_151_title_a_message_fromdeeplearningai_img_0_test--6-.png\n",
      "{'url': 'https://www.deeplearning.ai/the-batch/issue-151/', 'issue': 151, 'title': 'a_message_fromdeeplearningai'}\n",
      "issue_151_title_speaking_your_language_img_0_papercup--1-.gif\n",
      "{'url': 'https://www.deeplearning.ai/the-batch/issue-151/', 'issue': 151, 'title': 'speaking_your_language'}\n",
      "issue_151_title_a_transformer_for_graphs_img_0_graphtransformer--1-.gif\n",
      "{'url': 'https://www.deeplearning.ai/the-batch/issue-151/', 'issue': 151, 'title': 'a_transformer_for_graphs'}\n",
      "issue_152_title_tracking_changes_on_earths_surface_img_0_smart--1-.gif\n",
      "{'url': 'https://www.deeplearning.ai/the-batch/issue-152/', 'issue': 152, 'title': 'tracking_changes_on_earths_surface'}\n",
      "issue_152_title_ai_ai_captain_img_0_mayflower--1-.gif\n",
      "{'url': 'https://www.deeplearning.ai/the-batch/issue-152/', 'issue': 152, 'title': 'ai_ai_captain'}\n",
      "issue_152_title_a_message_fromdeeplearningai_img_0_mls_learner_1200x628_a-1_artboard-1-copy-5.png\n",
      "{'url': 'https://www.deeplearning.ai/the-batch/issue-152/', 'issue': 152, 'title': 'a_message_fromdeeplearningai'}\n",
      "issue_152_title_order_in_the_court_img_0_everlaw--1-.gif\n",
      "{'url': 'https://www.deeplearning.ai/the-batch/issue-152/', 'issue': 152, 'title': 'order_in_the_court'}\n",
      "issue_152_title_who_was_that_masked_input_img_0_masked.gif\n",
      "{'url': 'https://www.deeplearning.ai/the-batch/issue-152/', 'issue': 152, 'title': 'who_was_that_masked_input'}\n",
      "issue_153_title_when_self-driving_cars_wont_drive_img_0_cruise--1-.gif\n",
      "{'url': 'https://www.deeplearning.ai/the-batch/issue-153/', 'issue': 153, 'title': 'when_self-driving_cars_wont_drive'}\n",
      "issue_153_title_ethical_ai_20_img_0_responsible--1-.gif\n",
      "{'url': 'https://www.deeplearning.ai/the-batch/issue-153/', 'issue': 153, 'title': 'ethical_ai_20'}\n",
      "issue_153_title_a_message_fromdeeplearningai_img_0_accelerating-your-ai-careermls3-aug_the-batch-image.png\n",
      "Filtered: issue_153_title_a_message_fromdeeplearningai_img_0_accelerating-your-ai-careermls3-aug_the-batch-image.png\n",
      "issue_153_title_text-to-image_goes_viral_img_0_dallemini--1-.gif\n",
      "{'url': 'https://www.deeplearning.ai/the-batch/issue-153/', 'issue': 153, 'title': 'text-to-image_goes_viral'}\n",
      "issue_153_title_tradeoffs_for_higher_accuracy_img_0_regularization--1-.gif\n",
      "{'url': 'https://www.deeplearning.ai/the-batch/issue-153/', 'issue': 153, 'title': 'tradeoffs_for_higher_accuracy'}\n",
      "issue_154_title_what_ai_employers_want_img_0_jobs--1-.gif\n",
      "{'url': 'https://www.deeplearning.ai/the-batch/issue-154/', 'issue': 154, 'title': 'what_ai_employers_want'}\n",
      "issue_154_title_keep_your_ais_on_the_road_img_0_eu.webp\n",
      "{'url': 'https://www.deeplearning.ai/the-batch/issue-154/', 'issue': 154, 'title': 'keep_your_ais_on_the_road'}\n",
      "issue_154_title_cutting_the_carbon_cost_of_training_img_0_carbon--1-.gif\n",
      "{'url': 'https://www.deeplearning.ai/the-batch/issue-154/', 'issue': 154, 'title': 'cutting_the_carbon_cost_of_training'}\n",
      "issue_156_title_where_drones_fly_free_img_0_droneway.gif\n",
      "{'url': 'https://www.deeplearning.ai/the-batch/issue-156/', 'issue': 156, 'title': 'where_drones_fly_free'}\n",
      "issue_156_title_large_language_models_unbound_img_0_opensource.gif\n",
      "{'url': 'https://www.deeplearning.ai/the-batch/issue-156/', 'issue': 156, 'title': 'large_language_models_unbound'}\n",
      "issue_156_title_a_message_fromdeeplearningai_img_0_deeplearningai_banner_stanford_launch_1200x628-v2_artboard-2-copy.png\n",
      "{'url': 'https://www.deeplearning.ai/the-batch/issue-156/', 'issue': 156, 'title': 'a_message_fromdeeplearningai'}\n",
      "issue_156_title_protection_for_pollinators_img_0_bees.png\n",
      "{'url': 'https://www.deeplearning.ai/the-batch/issue-156/', 'issue': 156, 'title': 'protection_for_pollinators'}\n",
      "issue_156_title_choose_the_right_annotators_img_0_jury.gif\n",
      "{'url': 'https://www.deeplearning.ai/the-batch/issue-156/', 'issue': 156, 'title': 'choose_the_right_annotators'}\n",
      "issue_157_title_ai_jobs_grow_in_pharma_img_0_pharma.gif\n",
      "{'url': 'https://www.deeplearning.ai/the-batch/issue-157/', 'issue': 157, 'title': 'ai_jobs_grow_in_pharma'}\n",
      "issue_157_title_self-driving_safety_check_img_0_safety.gif\n",
      "{'url': 'https://www.deeplearning.ai/the-batch/issue-157/', 'issue': 157, 'title': 'self-driving_safety_check'}\n",
      "issue_157_title_identifying_faces_of_history_img_0_holocaust.gif\n",
      "{'url': 'https://www.deeplearning.ai/the-batch/issue-157/', 'issue': 157, 'title': 'identifying_faces_of_history'}\n",
      "issue_157_title_protein_families_deciphered_img_0_protein.gif\n",
      "{'url': 'https://www.deeplearning.ai/the-batch/issue-157/', 'issue': 157, 'title': 'protein_families_deciphered'}\n",
      "issue_158_title_bad_machine_learning_makes_bad_science_img_0_reproduce.gif\n",
      "{'url': 'https://www.deeplearning.ai/the-batch/issue-158/', 'issue': 158, 'title': 'bad_machine_learning_makes_bad_science'}\n",
      "issue_158_title_ai_hits_its_stride_img_0_walk.gif\n",
      "{'url': 'https://www.deeplearning.ai/the-batch/issue-158/', 'issue': 158, 'title': 'ai_hits_its_stride'}\n",
      "issue_158_title_a_message_fromdeeplearningai_img_0_ai-for-social-good-banner.webp\n",
      "{'url': 'https://www.deeplearning.ai/the-batch/issue-158/', 'issue': 158, 'title': 'a_message_fromdeeplearningai'}\n",
      "issue_158_title_deepfakes_against_profanity_img_0_fall.gif\n",
      "{'url': 'https://www.deeplearning.ai/the-batch/issue-158/', 'issue': 158, 'title': 'deepfakes_against_profanity'}\n",
      "issue_158_title_ensemble_models_simplified_img_0_ensemble.gif\n",
      "{'url': 'https://www.deeplearning.ai/the-batch/issue-158/', 'issue': 158, 'title': 'ensemble_models_simplified'}\n",
      "issue_159_title_ai_regulations_proceed_locally_img_0_epic_state-ai-regs_longerholds_1200px.gif\n",
      "{'url': 'https://www.deeplearning.ai/the-batch/issue-159/', 'issue': 159, 'title': 'ai_regulations_proceed_locally'}\n",
      "issue_159_title_taming_spurious_correlations_img_0_spurious--1-.gif\n",
      "{'url': 'https://www.deeplearning.ai/the-batch/issue-159/', 'issue': 159, 'title': 'taming_spurious_correlations'}\n",
      "issue_159_title_a_message_fromdeeplearningai_img_0_mls_learner_1200x628_a-1_artboard-1-copy-11-1.webp\n",
      "{'url': 'https://www.deeplearning.ai/the-batch/issue-159/', 'issue': 159, 'title': 'a_message_fromdeeplearningai'}\n",
      "issue_159_title_one_cool_robot_img_0_txscara_600px.gif\n",
      "{'url': 'https://www.deeplearning.ai/the-batch/issue-159/', 'issue': 159, 'title': 'one_cool_robot'}\n",
      "issue_159_title_what_a_molecules_structure_reveals_img_0_gem--1-.gif\n",
      "{'url': 'https://www.deeplearning.ai/the-batch/issue-159/', 'issue': 159, 'title': 'what_a_molecules_structure_reveals'}\n",
      "issue_160_title_misinformation_recognition_img_0_misinfo.gif\n",
      "{'url': 'https://www.deeplearning.ai/the-batch/issue-160/', 'issue': 160, 'title': 'misinformation_recognition'}\n",
      "issue_160_title_chinas_ai_roi_img_0_china.gif\n",
      "{'url': 'https://www.deeplearning.ai/the-batch/issue-160/', 'issue': 160, 'title': 'chinas_ai_roi'}\n",
      "issue_160_title_neural_nets_catch_fresher_fish_img_0_fish.gif\n",
      "{'url': 'https://www.deeplearning.ai/the-batch/issue-160/', 'issue': 160, 'title': 'neural_nets_catch_fresher_fish'}\n",
      "issue_160_title_object-detection_transformers_simplified_img_0_simple.gif\n",
      "{'url': 'https://www.deeplearning.ai/the-batch/issue-160/', 'issue': 160, 'title': 'object-detection_transformers_simplified'}\n",
      "issue_161_title_attention_to_rows_and_columns_img_0_tax.gif\n",
      "{'url': 'https://www.deeplearning.ai/the-batch/issue-161/', 'issue': 161, 'title': 'attention_to_rows_and_columns'}\n",
      "issue_161_title_attention_to_rows_and_columns_img_1_gpu.gif\n",
      "{'url': 'https://www.deeplearning.ai/the-batch/issue-161/', 'issue': 161, 'title': 'attention_to_rows_and_columns'}\n",
      "issue_161_title_attention_to_rows_and_columns_img_2_times.jpeg\n",
      "{'url': 'https://www.deeplearning.ai/the-batch/issue-161/', 'issue': 161, 'title': 'attention_to_rows_and_columns'}\n",
      "issue_161_title_attention_to_rows_and_columns_img_3_pale.gif\n",
      "{'url': 'https://www.deeplearning.ai/the-batch/issue-161/', 'issue': 161, 'title': 'attention_to_rows_and_columns'}\n",
      "issue_162_title_prompting_dalle_for_fun_and_profit_img_0_unnamed.gif\n",
      "{'url': 'https://www.deeplearning.ai/the-batch/issue-162/', 'issue': 162, 'title': 'prompting_dalle_for_fun_and_profit'}\n",
      "issue_162_title_court_blocks_ai-assisted_proctoring_img_0_unnamed--1-.png\n",
      "{'url': 'https://www.deeplearning.ai/the-batch/issue-162/', 'issue': 162, 'title': 'court_blocks_ai-assisted_proctoring'}\n",
      "issue_162_title_a_message_fromdeeplearningai_img_0_unnamed--2--1.png\n",
      "{'url': 'https://www.deeplearning.ai/the-batch/issue-162/', 'issue': 162, 'title': 'a_message_fromdeeplearningai'}\n",
      "issue_162_title_if_it_aint_broke_fix_it_img_0_unnamed--1--3.gif\n",
      "{'url': 'https://www.deeplearning.ai/the-batch/issue-162/', 'issue': 162, 'title': 'if_it_aint_broke_fix_it'}\n",
      "issue_162_title_update_any_language_model_img_0_unnamed--2-.gif\n",
      "{'url': 'https://www.deeplearning.ai/the-batch/issue-162/', 'issue': 162, 'title': 'update_any_language_model'}\n",
      "issue_163_title_data_scientists_on_data_science_img_0_datascience_questions_1200px.gif\n",
      "{'url': 'https://www.deeplearning.ai/the-batch/issue-163/', 'issue': 163, 'title': 'data_scientists_on_data_science'}\n",
      "issue_163_title_regulating_ai_in_undefined_terms_img_0_screen-shot-2022-09-21-at-105605-am.png\n",
      "{'url': 'https://www.deeplearning.ai/the-batch/issue-163/', 'issue': 163, 'title': 'regulating_ai_in_undefined_terms'}\n",
      "issue_163_title_a_message_fromour_partner_img_0_imagen2.png\n",
      "{'url': 'https://www.deeplearning.ai/the-batch/issue-163/', 'issue': 163, 'title': 'a_message_fromour_partner'}\n",
      "issue_163_title_toward_machines_that_lol_img_0_laughingrobot-2a_1200px.jpg\n",
      "{'url': 'https://www.deeplearning.ai/the-batch/issue-163/', 'issue': 163, 'title': 'toward_machines_that_lol'}\n",
      "issue_163_title_automated_mattes_for_visual_effects_img_0_matting.gif\n",
      "{'url': 'https://www.deeplearning.ai/the-batch/issue-163/', 'issue': 163, 'title': 'automated_mattes_for_visual_effects'}\n",
      "issue_164_title_chipmaker_boosts_ai_as_a_service_img_0_lcloud_slides_revise_092822.gif\n",
      "{'url': 'https://www.deeplearning.ai/the-batch/issue-164/', 'issue': 164, 'title': 'chipmaker_boosts_ai_as_a_service'}\n",
      "issue_164_title_parsing_commands_into_actions_img_0_palmrobot-2_600px.gif\n",
      "{'url': 'https://www.deeplearning.ai/the-batch/issue-164/', 'issue': 164, 'title': 'parsing_commands_into_actions'}\n",
      "issue_164_title_a_message_fromdeeplearningai_img_0_mls_learner_1200x628_a-1_artboard-1-copy-9--1-.png\n",
      "{'url': 'https://www.deeplearning.ai/the-batch/issue-164/', 'issue': 164, 'title': 'a_message_fromdeeplearningai'}\n",
      "issue_164_title_panopticon_down_under_img_0_prison--1-.png\n",
      "{'url': 'https://www.deeplearning.ai/the-batch/issue-164/', 'issue': 164, 'title': 'panopticon_down_under'}\n",
      "issue_164_title_cookbook_for_vision_transformers_img_0_deitv2-compressed--1-.gif\n",
      "{'url': 'https://www.deeplearning.ai/the-batch/issue-164/', 'issue': 164, 'title': 'cookbook_for_vision_transformers'}\n",
      "issue_165_title_text_to_video_without_text-video_data_img_0_video.gif\n",
      "{'url': 'https://www.deeplearning.ai/the-batch/issue-165/', 'issue': 165, 'title': 'text_to_video_without_text-video_data'}\n",
      "issue_165_title_tough_economy_hits_ai_startups_img_0_ezgifcom-gif-maker--5--3.gif\n",
      "{'url': 'https://www.deeplearning.ai/the-batch/issue-165/', 'issue': 165, 'title': 'tough_economy_hits_ai_startups'}\n",
      "issue_165_title_a_message_fromour_partner_img_0_fourthbrain-banner-ad--1-.png\n",
      "Filtered: issue_165_title_a_message_fromour_partner_img_0_fourthbrain-banner-ad--1-.png\n",
      "issue_165_title_the_dark_side_of_the_moon__lit_up_img_0_moon_600px.webp\n",
      "{'url': 'https://www.deeplearning.ai/the-batch/issue-165/', 'issue': 165, 'title': 'the_dark_side_of_the_moon__lit_up'}\n",
      "issue_165_title_the_sound_of_conversation_img_0_dialog.gif\n",
      "{'url': 'https://www.deeplearning.ai/the-batch/issue-165/', 'issue': 165, 'title': 'the_sound_of_conversation'}\n",
      "issue_166_title_long-form_videos_from_text_stories_img_0_phenaki.gif\n",
      "{'url': 'https://www.deeplearning.ai/the-batch/issue-166/', 'issue': 166, 'title': 'long-form_videos_from_text_stories'}\n",
      "issue_166_title_wreckage_recognition_img_0_hurricane.gif\n",
      "{'url': 'https://www.deeplearning.ai/the-batch/issue-166/', 'issue': 166, 'title': 'wreckage_recognition'}\n",
      "issue_166_title_a_message_fromdeeplearningai_img_0_18.jpg\n",
      "{'url': 'https://www.deeplearning.ai/the-batch/issue-166/', 'issue': 166, 'title': 'a_message_fromdeeplearningai'}\n",
      "issue_166_title_food_forecaster_img_0_precitaste.gif\n",
      "{'url': 'https://www.deeplearning.ai/the-batch/issue-166/', 'issue': 166, 'title': 'food_forecaster'}\n",
      "issue_166_title_new_clarity_on_rules_for_medical_ai_img_0_fda.png\n",
      "{'url': 'https://www.deeplearning.ai/the-batch/issue-166/', 'issue': 166, 'title': 'new_clarity_on_rules_for_medical_ai'}\n",
      "issue_167_title_ai_chips_spark_international_tension_img_0_chips.jpg\n",
      "{'url': 'https://www.deeplearning.ai/the-batch/issue-167/', 'issue': 167, 'title': 'ai_chips_spark_international_tension'}\n",
      "issue_167_title_smarts_for_farms_img_0_unnamed--4-.gif\n",
      "{'url': 'https://www.deeplearning.ai/the-batch/issue-167/', 'issue': 167, 'title': 'smarts_for_farms'}\n",
      "issue_167_title_a_message_fromdeeplearningai_img_0_mls-thebatch-ad.png\n",
      "Filtered: issue_167_title_a_message_fromdeeplearningai_img_0_mls-thebatch-ad.png\n",
      "issue_167_title_all_synthetic_all_the_time_img_0_rogan.jpg\n",
      "{'url': 'https://www.deeplearning.ai/the-batch/issue-167/', 'issue': 167, 'title': 'all_synthetic_all_the_time'}\n",
      "issue_167_title_massively_multilingual_translation_img_0_unnamed--5-.gif\n",
      "{'url': 'https://www.deeplearning.ai/the-batch/issue-167/', 'issue': 167, 'title': 'massively_multilingual_translation'}\n",
      "issue_168_title_what_lurks_in_the_shadows_img_0_this-one-1.jpg\n",
      "{'url': 'https://www.deeplearning.ai/the-batch/issue-168/', 'issue': 168, 'title': 'what_lurks_in_the_shadows'}\n",
      "issue_168_title_what_lurks_in_the_shadows_img_1_screen-shot-2022-10-26-at-1.jpg\n",
      "{'url': 'https://www.deeplearning.ai/the-batch/issue-168/', 'issue': 168, 'title': 'what_lurks_in_the_shadows'}\n",
      "issue_168_title_the_black_box_awakens_img_0_unnamed--4-.jpg\n",
      "{'url': 'https://www.deeplearning.ai/the-batch/issue-168/', 'issue': 168, 'title': 'the_black_box_awakens'}\n",
      "issue_168_title_no_more_gpus_img_0_chips--1-.jpg\n",
      "{'url': 'https://www.deeplearning.ai/the-batch/issue-168/', 'issue': 168, 'title': 'no_more_gpus'}\n",
      "issue_168_title_a_message_fromdeeplearningai_img_0_ff2wolqxwaaj9qr.jpg\n",
      "{'url': 'https://www.deeplearning.ai/the-batch/issue-168/', 'issue': 168, 'title': 'a_message_fromdeeplearningai'}\n",
      "issue_168_title_inhuman_resources_img_0_hiring.jpg\n",
      "{'url': 'https://www.deeplearning.ai/the-batch/issue-168/', 'issue': 168, 'title': 'inhuman_resources'}\n",
      "issue_168_title_foundations_of_evil_img_0_unnamed--5-.jpg\n",
      "{'url': 'https://www.deeplearning.ai/the-batch/issue-168/', 'issue': 168, 'title': 'foundations_of_evil'}\n",
      "issue_168_title_your_coworkers_arent_human_img_0_unnamed--3-.jpg\n",
      "{'url': 'https://www.deeplearning.ai/the-batch/issue-168/', 'issue': 168, 'title': 'your_coworkers_arent_human'}\n",
      "issue_169_title_generating_investment_img_0_genfund.gif\n",
      "{'url': 'https://www.deeplearning.ai/the-batch/issue-169/', 'issue': 169, 'title': 'generating_investment'}\n",
      "issue_169_title_pushing_voters_buttons_img_0_vote.gif\n",
      "{'url': 'https://www.deeplearning.ai/the-batch/issue-169/', 'issue': 169, 'title': 'pushing_voters_buttons'}\n",
      "issue_169_title_a_message_fromdeeplearningai_img_0_ff2wolqxwaaj9qr--1-.jpg\n",
      "{'url': 'https://www.deeplearning.ai/the-batch/issue-169/', 'issue': 169, 'title': 'a_message_fromdeeplearningai'}\n",
      "issue_169_title_ukraines_lost_harvest_quantified_img_0_unnamed--6-.gif\n",
      "{'url': 'https://www.deeplearning.ai/the-batch/issue-169/', 'issue': 169, 'title': 'ukraines_lost_harvest_quantified'}\n",
      "issue_169_title_massively_multilingual_translation_img_0_unnamed--7-.gif\n",
      "{'url': 'https://www.deeplearning.ai/the-batch/issue-169/', 'issue': 169, 'title': 'massively_multilingual_translation'}\n",
      "issue_170_title_tanks_for_all_the_fish_img_0_shrimpbox_600px.gif\n",
      "{'url': 'https://www.deeplearning.ai/the-batch/issue-170/', 'issue': 170, 'title': 'tanks_for_all_the_fish'}\n",
      "issue_170_title_when_safety_becomes_surveillance_img_0_unnamed--8-.gif\n",
      "{'url': 'https://www.deeplearning.ai/the-batch/issue-170/', 'issue': 170, 'title': 'when_safety_becomes_surveillance'}\n",
      "issue_170_title_a_message_fromdeeplearningai_img_0_banner-mls--1-.png\n",
      "{'url': 'https://www.deeplearning.ai/the-batch/issue-170/', 'issue': 170, 'title': 'a_message_fromdeeplearningai'}\n",
      "issue_170_title_what_businesses_want_from_ai_img_0_unnamed--9-.gif\n",
      "{'url': 'https://www.deeplearning.ai/the-batch/issue-170/', 'issue': 170, 'title': 'what_businesses_want_from_ai'}\n",
      "issue_170_title_right-sizing_models_for_the_dataset_img_0_unnamed--10-.gif\n",
      "{'url': 'https://www.deeplearning.ai/the-batch/issue-170/', 'issue': 170, 'title': 'right-sizing_models_for_the_dataset'}\n",
      "issue_171_title_does_price_optimization_hike_rents_img_0_unnamed--11-.gif\n",
      "{'url': 'https://www.deeplearning.ai/the-batch/issue-171/', 'issue': 171, 'title': 'does_price_optimization_hike_rents'}\n",
      "issue_171_title_ai_hasnt_been_so_bad_for_jobs_img_0_unnamed--8--2.jpg\n",
      "{'url': 'https://www.deeplearning.ai/the-batch/issue-171/', 'issue': 171, 'title': 'ai_hasnt_been_so_bad_for_jobs'}\n",
      "issue_171_title_a_message_fromdeeplearningai_img_0_315669777_2436261229859411_4379693199225067083_n-1.jpg\n",
      "{'url': 'https://www.deeplearning.ai/the-batch/issue-171/', 'issue': 171, 'title': 'a_message_fromdeeplearningai'}\n",
      "issue_171_title_what_the_missing_frames_showed_img_0_unnamed--14-.gif\n",
      "{'url': 'https://www.deeplearning.ai/the-batch/issue-171/', 'issue': 171, 'title': 'what_the_missing_frames_showed'}\n",
      "issue_171_title_ais_year_in_review_img_0_unnamed--12--2.gif\n",
      "{'url': 'https://www.deeplearning.ai/the-batch/issue-171/', 'issue': 171, 'title': 'ais_year_in_review'}\n",
      "issue_172_title_creatives_fight_back_img_0_unnamed--16-.gif\n",
      "{'url': 'https://www.deeplearning.ai/the-batch/issue-172/', 'issue': 172, 'title': 'creatives_fight_back'}\n",
      "issue_172_title_built_to_scale_img_0_unnamed--17-.gif\n",
      "{'url': 'https://www.deeplearning.ai/the-batch/issue-172/', 'issue': 172, 'title': 'built_to_scale'}\n",
      "issue_172_title_a_message_fromdeeplearningai_img_0_2911-09.png\n",
      "{'url': 'https://www.deeplearning.ai/the-batch/issue-172/', 'issue': 172, 'title': 'a_message_fromdeeplearningai'}\n",
      "issue_172_title_champion_model_is_no_go_img_0_katago_fastedit_600px--1-.gif\n",
      "{'url': 'https://www.deeplearning.ai/the-batch/issue-172/', 'issue': 172, 'title': 'champion_model_is_no_go'}\n",
      "issue_172_title_when_trees_outdo_neural_networks_img_0_unnamed--18-.gif\n",
      "{'url': 'https://www.deeplearning.ai/the-batch/issue-172/', 'issue': 172, 'title': 'when_trees_outdo_neural_networks'}\n",
      "issue_173_title_translating_a_mostly_oral_language_img_0_hokkien--1-.gif\n",
      "{'url': 'https://www.deeplearning.ai/the-batch/issue-173/', 'issue': 173, 'title': 'translating_a_mostly_oral_language'}\n",
      "issue_173_title_billboards_are_watching_img_0_billboards-2_1200px--1-.gif\n",
      "{'url': 'https://www.deeplearning.ai/the-batch/issue-173/', 'issue': 173, 'title': 'billboards_are_watching'}\n",
      "issue_173_title_a_message_from_filtered_img_0_ezgif-1-f144e58736.jpg\n",
      "{'url': 'https://www.deeplearning.ai/the-batch/issue-173/', 'issue': 173, 'title': 'a_message_from_filtered'}\n",
      "issue_173_title_algorithms_control_the_capital_img_0_ezgifcom-gif-maker--21--1.gif\n",
      "{'url': 'https://www.deeplearning.ai/the-batch/issue-173/', 'issue': 173, 'title': 'algorithms_control_the_capital'}\n",
      "issue_173_title_novel_views_of_3d_scenes__pronto_img_0_instantnerf.gif\n",
      "{'url': 'https://www.deeplearning.ai/the-batch/issue-173/', 'issue': 173, 'title': 'novel_views_of_3d_scenes__pronto'}\n",
      "issue_174_title_more_plausible_text_familiar_failings_img_0_unnamed--9-.png\n",
      "{'url': 'https://www.deeplearning.ai/the-batch/issue-174/', 'issue': 174, 'title': 'more_plausible_text_familiar_failings'}\n",
      "issue_174_title_cryptocurrency_unsafe_for_ai_img_0_unnamed--9-.jpg\n",
      "{'url': 'https://www.deeplearning.ai/the-batch/issue-174/', 'issue': 174, 'title': 'cryptocurrency_unsafe_for_ai'}\n",
      "issue_174_title_a_message_fromdeeplearningai_img_0_imagen5.jpg\n",
      "{'url': 'https://www.deeplearning.ai/the-batch/issue-174/', 'issue': 174, 'title': 'a_message_fromdeeplearningai'}\n",
      "issue_174_title_how_alexa_says_goodnight_img_0_unnamed--19-.gif\n",
      "{'url': 'https://www.deeplearning.ai/the-batch/issue-174/', 'issue': 174, 'title': 'how_alexa_says_goodnight'}\n",
      "issue_174_title_seeing_what_comes_next_img_0_unnamed--20-.gif\n",
      "{'url': 'https://www.deeplearning.ai/the-batch/issue-174/', 'issue': 174, 'title': 'seeing_what_comes_next'}\n",
      "issue_175_title_drive_different_img_0_unnamed--21-.gif\n",
      "{'url': 'https://www.deeplearning.ai/the-batch/issue-175/', 'issue': 175, 'title': 'drive_different'}\n",
      "issue_175_title_the_world_cups_ai_referee_img_0_worldcup_crop_600px.gif\n",
      "{'url': 'https://www.deeplearning.ai/the-batch/issue-175/', 'issue': 175, 'title': 'the_world_cups_ai_referee'}\n",
      "issue_175_title_a_message_fromdeeplearningai_img_0_unnamed-3.png\n",
      "{'url': 'https://www.deeplearning.ai/the-batch/issue-175/', 'issue': 175, 'title': 'a_message_fromdeeplearningai'}\n",
      "issue_175_title_avatars_gone_wild_img_0_lensa_1200px.gif\n",
      "{'url': 'https://www.deeplearning.ai/the-batch/issue-175/', 'issue': 175, 'title': 'avatars_gone_wild'}\n",
      "issue_175_title_memorize_less_retrieve_more_img_0_unnamed--22-.gif\n",
      "{'url': 'https://www.deeplearning.ai/the-batch/issue-175/', 'issue': 175, 'title': 'memorize_less_retrieve_more'}\n",
      "issue_176_title_a_dazzling_year_in_ai_img_0_ezgifcom-gif-maker.jpg\n",
      "{'url': 'https://www.deeplearning.ai/the-batch/issue-176/', 'issue': 176, 'title': 'a_dazzling_year_in_ai'}\n",
      "issue_176_title_a_dazzling_year_in_ai_img_1_ezgifcom-gif-maker--1-.jpg\n",
      "{'url': 'https://www.deeplearning.ai/the-batch/issue-176/', 'issue': 176, 'title': 'a_dazzling_year_in_ai'}\n",
      "issue_176_title_synthetic_images_everywhere_img_0_ezgifcom-gif-maker--2-.jpg\n",
      "{'url': 'https://www.deeplearning.ai/the-batch/issue-176/', 'issue': 176, 'title': 'synthetic_images_everywhere'}\n",
      "issue_176_title_programmers_best_friend_img_0_ezgifcom-gif-maker--3-.jpg\n",
      "{'url': 'https://www.deeplearning.ai/the-batch/issue-176/', 'issue': 176, 'title': 'programmers_best_friend'}\n",
      "issue_176_title_ais_eyes_evolve_img_0_ezgifcom-gif-maker--4-.jpg\n",
      "{'url': 'https://www.deeplearning.ai/the-batch/issue-176/', 'issue': 176, 'title': 'ais_eyes_evolve'}\n",
      "issue_176_title_a_message_fromdeeplearningai_img_0_unnamed-3--1-.png\n",
      "{'url': 'https://www.deeplearning.ai/the-batch/issue-176/', 'issue': 176, 'title': 'a_message_fromdeeplearningai'}\n",
      "issue_176_title_language_models_extended_img_0_ezgifcom-gif-maker--5-.jpg\n",
      "{'url': 'https://www.deeplearning.ai/the-batch/issue-176/', 'issue': 176, 'title': 'language_models_extended'}\n",
      "issue_176_title_one_model_does_it_all_img_0_ezgifcom-gif-maker--6-.jpg\n",
      "{'url': 'https://www.deeplearning.ai/the-batch/issue-176/', 'issue': 176, 'title': 'one_model_does_it_all'}\n",
      "issue_177_title_get_ready_for_2023_img_0_unnamed--18--1.png\n",
      "{'url': 'https://www.deeplearning.ai/the-batch/issue-177/', 'issue': 177, 'title': 'get_ready_for_2023'}\n",
      "issue_177_title_yoshua_bengio_models_that_reason_img_0_unnamed--13-.png\n",
      "{'url': 'https://www.deeplearning.ai/the-batch/issue-177/', 'issue': 177, 'title': 'yoshua_bengio_models_that_reason'}\n",
      "issue_177_title_alon_halevy_your_personal_data_timeline_img_0_unnamed--14-.png\n",
      "{'url': 'https://www.deeplearning.ai/the-batch/issue-177/', 'issue': 177, 'title': 'alon_halevy_your_personal_data_timeline'}\n",
      "issue_177_title_douwe_kiela_less_hype_more_caution_img_0_unnamed--15-.png\n",
      "{'url': 'https://www.deeplearning.ai/the-batch/issue-177/', 'issue': 177, 'title': 'douwe_kiela_less_hype_more_caution'}\n",
      "issue_177_title_a_message_fromdeeplearningai_img_0_ezgifcom-gif-maker--7-.jpg\n",
      "{'url': 'https://www.deeplearning.ai/the-batch/issue-177/', 'issue': 177, 'title': 'a_message_fromdeeplearningai'}\n",
      "issue_177_title_been_kim_a_scientific_approach_to_interpretability_img_0_unnamed--16-.png\n",
      "{'url': 'https://www.deeplearning.ai/the-batch/issue-177/', 'issue': 177, 'title': 'been_kim_a_scientific_approach_to_interpretability'}\n",
      "issue_177_title_reza_zadeh_active_learning_takes_off_img_0_unnamed--17-.png\n",
      "{'url': 'https://www.deeplearning.ai/the-batch/issue-177/', 'issue': 177, 'title': 'reza_zadeh_active_learning_takes_off'}\n",
      "issue_178_title_will_we_have_enough_data_img_0_unnamed--23--1.gif\n",
      "{'url': 'https://www.deeplearning.ai/the-batch/issue-178/', 'issue': 178, 'title': 'will_we_have_enough_data'}\n",
      "issue_178_title_precision-guided_image_generation_img_0_unnamed--24-.gif\n",
      "{'url': 'https://www.deeplearning.ai/the-batch/issue-178/', 'issue': 178, 'title': 'precision-guided_image_generation'}\n",
      "issue_178_title_a_message_fromdeeplearningai_img_0_deeplearning_mathematics_campaign_quotes_nash.png\n",
      "{'url': 'https://www.deeplearning.ai/the-batch/issue-178/', 'issue': 178, 'title': 'a_message_fromdeeplearningai'}\n",
      "issue_178_title_ai_as_officemate_img_0_unnamed--25-.gif\n",
      "{'url': 'https://www.deeplearning.ai/the-batch/issue-178/', 'issue': 178, 'title': 'ai_as_officemate'}\n",
      "issue_178_title_transparency_for_ai_as_a_service_img_0_unnamed--26-.gif\n",
      "{'url': 'https://www.deeplearning.ai/the-batch/issue-178/', 'issue': 178, 'title': 'transparency_for_ai_as_a_service'}\n",
      "issue_179_title_chatgpt_backlash_img_0_unnamed--27--2.gif\n",
      "{'url': 'https://www.deeplearning.ai/the-batch/issue-179/', 'issue': 179, 'title': 'chatgpt_backlash'}\n",
      "issue_179_title_your_personal_deepfaked_agent_img_0_unnamed--28-.gif\n",
      "{'url': 'https://www.deeplearning.ai/the-batch/issue-179/', 'issue': 179, 'title': 'your_personal_deepfaked_agent'}\n",
      "issue_179_title_a_message_fromai_fund_img_0_1673045257638--1-.png\n",
      "{'url': 'https://www.deeplearning.ai/the-batch/issue-179/', 'issue': 179, 'title': 'a_message_fromai_fund'}\n",
      "issue_179_title_looking_for_enemies_img_0_unnamed--21-.png\n",
      "{'url': 'https://www.deeplearning.ai/the-batch/issue-179/', 'issue': 179, 'title': 'looking_for_enemies'}\n",
      "issue_179_title_segmented_images_no_labeled_data_img_0_unnamed--29-.gif\n",
      "{'url': 'https://www.deeplearning.ai/the-batch/issue-179/', 'issue': 179, 'title': 'segmented_images_no_labeled_data'}\n",
      "issue_180_title_generated_code_generates_overconfident_coders_img_0_code.gif\n",
      "{'url': 'https://www.deeplearning.ai/the-batch/issue-180/', 'issue': 180, 'title': 'generated_code_generates_overconfident_coders'}\n",
      "issue_180_title_autonomous_drone_carrier_img_0_zhuhaiyun.gif\n",
      "{'url': 'https://www.deeplearning.ai/the-batch/issue-180/', 'issue': 180, 'title': 'autonomous_drone_carrier'}\n",
      "issue_180_title_a_message_from_whylabs_img_0_r2aisummit-jan26-whylabs.jpeg\n",
      "{'url': 'https://www.deeplearning.ai/the-batch/issue-180/', 'issue': 180, 'title': 'a_message_from_whylabs'}\n",
      "issue_180_title_bot_therapy_and_informed_consent_img_0_therapy.gif\n",
      "{'url': 'https://www.deeplearning.ai/the-batch/issue-180/', 'issue': 180, 'title': 'bot_therapy_and_informed_consent'}\n",
      "issue_180_title_digging_for_green_tech_img_0_unnamed--30-.gif\n",
      "{'url': 'https://www.deeplearning.ai/the-batch/issue-180/', 'issue': 180, 'title': 'digging_for_green_tech'}\n",
      "issue_181_title_ai_powers_strengthen_ties_img_0_unnamed--12-.jpg\n",
      "{'url': 'https://www.deeplearning.ai/the-batch/issue-181/', 'issue': 181, 'title': 'ai_powers_strengthen_ties'}\n",
      "issue_181_title_googles_rule-respecting_chatbot_img_0_unnamed--32-.gif\n",
      "{'url': 'https://www.deeplearning.ai/the-batch/issue-181/', 'issue': 181, 'title': 'googles_rule-respecting_chatbot'}\n",
      "issue_181_title_a_message_fromdeeplearningai_img_0_untitled-design--1-.png\n",
      "{'url': 'https://www.deeplearning.ai/the-batch/issue-181/', 'issue': 181, 'title': 'a_message_fromdeeplearningai'}\n",
      "issue_181_title_generate_articles_publish_errors_img_0_unnamed--23-.png\n",
      "{'url': 'https://www.deeplearning.ai/the-batch/issue-181/', 'issue': 181, 'title': 'generate_articles_publish_errors'}\n",
      "issue_181_title_regulators_target_deepfakes_img_0_unnamed--13-.jpg\n",
      "{'url': 'https://www.deeplearning.ai/the-batch/issue-181/', 'issue': 181, 'title': 'regulators_target_deepfakes'}\n",
      "issue_182_title_self-driving_deception_img_0_unnamed--24-.png\n",
      "{'url': 'https://www.deeplearning.ai/the-batch/issue-182/', 'issue': 182, 'title': 'self-driving_deception'}\n",
      "issue_182_title_an_image_generator_that_pays_artists_img_0_unnamed--33-.gif\n",
      "{'url': 'https://www.deeplearning.ai/the-batch/issue-182/', 'issue': 182, 'title': 'an_image_generator_that_pays_artists'}\n",
      "issue_182_title_a_message_fromfourth_brain_img_0_working-ai--600---338-px---presentation--169----2-.png\n",
      "{'url': 'https://www.deeplearning.ai/the-batch/issue-182/', 'issue': 182, 'title': 'a_message_fromfourth_brain'}\n",
      "issue_182_title_ai_cheat_bedevils_popular_esport_img_0_unnamed--35-.gif\n",
      "{'url': 'https://www.deeplearning.ai/the-batch/issue-182/', 'issue': 182, 'title': 'ai_cheat_bedevils_popular_esport'}\n",
      "issue_182_title_language_models_defy_logic_img_0_unnamed--36-.gif\n",
      "{'url': 'https://www.deeplearning.ai/the-batch/issue-182/', 'issue': 182, 'title': 'language_models_defy_logic'}\n",
      "issue_183_title_generative_ai_on_trial_img_0_legalgen_v3.gif\n",
      "{'url': 'https://www.deeplearning.ai/the-batch/issue-183/', 'issue': 183, 'title': 'generative_ai_on_trial'}\n",
      "issue_183_title_robotaxis_face_headwinds_img_0_ezgifcom-optimize-4.gif\n",
      "{'url': 'https://www.deeplearning.ai/the-batch/issue-183/', 'issue': 183, 'title': 'robotaxis_face_headwinds'}\n",
      "issue_183_title_a_message_fromdeeplearningai_img_0_working-ai--600---338-px---presentation--169----3-.png\n",
      "{'url': 'https://www.deeplearning.ai/the-batch/issue-183/', 'issue': 183, 'title': 'a_message_fromdeeplearningai'}\n",
      "issue_183_title_he_who_types_the_prompt_calls_the_tune_img_0_musiclm.gif\n",
      "{'url': 'https://www.deeplearning.ai/the-batch/issue-183/', 'issue': 183, 'title': 'he_who_types_the_prompt_calls_the_tune'}\n",
      "issue_183_title_guidelines_for_managing_ai_risk_img_0_trustworthy-2_1200px--1-.gif\n",
      "{'url': 'https://www.deeplearning.ai/the-batch/issue-183/', 'issue': 183, 'title': 'guidelines_for_managing_ai_risk'}\n",
      "issue_184_title_search_war_img_0_unnamed--14-.jpg\n",
      "{'url': 'https://www.deeplearning.ai/the-batch/issue-184/', 'issue': 184, 'title': 'search_war'}\n",
      "issue_184_title_news_you_can_misuse_img_0_unnamed--37-.gif\n",
      "{'url': 'https://www.deeplearning.ai/the-batch/issue-184/', 'issue': 184, 'title': 'news_you_can_misuse'}\n",
      "issue_184_title_a_message_fromdeeplearningai_img_0_the-batch-ads-and-exclusive-banners.png\n",
      "Filtered: issue_184_title_a_message_fromdeeplearningai_img_0_the-batch-ads-and-exclusive-banners.png\n",
      "issue_184_title_seinfelds_twitch_moment_img_0_unnamed--26-.png\n",
      "{'url': 'https://www.deeplearning.ai/the-batch/issue-184/', 'issue': 184, 'title': 'seinfelds_twitch_moment'}\n",
      "issue_184_title_unsupervised_data_pruning_img_0_unnamed--38-.gif\n",
      "{'url': 'https://www.deeplearning.ai/the-batch/issue-184/', 'issue': 184, 'title': 'unsupervised_data_pruning'}\n",
      "issue_185_title_bing_unbound_img_0_unnamed--15-.jpg\n",
      "{'url': 'https://www.deeplearning.ai/the-batch/issue-185/', 'issue': 185, 'title': 'bing_unbound'}\n",
      "issue_185_title_new_rules_for_military_ai_img_0_unnamed--40-.gif\n",
      "{'url': 'https://www.deeplearning.ai/the-batch/issue-185/', 'issue': 185, 'title': 'new_rules_for_military_ai'}\n",
      "issue_185_title_a_message_from_dataheroes_img_0_the-batch-ads-and-exclusive-banners.gif\n",
      "Filtered: issue_185_title_a_message_from_dataheroes_img_0_the-batch-ads-and-exclusive-banners.gif\n",
      "issue_185_title_from_pandemic_to_panopticon_img_0_safecity.png\n",
      "{'url': 'https://www.deeplearning.ai/the-batch/issue-185/', 'issue': 185, 'title': 'from_pandemic_to_panopticon'}\n",
      "issue_185_title_streamlined_robot_training_img_0_unnamed--41-.gif\n",
      "{'url': 'https://www.deeplearning.ai/the-batch/issue-185/', 'issue': 185, 'title': 'streamlined_robot_training'}\n",
      "issue_186_title_china_chases_chatbots_img_0_screen-shot-2023-02-28-at-40848-pm.png\n",
      "{'url': 'https://www.deeplearning.ai/the-batch/issue-186/', 'issue': 186, 'title': 'china_chases_chatbots'}\n",
      "issue_186_title_publishers_embrace_text_generation_img_0_buzzfeed_v2a_1200px--1-.gif\n",
      "{'url': 'https://www.deeplearning.ai/the-batch/issue-186/', 'issue': 186, 'title': 'publishers_embrace_text_generation'}\n",
      "issue_186_title_a_message_from_landing_ai_img_0_landingai-1.png\n",
      "{'url': 'https://www.deeplearning.ai/the-batch/issue-186/', 'issue': 186, 'title': 'a_message_from_landing_ai'}\n",
      "issue_186_title_hot_bot_turns_cold_img_0_replika_v3_1200px.gif\n",
      "{'url': 'https://www.deeplearning.ai/the-batch/issue-186/', 'issue': 186, 'title': 'hot_bot_turns_cold'}\n",
      "issue_186_title_pca_raises_red_flags_img_0_pca--1-.gif\n",
      "{'url': 'https://www.deeplearning.ai/the-batch/issue-186/', 'issue': 186, 'title': 'pca_raises_red_flags'}\n",
      "issue_187_title_voice_clones_go_viral_img_0_unnamed--28-.png\n",
      "{'url': 'https://www.deeplearning.ai/the-batch/issue-187/', 'issue': 187, 'title': 'voice_clones_go_viral'}\n",
      "issue_187_title_no_copyright_for_generated_images_img_0_unnamed--42-.gif\n",
      "{'url': 'https://www.deeplearning.ai/the-batch/issue-187/', 'issue': 187, 'title': 'no_copyright_for_generated_images'}\n",
      "issue_187_title_a_message_from_workera_img_0_the-batch-ads-and-exclusive-banners--9-.png\n",
      "Filtered: issue_187_title_a_message_from_workera_img_0_the-batch-ads-and-exclusive-banners--9-.png\n",
      "issue_187_title_text-driven_video_alteration_img_0_unnamed--44-.gif\n",
      "{'url': 'https://www.deeplearning.ai/the-batch/issue-187/', 'issue': 187, 'title': 'text-driven_video_alteration'}\n",
      "issue_187_title_deep_learning_state_img_0_unnamed--43-.gif\n",
      "{'url': 'https://www.deeplearning.ai/the-batch/issue-187/', 'issue': 187, 'title': 'deep_learning_state'}\n",
      "issue_188_title_gpt-4_has_landed_img_0_unnamed--46-.gif\n",
      "{'url': 'https://www.deeplearning.ai/the-batch/issue-188/', 'issue': 188, 'title': 'gpt-4_has_landed'}\n",
      "issue_188_title_runaway_llama_img_0_unnamed--47-.gif\n",
      "{'url': 'https://www.deeplearning.ai/the-batch/issue-188/', 'issue': 188, 'title': 'runaway_llama'}\n",
      "issue_188_title_a_message_fromfourthbrain_img_0_building-generative-ai-applications--1-.png\n",
      "{'url': 'https://www.deeplearning.ai/the-batch/issue-188/', 'issue': 188, 'title': 'a_message_fromfourthbrain'}\n",
      "issue_188_title_inferring_talent_img_0_unnamed--48-.gif\n",
      "{'url': 'https://www.deeplearning.ai/the-batch/issue-188/', 'issue': 188, 'title': 'inferring_talent'}\n",
      "issue_188_title_vision_and_language_tightly_bound_img_0_unnamed--49-.gif\n",
      "{'url': 'https://www.deeplearning.ai/the-batch/issue-188/', 'issue': 188, 'title': 'vision_and_language_tightly_bound'}\n",
      "issue_189_title_microsoft_cuts_ethics_squad_img_0_ethics--1-.jpg\n",
      "{'url': 'https://www.deeplearning.ai/the-batch/issue-189/', 'issue': 189, 'title': 'microsoft_cuts_ethics_squad'}\n",
      "issue_189_title_all_the_news_thats_fit_to_learn_img_0_artifact--1-.jpg\n",
      "{'url': 'https://www.deeplearning.ai/the-batch/issue-189/', 'issue': 189, 'title': 'all_the_news_thats_fit_to_learn'}\n",
      "issue_189_title_a_message_fromdeeplearningai_img_0_323_the-batch-image.png\n",
      "Filtered: issue_189_title_a_message_fromdeeplearningai_img_0_323_the-batch-image.png\n",
      "issue_189_title_how_ai_kingpins_lost_the_chatbot_war_img_0_lost-1200px-lgrdarkertype-v4.jpg\n",
      "{'url': 'https://www.deeplearning.ai/the-batch/issue-189/', 'issue': 189, 'title': 'how_ai_kingpins_lost_the_chatbot_war'}\n",
      "issue_189_title_real-world_training_on_the_double_img_0_walk--1-.gif\n",
      "{'url': 'https://www.deeplearning.ai/the-batch/issue-189/', 'issue': 189, 'title': 'real-world_training_on_the_double'}\n",
      "issue_190_title_restricted_chips_slip_through_img_0_unnamed--16-.jpg\n",
      "{'url': 'https://www.deeplearning.ai/the-batch/issue-190/', 'issue': 190, 'title': 'restricted_chips_slip_through'}\n",
      "issue_190_title_algorithm_whisperers_img_0_unnamed--30-.png\n",
      "{'url': 'https://www.deeplearning.ai/the-batch/issue-190/', 'issue': 190, 'title': 'algorithm_whisperers'}\n",
      "issue_190_title_a_message_fromdeeplearningai_img_0_the-batch-ads-and-exclusive-banners--12-.png\n",
      "Filtered: issue_190_title_a_message_fromdeeplearningai_img_0_the-batch-ads-and-exclusive-banners--12-.png\n",
      "issue_190_title_what_americans_want_from_ai_img_0_unnamed--50-.gif\n",
      "{'url': 'https://www.deeplearning.ai/the-batch/issue-190/', 'issue': 190, 'title': 'what_americans_want_from_ai'}\n",
      "issue_190_title_efficient_reinforcement_learning_img_0_unnamed--51-.gif\n",
      "{'url': 'https://www.deeplearning.ai/the-batch/issue-190/', 'issue': 190, 'title': 'efficient_reinforcement_learning'}\n",
      "issue_191_title_ai_shows_its_metal_img_0_machina_600px_opt150--1-.gif\n",
      "{'url': 'https://www.deeplearning.ai/the-batch/issue-191/', 'issue': 191, 'title': 'ai_shows_its_metal'}\n",
      "issue_191_title_better_pay_for_data_workers_img_0_raise_600px--1-.gif\n",
      "{'url': 'https://www.deeplearning.ai/the-batch/issue-191/', 'issue': 191, 'title': 'better_pay_for_data_workers'}\n",
      "issue_191_title_a_message_fromdeeplearningai_img_0_the-batch-ads-and-exclusive-banners--7-.jpg\n",
      "Filtered: issue_191_title_a_message_fromdeeplearningai_img_0_the-batch-ads-and-exclusive-banners--7-.jpg\n",
      "issue_191_title_repatriating_talent_img_0_lelapa--1-.gif\n",
      "{'url': 'https://www.deeplearning.ai/the-batch/issue-191/', 'issue': 191, 'title': 'repatriating_talent'}\n",
      "issue_191_title_collaborative_text_generator_img_0_ezgifcom-gif-maker--26--1.gif\n",
      "{'url': 'https://www.deeplearning.ai/the-batch/issue-191/', 'issue': 191, 'title': 'collaborative_text_generator'}\n",
      "issue_194_title_data_does_not_want_to_be_free_img_0_reddit-paywall3_1200px.gif\n",
      "{'url': 'https://www.deeplearning.ai/the-batch/issue-194/', 'issue': 194, 'title': 'data_does_not_want_to_be_free'}\n",
      "issue_194_title_conversational_search_google_style_img_0_unnamed--54-.gif\n",
      "{'url': 'https://www.deeplearning.ai/the-batch/issue-194/', 'issue': 194, 'title': 'conversational_search_google_style'}\n",
      "issue_194_title_a_message_fromdeeplearningai_img_0_the-batch-ads-and-exclusive-banners--9-.jpg\n",
      "Filtered: issue_194_title_a_message_fromdeeplearningai_img_0_the-batch-ads-and-exclusive-banners--9-.jpg\n",
      "issue_194_title_everybody_must_get_cloned_img_0_unnamed--55-.gif\n",
      "{'url': 'https://www.deeplearning.ai/the-batch/issue-194/', 'issue': 194, 'title': 'everybody_must_get_cloned'}\n",
      "issue_194_title_image_generators_copy_training_data_img_0_unnamed--57-.gif\n",
      "{'url': 'https://www.deeplearning.ai/the-batch/issue-194/', 'issue': 194, 'title': 'image_generators_copy_training_data'}\n",
      "issue_195_title_hinton_leaves_google_with_regrets_img_0_hinton.png\n",
      "{'url': 'https://www.deeplearning.ai/the-batch/issue-195/', 'issue': 195, 'title': 'hinton_leaves_google_with_regrets'}\n",
      "issue_195_title_us_politics_go_generative_img_0_unnamed--58-.gif\n",
      "{'url': 'https://www.deeplearning.ai/the-batch/issue-195/', 'issue': 195, 'title': 'us_politics_go_generative'}\n",
      "issue_195_title_a_message_fromdeeplearningai_img_0_the-batch-ads-and-exclusive-banners--11-.jpg\n",
      "Filtered: issue_195_title_a_message_fromdeeplearningai_img_0_the-batch-ads-and-exclusive-banners--11-.jpg\n",
      "issue_195_title_radio_stations_test_ai_djs_img_0_unnamed--59-.gif\n",
      "{'url': 'https://www.deeplearning.ai/the-batch/issue-195/', 'issue': 195, 'title': 'radio_stations_test_ai_djs'}\n",
      "issue_195_title_for_better_answers_generate_reference_text_img_0_unnamed--60-.gif\n",
      "{'url': 'https://www.deeplearning.ai/the-batch/issue-195/', 'issue': 195, 'title': 'for_better_answers_generate_reference_text'}\n",
      "issue_196_title_battlefield_chat_img_0_unnamed--61-.gif\n",
      "{'url': 'https://www.deeplearning.ai/the-batch/issue-196/', 'issue': 196, 'title': 'battlefield_chat'}\n",
      "issue_196_title_openai_gears_up_for_business_img_0_unnamed--17-.jpg\n",
      "{'url': 'https://www.deeplearning.ai/the-batch/issue-196/', 'issue': 196, 'title': 'openai_gears_up_for_business'}\n",
      "issue_196_title_a_message_fromdeeplearningai_img_0_the-batch-ads-and-exclusive-banners--17-.png\n",
      "Filtered: issue_196_title_a_message_fromdeeplearningai_img_0_the-batch-ads-and-exclusive-banners--17-.png\n",
      "issue_196_title_language_models_in_lab_coats_img_0_untitled-design--3--1.gif\n",
      "{'url': 'https://www.deeplearning.ai/the-batch/issue-196/', 'issue': 196, 'title': 'language_models_in_lab_coats'}\n",
      "issue_196_title_dont_steal_my_style_img_0_unnamed--63-.gif\n",
      "{'url': 'https://www.deeplearning.ai/the-batch/issue-196/', 'issue': 196, 'title': 'dont_steal_my_style'}\n",
      "issue_197_title_google_adds_ai_inside_and_out_img_0_unnamed--65---1-.gif\n",
      "{'url': 'https://www.deeplearning.ai/the-batch/issue-197/', 'issue': 197, 'title': 'google_adds_ai_inside_and_out'}\n",
      "issue_197_title_the_politics_of_language_models_img_0_opinion--1-.gif\n",
      "{'url': 'https://www.deeplearning.ai/the-batch/issue-197/', 'issue': 197, 'title': 'the_politics_of_language_models'}\n",
      "issue_197_title_a_message_fromworkera_img_0_the-batch-ads-and-exclusive-banners--12---1-.jpg\n",
      "Filtered: issue_197_title_a_message_fromworkera_img_0_the-batch-ads-and-exclusive-banners--12---1-.jpg\n",
      "issue_197_title_automatedintoa_job_img_0_overemployeds--1-.png\n",
      "{'url': 'https://www.deeplearning.ai/the-batch/issue-197/', 'issue': 197, 'title': 'automatedintoa_job'}\n",
      "issue_197_title_text-to-3d_without_3d_training_data_img_0_dreamfusionv3--1-.gif\n",
      "{'url': 'https://www.deeplearning.ai/the-batch/issue-197/', 'issue': 197, 'title': 'text-to-3d_without_3d_training_data'}\n",
      "issue_198_title_algorithm_investigators_img_0_jrc-recrop-600px--1-.gif\n",
      "{'url': 'https://www.deeplearning.ai/the-batch/issue-198/', 'issue': 198, 'title': 'algorithm_investigators'}\n",
      "issue_198_title_crystal_ball_for_interest_rates_img_0_jpmorgan--1-.png\n",
      "{'url': 'https://www.deeplearning.ai/the-batch/issue-198/', 'issue': 198, 'title': 'crystal_ball_for_interest_rates'}\n",
      "issue_198_title_a_message_from_deeplearningai_img_0_the-batch-ads-and-exclusive-banners--23-.png\n",
      "Filtered: issue_198_title_a_message_from_deeplearningai_img_0_the-batch-ads-and-exclusive-banners--23-.png\n",
      "issue_198_title_architects_sketchbook_img_0_architecture_600px--1-.gif\n",
      "{'url': 'https://www.deeplearning.ai/the-batch/issue-198/', 'issue': 198, 'title': 'architects_sketchbook'}\n",
      "issue_198_title_deep_learning_at_small_scale_img_0_micro--1-.gif\n",
      "{'url': 'https://www.deeplearning.ai/the-batch/issue-198/', 'issue': 198, 'title': 'deep_learning_at_small_scale'}\n",
      "issue_199_title_rising_calls_for_regulation_img_0_ezgifcom-webp-to-jpg--7-.jpg\n",
      "{'url': 'https://www.deeplearning.ai/the-batch/issue-199/', 'issue': 199, 'title': 'rising_calls_for_regulation'}\n",
      "issue_199_title_pop_star_invites_ai_imitation_img_0_grimes--1-.gif\n",
      "{'url': 'https://www.deeplearning.ai/the-batch/issue-199/', 'issue': 199, 'title': 'pop_star_invites_ai_imitation'}\n",
      "issue_199_title_a_message_fromdeeplearningai_img_0_new-courses-batch.png\n",
      "Filtered: issue_199_title_a_message_fromdeeplearningai_img_0_new-courses-batch.png\n",
      "issue_199_title_scanner_sees_guns_misses_knives_img_0_evolv--1-.gif\n",
      "{'url': 'https://www.deeplearning.ai/the-batch/issue-199/', 'issue': 199, 'title': 'scanner_sees_guns_misses_knives'}\n",
      "issue_199_title_text-to-image_editing_evolves_img_0_pix2pix--1-.gif\n",
      "{'url': 'https://www.deeplearning.ai/the-batch/issue-199/', 'issue': 199, 'title': 'text-to-image_editing_evolves'}\n",
      "issue_200_title_bengio_too_anxious_about_ai_risks_img_0_bengio.png\n",
      "{'url': 'https://www.deeplearning.ai/the-batch/issue-200/', 'issue': 200, 'title': 'bengio_too_anxious_about_ai_risks'}\n",
      "issue_200_title_falcon_ascends_img_0_ezgifcom-webp-to-jpg--9-.jpg\n",
      "{'url': 'https://www.deeplearning.ai/the-batch/issue-200/', 'issue': 200, 'title': 'falcon_ascends'}\n",
      "issue_200_title_a_message_fromdeeplearningai_img_0_the-batch-ads-and-exclusive-banners--30-.png\n",
      "Filtered: issue_200_title_a_message_fromdeeplearningai_img_0_the-batch-ads-and-exclusive-banners--30-.png\n",
      "issue_200_title_laion_roars_img_0_ezgifcom-gif-maker--1-.gif\n",
      "{'url': 'https://www.deeplearning.ai/the-batch/issue-200/', 'issue': 200, 'title': 'laion_roars'}\n",
      "issue_200_title_optimizing_matrix_multiplication_img_0_matrix--1-.gif\n",
      "{'url': 'https://www.deeplearning.ai/the-batch/issue-200/', 'issue': 200, 'title': 'optimizing_matrix_multiplication'}\n",
      "issue_201_title_taught_by_a_bot_img_0_khanmigo.gif\n",
      "{'url': 'https://www.deeplearning.ai/the-batch/issue-201/', 'issue': 201, 'title': 'taught_by_a_bot'}\n",
      "issue_201_title_training_data_free-for-all_img_0_ezgifcom-webp-to-jpg--11-.jpg\n",
      "{'url': 'https://www.deeplearning.ai/the-batch/issue-201/', 'issue': 201, 'title': 'training_data_free-for-all'}\n",
      "issue_201_title_a_message_fromdeeplearningai_img_0_the-batch-ads-and-exclusive-banners--33-.png\n",
      "Filtered: issue_201_title_a_message_fromdeeplearningai_img_0_the-batch-ads-and-exclusive-banners--33-.png\n",
      "issue_201_title_game_makers_embrace_generative_ai_img_0_gengames--1-.gif\n",
      "{'url': 'https://www.deeplearning.ai/the-batch/issue-201/', 'issue': 201, 'title': 'game_makers_embrace_generative_ai'}\n",
      "issue_201_title_like_diffusion_but_faster_img_0_paella--1-.gif\n",
      "{'url': 'https://www.deeplearning.ai/the-batch/issue-201/', 'issue': 201, 'title': 'like_diffusion_but_faster'}\n",
      "issue_202_title_economic_forecast_genai_boom_img_0_unnamed--31-.png\n",
      "{'url': 'https://www.deeplearning.ai/the-batch/issue-202/', 'issue': 202, 'title': 'economic_forecast_genai_boom'}\n",
      "issue_202_title_more_tesla_crashes_img_0_tesla-crashes-increase2_1200px.jpg\n",
      "{'url': 'https://www.deeplearning.ai/the-batch/issue-202/', 'issue': 202, 'title': 'more_tesla_crashes'}\n",
      "issue_202_title_a_message_from_landing_ai_img_0_the-batch-ads-and-exclusive-banners--35-.png\n",
      "Filtered: issue_202_title_a_message_from_landing_ai_img_0_the-batch-ads-and-exclusive-banners--35-.png\n",
      "issue_202_title_lawyers_beware_llms_img_0_gptlaw_scroll_600px--2-.gif\n",
      "{'url': 'https://www.deeplearning.ai/the-batch/issue-202/', 'issue': 202, 'title': 'lawyers_beware_llms'}\n",
      "issue_202_title_what_the_brain_sees_img_0_unnamed--66-.gif\n",
      "{'url': 'https://www.deeplearning.ai/the-batch/issue-202/', 'issue': 202, 'title': 'what_the_brain_sees'}\n",
      "issue_203_title_generated_data_fouls_human_datasets_img_0_unnamed--20-.jpg\n",
      "{'url': 'https://www.deeplearning.ai/the-batch/issue-203/', 'issue': 203, 'title': 'generated_data_fouls_human_datasets'}\n",
      "issue_203_title_where_is_metas_generative_play_img_0_unnamed--21-.jpg\n",
      "{'url': 'https://www.deeplearning.ai/the-batch/issue-203/', 'issue': 203, 'title': 'where_is_metas_generative_play'}\n",
      "issue_203_title_a_message_fromdeeplearningai_img_0_the-batch-ads-and-exclusive-banners--36-.png\n",
      "Filtered: issue_203_title_a_message_fromdeeplearningai_img_0_the-batch-ads-and-exclusive-banners--36-.png\n",
      "issue_203_title_washington_gears_up_to_regulate_img_0_unnamed--22-.jpg\n",
      "{'url': 'https://www.deeplearning.ai/the-batch/issue-203/', 'issue': 203, 'title': 'washington_gears_up_to_regulate'}\n",
      "issue_203_title_finer_tuning_img_0_finetuningv2--1-.gif\n",
      "{'url': 'https://www.deeplearning.ai/the-batch/issue-203/', 'issue': 203, 'title': 'finer_tuning'}\n",
      "issue_204_title_the_secret_life_of_data_labelers_img_0_unnamed--33-.png\n",
      "{'url': 'https://www.deeplearning.ai/the-batch/issue-204/', 'issue': 204, 'title': 'the_secret_life_of_data_labelers'}\n",
      "issue_204_title_making_government_multilingual_img_0_unnamed--67-.gif\n",
      "{'url': 'https://www.deeplearning.ai/the-batch/issue-204/', 'issue': 204, 'title': 'making_government_multilingual'}\n",
      "issue_204_title_a_message_fromdeeplearningai_img_0_the-batch-ads-and-exclusive-banners--41-.png\n",
      "Filtered: issue_204_title_a_message_fromdeeplearningai_img_0_the-batch-ads-and-exclusive-banners--41-.png\n",
      "issue_204_title_letting_chatbots_see_your_data_img_0_unnamed--34-.png\n",
      "{'url': 'https://www.deeplearning.ai/the-batch/issue-204/', 'issue': 204, 'title': 'letting_chatbots_see_your_data'}\n",
      "issue_204_title_bug_finder_img_0_unnamed--68-.gif\n",
      "{'url': 'https://www.deeplearning.ai/the-batch/issue-204/', 'issue': 204, 'title': 'bug_finder'}\n",
      "issue_205_title_stable_biases_img_0_stablebias-4_1200px.gif\n",
      "{'url': 'https://www.deeplearning.ai/the-batch/issue-205/', 'issue': 205, 'title': 'stable_biases'}\n",
      "issue_205_title_ai__banking_progress_report_img_0_finance--1-.gif\n",
      "{'url': 'https://www.deeplearning.ai/the-batch/issue-205/', 'issue': 205, 'title': 'ai__banking_progress_report'}\n",
      "issue_205_title_a_message_from_workera_img_0_deeplearning_batchad_skillsai.png\n",
      "{'url': 'https://www.deeplearning.ai/the-batch/issue-205/', 'issue': 205, 'title': 'a_message_from_workera'}\n",
      "issue_205_title_language_models_impact_on_jobs_img_0_unnamed--69-.gif\n",
      "{'url': 'https://www.deeplearning.ai/the-batch/issue-205/', 'issue': 205, 'title': 'language_models_impact_on_jobs'}\n",
      "issue_205_title_sample-efficient_training_for_robots_img_0_humanloop--1-.gif\n",
      "{'url': 'https://www.deeplearning.ai/the-batch/issue-205/', 'issue': 205, 'title': 'sample-efficient_training_for_robots'}\n",
      "issue_207_title_ai_firms_agree_to_voluntary_guidelines_img_0_unnamed--72-.gif\n",
      "{'url': 'https://www.deeplearning.ai/the-batch/issue-207/', 'issue': 207, 'title': 'ai_firms_agree_to_voluntary_guidelines'}\n",
      "issue_207_title_apple_grapples_with_generative_ai_img_0_unnamed--73-.gif\n",
      "{'url': 'https://www.deeplearning.ai/the-batch/issue-207/', 'issue': 207, 'title': 'apple_grapples_with_generative_ai'}\n",
      "issue_207_title_a_message_fromdeeplearningai_img_0_unnamed--40-.png\n",
      "{'url': 'https://www.deeplearning.ai/the-batch/issue-207/', 'issue': 207, 'title': 'a_message_fromdeeplearningai'}\n",
      "issue_207_title_chatgpt_aint_what_it_used_to_be_img_0_unnamed--74-.gif\n",
      "{'url': 'https://www.deeplearning.ai/the-batch/issue-207/', 'issue': 207, 'title': 'chatgpt_aint_what_it_used_to_be'}\n",
      "issue_207_title_stratego_master_img_0_unnamed--75-.gif\n",
      "{'url': 'https://www.deeplearning.ai/the-batch/issue-207/', 'issue': 207, 'title': 'stratego_master'}\n",
      "issue_207_title_a_message_fromdeeplearningai_img_0_the-batch-ads-and-exclusive-banners--43-.png\n",
      "Filtered: issue_207_title_a_message_fromdeeplearningai_img_0_the-batch-ads-and-exclusive-banners--43-.png\n",
      "issue_208_title_ukraines_homegrown_drones_img_0_unnamed--42-.png\n",
      "{'url': 'https://www.deeplearning.ai/the-batch/issue-208/', 'issue': 208, 'title': 'ukraines_homegrown_drones'}\n",
      "issue_208_title_cloud_computing_goes_generative_img_0_unnamed--77--1.gif\n",
      "{'url': 'https://www.deeplearning.ai/the-batch/issue-208/', 'issue': 208, 'title': 'cloud_computing_goes_generative'}\n",
      "issue_208_title_a_message_from_deeplearningai_img_0_the-batch-ads-and-exclusive-banners--45-.png\n",
      "Filtered: issue_208_title_a_message_from_deeplearningai_img_0_the-batch-ads-and-exclusive-banners--45-.png\n",
      "issue_208_title_k-pop_sings_in_many_tongues_img_0_unnamed--78-.gif\n",
      "{'url': 'https://www.deeplearning.ai/the-batch/issue-208/', 'issue': 208, 'title': 'k-pop_sings_in_many_tongues'}\n",
      "issue_208_title_long-range_weather_forecasts_img_0_unnamed--79-.gif\n",
      "{'url': 'https://www.deeplearning.ai/the-batch/issue-208/', 'issue': 208, 'title': 'long-range_weather_forecasts'}\n",
      "issue_208_title_a_message_from_workera_img_0_learningvelocity_july2023_v2.png\n",
      "{'url': 'https://www.deeplearning.ai/the-batch/issue-208/', 'issue': 208, 'title': 'a_message_from_workera'}\n",
      "issue_209_title_rigorous_trial_ai_matches_humans_in_breast_cancer_diagnosis_img_0_unnamed--43-.png\n",
      "{'url': 'https://www.deeplearning.ai/the-batch/issue-209/', 'issue': 209, 'title': 'rigorous_trial_ai_matches_humans_in_breast_cancer_diagnosis'}\n",
      "issue_209_title_robots_work_the_drive-thru_img_0_unnamed--25-.jpg\n",
      "{'url': 'https://www.deeplearning.ai/the-batch/issue-209/', 'issue': 209, 'title': 'robots_work_the_drive-thru'}\n",
      "issue_209_title_a_message_fromdeeplearningai_img_0_the-batch-ads-and-exclusive-banners--49-.png\n",
      "Filtered: issue_209_title_a_message_fromdeeplearningai_img_0_the-batch-ads-and-exclusive-banners--49-.png\n",
      "issue_209_title_the_high_cost_of_serving_llms_img_0_unnamed--44-.png\n",
      "{'url': 'https://www.deeplearning.ai/the-batch/issue-209/', 'issue': 209, 'title': 'the_high_cost_of_serving_llms'}\n",
      "issue_209_title_diffusion_transformed_img_0_unnamed--80-.gif\n",
      "{'url': 'https://www.deeplearning.ai/the-batch/issue-209/', 'issue': 209, 'title': 'diffusion_transformed'}\n",
      "issue_210_title_gpu_shortage_intensifies_img_0_unnamed--82-.gif\n",
      "{'url': 'https://www.deeplearning.ai/the-batch/issue-210/', 'issue': 210, 'title': 'gpu_shortage_intensifies'}\n",
      "issue_210_title_chinas_llms_open_up_img_0_unnamed--83-.gif\n",
      "{'url': 'https://www.deeplearning.ai/the-batch/issue-210/', 'issue': 210, 'title': 'chinas_llms_open_up'}\n",
      "issue_210_title_a_message_fromdeeplearningai_img_0_the-batch-ads-and-exclusive-banners--48-.png\n",
      "Filtered: issue_210_title_a_message_fromdeeplearningai_img_0_the-batch-ads-and-exclusive-banners--48-.png\n",
      "issue_210_title_chatgpts_best_friend_img_0_the-batch-ads-and-exclusive-banners--4-.gif\n",
      "{'url': 'https://www.deeplearning.ai/the-batch/issue-210/', 'issue': 210, 'title': 'chatgpts_best_friend'}\n",
      "issue_210_title_llms_get_a_life_img_0_unnamed--84-.gif\n",
      "{'url': 'https://www.deeplearning.ai/the-batch/issue-210/', 'issue': 210, 'title': 'llms_get_a_life'}\n",
      "issue_210_title_a_message_fromdeeplearningai_img_0_the-batch-ads-and-exclusive-banners--50-.png\n",
      "Filtered: issue_210_title_a_message_fromdeeplearningai_img_0_the-batch-ads-and-exclusive-banners--50-.png\n",
      "issue_211_title_news_outlet_challenges_ai_developers_img_0_unnamed--86-.gif\n",
      "{'url': 'https://www.deeplearning.ai/the-batch/issue-211/', 'issue': 211, 'title': 'news_outlet_challenges_ai_developers'}\n",
      "issue_211_title_defcon_contest_highlights_ai_security_img_0_unnamed--87-.gif\n",
      "{'url': 'https://www.deeplearning.ai/the-batch/issue-211/', 'issue': 211, 'title': 'defcon_contest_highlights_ai_security'}\n",
      "issue_211_title_a_message_fromdeeplearningai_img_0_the-batch-ads-and-exclusive-banners--51-.png\n",
      "Filtered: issue_211_title_a_message_fromdeeplearningai_img_0_the-batch-ads-and-exclusive-banners--51-.png\n",
      "issue_211_title_ai_chip_challenger_gains_traction_img_0_unnamed--46-.png\n",
      "{'url': 'https://www.deeplearning.ai/the-batch/issue-211/', 'issue': 211, 'title': 'ai_chip_challenger_gains_traction'}\n",
      "issue_211_title_vision_transformers_made_manageable_img_0_unnamed--88-.gif\n",
      "{'url': 'https://www.deeplearning.ai/the-batch/issue-211/', 'issue': 211, 'title': 'vision_transformers_made_manageable'}\n",
      "issue_212_title_industrial-strength_llm_img_0_unnamed--89-.gif\n",
      "{'url': 'https://www.deeplearning.ai/the-batch/issue-212/', 'issue': 212, 'title': 'industrial-strength_llm'}\n",
      "issue_212_title_china_restricts_face_recognition_img_0_unnamed--47-.png\n",
      "{'url': 'https://www.deeplearning.ai/the-batch/issue-212/', 'issue': 212, 'title': 'china_restricts_face_recognition'}\n",
      "issue_212_title_a_message_fromdeeplearningai_img_0_deeplearning_microsoft_semantic_kernel_banner_2070x1080.png\n",
      "{'url': 'https://www.deeplearning.ai/the-batch/issue-212/', 'issue': 212, 'title': 'a_message_fromdeeplearningai'}\n",
      "issue_212_title_crash_tracker_img_0_unnamed--48-.png\n",
      "{'url': 'https://www.deeplearning.ai/the-batch/issue-212/', 'issue': 212, 'title': 'crash_tracker'}\n",
      "issue_212_title_text-to-3d_animation_img_0_unnamed--90-.gif\n",
      "{'url': 'https://www.deeplearning.ai/the-batch/issue-212/', 'issue': 212, 'title': 'text-to-3d_animation'}\n",
      "issue_213_title_fake_newscasters_img_0_unnamed--91-.gif\n",
      "{'url': 'https://www.deeplearning.ai/the-batch/issue-213/', 'issue': 213, 'title': 'fake_newscasters'}\n",
      "issue_213_title_high_wages_for_ai_talent_img_0_unnamed--51-.png\n",
      "{'url': 'https://www.deeplearning.ai/the-batch/issue-213/', 'issue': 213, 'title': 'high_wages_for_ai_talent'}\n",
      "issue_213_title_a_message_fromdeeplearningai_img_0_the-batch-ads-and-exclusive-banners--53-.png\n",
      "Filtered: issue_213_title_a_message_fromdeeplearningai_img_0_the-batch-ads-and-exclusive-banners--53-.png\n",
      "issue_213_title_deepminds_offspring_proliferate_img_0_unnamed--92-.gif\n",
      "{'url': 'https://www.deeplearning.ai/the-batch/issue-213/', 'issue': 213, 'title': 'deepminds_offspring_proliferate'}\n",
      "issue_213_title_different_media_similar_embeddings_img_0_unnamed--93-.gif\n",
      "{'url': 'https://www.deeplearning.ai/the-batch/issue-213/', 'issue': 213, 'title': 'different_media_similar_embeddings'}\n",
      "issue_214_title_chatgpt_for_big_biz_img_0_unnamed--56-.png\n",
      "{'url': 'https://www.deeplearning.ai/the-batch/issue-214/', 'issue': 214, 'title': 'chatgpt_for_big_biz'}\n",
      "issue_214_title_genai_violated_copyright_no_problem_img_0_unnamed--57-.png\n",
      "{'url': 'https://www.deeplearning.ai/the-batch/issue-214/', 'issue': 214, 'title': 'genai_violated_copyright_no_problem'}\n",
      "issue_214_title_a_message_from_speechlab_img_0_the-batch-ads-and-exclusive-banners--63-.png\n",
      "Filtered: issue_214_title_a_message_from_speechlab_img_0_the-batch-ads-and-exclusive-banners--63-.png\n",
      "issue_214_title_truth_in_online_political_ads_img_0_unnamed--95-.gif\n",
      "{'url': 'https://www.deeplearning.ai/the-batch/issue-214/', 'issue': 214, 'title': 'truth_in_online_political_ads'}\n",
      "issue_214_title_masked_pretraining_for_cnns_img_0_unnamed--96-.gif\n",
      "{'url': 'https://www.deeplearning.ai/the-batch/issue-214/', 'issue': 214, 'title': 'masked_pretraining_for_cnns'}\n",
      "issue_215_title_music_generation_for_the_masses_img_0_diffusion.png\n",
      "{'url': 'https://www.deeplearning.ai/the-batch/issue-215/', 'issue': 215, 'title': 'music_generation_for_the_masses'}\n",
      "issue_215_title_machine_translation_at_the_border_img_0_asylum.png\n",
      "{'url': 'https://www.deeplearning.ai/the-batch/issue-215/', 'issue': 215, 'title': 'machine_translation_at_the_border'}\n",
      "issue_215_title_a_message_fromdeeplearningai_img_0_deeplearning_googlecloudplatfomr_banner_2070x1080-1.png\n",
      "{'url': 'https://www.deeplearning.ai/the-batch/issue-215/', 'issue': 215, 'title': 'a_message_fromdeeplearningai'}\n",
      "issue_215_title_us_plans_to_expand_drone_fleet_img_0_drones.gif\n",
      "{'url': 'https://www.deeplearning.ai/the-batch/issue-215/', 'issue': 215, 'title': 'us_plans_to_expand_drone_fleet'}\n",
      "issue_215_title_how_vision_transformers_see_img_0_vitlearn.gif\n",
      "{'url': 'https://www.deeplearning.ai/the-batch/issue-215/', 'issue': 215, 'title': 'how_vision_transformers_see'}\n",
      "issue_215_title_no_text_img_0_practical-computer-vision.png\n",
      "{'url': 'https://www.deeplearning.ai/the-batch/issue-215/', 'issue': 215, 'title': 'no_text'}\n",
      "issue_217_title_us_film_industry_limits_ai_img_0_ezgifcom-webp-to-jpg--16-.jpg\n",
      "{'url': 'https://www.deeplearning.ai/the-batch/issue-217/', 'issue': 217, 'title': 'us_film_industry_limits_ai'}\n",
      "issue_217_title_amazon_and_anthropic_form_alliance_img_0_anthropic-delivery_bluesky-dith_1200px.gif\n",
      "{'url': 'https://www.deeplearning.ai/the-batch/issue-217/', 'issue': 217, 'title': 'amazon_and_anthropic_form_alliance'}\n",
      "issue_217_title_a_message_fromdeeplearningai_img_0_the-batch-ads-and-exclusive-banners--67-.png\n",
      "Filtered: issue_217_title_a_message_fromdeeplearningai_img_0_the-batch-ads-and-exclusive-banners--67-.png\n",
      "issue_217_title_video_sharing_goes_generative_img_0_ezgifcom-gif-maker--2-.gif\n",
      "{'url': 'https://www.deeplearning.ai/the-batch/issue-217/', 'issue': 217, 'title': 'video_sharing_goes_generative'}\n",
      "issue_217_title_more_scraped_data_greater_bias_img_0_ezgifcom-webp-to-jpg--17-.jpg\n",
      "{'url': 'https://www.deeplearning.ai/the-batch/issue-217/', 'issue': 217, 'title': 'more_scraped_data_greater_bias'}\n",
      "issue_218_title_gpt-4_opens_its_eyes_img_0_ezgifcom-optimize--1--oct-11-2023-05-57-04-4038-pm-1.gif\n",
      "{'url': 'https://www.deeplearning.ai/the-batch/issue-218/', 'issue': 218, 'title': 'gpt-4_opens_its_eyes'}\n",
      "issue_218_title_facebooks_generative_facelift_img_0_meta-characters-5_600px-1.gif\n",
      "{'url': 'https://www.deeplearning.ai/the-batch/issue-218/', 'issue': 218, 'title': 'facebooks_generative_facelift'}\n",
      "issue_218_title_a_message_fromdeeplearningai_img_0_the-batch-ads-and-exclusive-banners--68-.png\n",
      "Filtered: issue_218_title_a_message_fromdeeplearningai_img_0_the-batch-ads-and-exclusive-banners--68-.png\n",
      "issue_218_title_newsroom_ai_poses_opportunities_challenges_img_0_ezgifcom-gif-maker--3-.gif\n",
      "{'url': 'https://www.deeplearning.ai/the-batch/issue-218/', 'issue': 218, 'title': 'newsroom_ai_poses_opportunities_challenges'}\n",
      "issue_218_title_training_on_generated_data_skews_model_performance_img_0_ezgifcom-webp-to-jpg--19-.jpg\n",
      "{'url': 'https://www.deeplearning.ai/the-batch/issue-218/', 'issue': 218, 'title': 'training_on_generated_data_skews_model_performance'}\n",
      "issue_219_title_generative_ai_calling_img_0_pixel_600px--1--1.gif\n",
      "{'url': 'https://www.deeplearning.ai/the-batch/issue-219/', 'issue': 219, 'title': 'generative_ai_calling'}\n",
      "issue_219_title_guiding_the_scalpel_img_0_ezgifcom-webp-to-jpg--21-.jpg\n",
      "{'url': 'https://www.deeplearning.ai/the-batch/issue-219/', 'issue': 219, 'title': 'guiding_the_scalpel'}\n",
      "issue_219_title_a_message_fromdeeplearningai_img_0_the-batch-ads-and-exclusive-banners--70-.png\n",
      "Filtered: issue_219_title_a_message_fromdeeplearningai_img_0_the-batch-ads-and-exclusive-banners--70-.png\n",
      "issue_219_title_cost_containment_for_generative_ai_img_0_postgpt_withdollarsign_1200px.gif\n",
      "{'url': 'https://www.deeplearning.ai/the-batch/issue-219/', 'issue': 219, 'title': 'cost_containment_for_generative_ai'}\n",
      "issue_219_title_better_reasoning_from_chatgpt_img_0_ezgifcom-webp-to-jpg--22-.jpg\n",
      "{'url': 'https://www.deeplearning.ai/the-batch/issue-219/', 'issue': 219, 'title': 'better_reasoning_from_chatgpt'}\n",
      "issue_220_title_feel_the_fear_img_0_terminator_1200px-1.jpg\n",
      "{'url': 'https://www.deeplearning.ai/the-batch/issue-220/', 'issue': 220, 'title': 'feel_the_fear'}\n",
      "issue_220_title_feel_the_fear_img_1_intro2_v4_1200px.jpg\n",
      "{'url': 'https://www.deeplearning.ai/the-batch/issue-220/', 'issue': 220, 'title': 'feel_the_fear'}\n",
      "issue_220_title_ai_turns_deadly_img_0_screenshot-2023-10-25-at-115914-am.jpg\n",
      "{'url': 'https://www.deeplearning.ai/the-batch/issue-220/', 'issue': 220, 'title': 'ai_turns_deadly'}\n",
      "issue_220_title_criminals_unleashed_img_0_screenshot-2023-10-25-at-120703-pm.jpg\n",
      "{'url': 'https://www.deeplearning.ai/the-batch/issue-220/', 'issue': 220, 'title': 'criminals_unleashed'}\n",
      "issue_220_title_a_message_fromdeeplearningai_img_0_the-batch-ads-and-exclusive-banners--71-.png\n",
      "Filtered: issue_220_title_a_message_fromdeeplearningai_img_0_the-batch-ads-and-exclusive-banners--71-.png\n",
      "issue_220_title_data_disappears_img_0_datadisappearence5_1200px.jpg\n",
      "{'url': 'https://www.deeplearning.ai/the-batch/issue-220/', 'issue': 220, 'title': 'data_disappears'}\n",
      "issue_220_title_no_jobs_for_humans_img_0_screenshot-2023-10-24-at-21326-pm.jpg\n",
      "{'url': 'https://www.deeplearning.ai/the-batch/issue-220/', 'issue': 220, 'title': 'no_jobs_for_humans'}\n",
      "issue_220_title_hype_overshoots_reality_img_0_bubble_1200px.jpg\n",
      "{'url': 'https://www.deeplearning.ai/the-batch/issue-220/', 'issue': 220, 'title': 'hype_overshoots_reality'}\n",
      "issue_221_title_white_house_moves_to_regulate_ai_img_0_usexec.jpg\n",
      "{'url': 'https://www.deeplearning.ai/the-batch/issue-221/', 'issue': 221, 'title': 'white_house_moves_to_regulate_ai'}\n",
      "issue_221_title_what_we_know__and_dont_know__about_foundation_models_img_0_transparency.jpg\n",
      "{'url': 'https://www.deeplearning.ai/the-batch/issue-221/', 'issue': 221, 'title': 'what_we_know__and_dont_know__about_foundation_models'}\n",
      "issue_221_title_a_message_fromdeeplearningai_img_0_the-batch-ads-and-exclusive-banners--72-.png\n",
      "Filtered: issue_221_title_a_message_fromdeeplearningai_img_0_the-batch-ads-and-exclusive-banners--72-.png\n",
      "issue_221_title_cruise_control_img_0_cruise.jpg\n",
      "{'url': 'https://www.deeplearning.ai/the-batch/issue-221/', 'issue': 221, 'title': 'cruise_control'}\n",
      "issue_221_title_synthetic_data_helps_image_generators_img_0_dalle3-1.gif\n",
      "{'url': 'https://www.deeplearning.ai/the-batch/issue-221/', 'issue': 221, 'title': 'synthetic_data_helps_image_generators'}\n",
      "issue_221_title_a_message_from_landing_ai_img_0_unnamed--68-.jpg\n",
      "{'url': 'https://www.deeplearning.ai/the-batch/issue-221/', 'issue': 221, 'title': 'a_message_from_landing_ai'}\n",
      "issue_223_title_actors_reach_accord_on_ai_img_0_unnamed--73--1.png\n",
      "{'url': 'https://www.deeplearning.ai/the-batch/issue-223/', 'issue': 223, 'title': 'actors_reach_accord_on_ai'}\n",
      "issue_223_title_cyberattack_strikes_openai_img_0_unnamed--28-.jpg\n",
      "{'url': 'https://www.deeplearning.ai/the-batch/issue-223/', 'issue': 223, 'title': 'cyberattack_strikes_openai'}\n",
      "issue_223_title_a_message_fromdeeplearningai_img_0_the-batch-ads-and-exclusive-banners--80-.png\n",
      "Filtered: issue_223_title_a_message_fromdeeplearningai_img_0_the-batch-ads-and-exclusive-banners--80-.png\n",
      "issue_223_title_anthropic_cultivates_alternatives_img_0_unnamed--29-.jpg\n",
      "{'url': 'https://www.deeplearning.ai/the-batch/issue-223/', 'issue': 223, 'title': 'anthropic_cultivates_alternatives'}\n",
      "issue_223_title_ai_builds_better_sorting_algorithms_img_0_unnamed--98-.gif\n",
      "{'url': 'https://www.deeplearning.ai/the-batch/issue-223/', 'issue': 223, 'title': 'ai_builds_better_sorting_algorithms'}\n",
      "issue_223_title_a_message_fromdeeplearningai_img_0_the-batch-ads-and-exclusive-banners-_72_.jpg\n",
      "Filtered: issue_223_title_a_message_fromdeeplearningai_img_0_the-batch-ads-and-exclusive-banners-_72_.jpg\n",
      "issue_224_title_the_ceo_isoutin_img_0_unnamed--74-.png\n",
      "{'url': 'https://www.deeplearning.ai/the-batch/issue-224/', 'issue': 224, 'title': 'the_ceo_isoutin'}\n",
      "issue_224_title_the_politics_of_generative_ai_img_0_unnamed--99--1.gif\n",
      "{'url': 'https://www.deeplearning.ai/the-batch/issue-224/', 'issue': 224, 'title': 'the_politics_of_generative_ai'}\n",
      "issue_224_title_a_message_fromdeeplearningai_img_0_the-batch--2-.png\n",
      "Filtered: issue_224_title_a_message_fromdeeplearningai_img_0_the-batch--2-.png\n",
      "issue_224_title_more_cloud_gpus_on_the_way_img_0_unnamed--75-.png\n",
      "{'url': 'https://www.deeplearning.ai/the-batch/issue-224/', 'issue': 224, 'title': 'more_cloud_gpus_on_the_way'}\n",
      "issue_224_title_taming_transformers_img_0_unnamed--100-.gif\n",
      "{'url': 'https://www.deeplearning.ai/the-batch/issue-224/', 'issue': 224, 'title': 'taming_transformers'}\n",
      "issue_225_title_doctors_wary_of_medical_ai_devices_img_0_unnamed--31-.jpg\n",
      "{'url': 'https://www.deeplearning.ai/the-batch/issue-225/', 'issue': 225, 'title': 'doctors_wary_of_medical_ai_devices'}\n",
      "issue_225_title_industrial_strength_language_model_img_0_unnamed---2023-11-29t175402527.gif\n",
      "{'url': 'https://www.deeplearning.ai/the-batch/issue-225/', 'issue': 225, 'title': 'industrial_strength_language_model'}\n",
      "issue_225_title_a_message_fromdeeplearningai_img_0_the-batch-ads-and-exclusive-banners--83-.png\n",
      "Filtered: issue_225_title_a_message_fromdeeplearningai_img_0_the-batch-ads-and-exclusive-banners--83-.png\n",
      "issue_225_title_testing_for_large_language_models_img_0_unnamed--32-.jpg\n",
      "{'url': 'https://www.deeplearning.ai/the-batch/issue-225/', 'issue': 225, 'title': 'testing_for_large_language_models'}\n",
      "issue_225_title_this_language_model_speaks_robot_img_0_unnamed---2023-11-29t175841371.gif\n",
      "{'url': 'https://www.deeplearning.ai/the-batch/issue-225/', 'issue': 225, 'title': 'this_language_model_speaks_robot'}\n",
      "issue_227_title_googles_multimodal_challenger_img_0_gemini_catjump_noglogo_600px--1-.gif\n",
      "{'url': 'https://www.deeplearning.ai/the-batch/issue-227/', 'issue': 227, 'title': 'googles_multimodal_challenger'}\n",
      "issue_227_title_europe_clamps_down_img_0_unnamed--80-.png\n",
      "{'url': 'https://www.deeplearning.ai/the-batch/issue-227/', 'issue': 227, 'title': 'europe_clamps_down'}\n",
      "issue_227_title_a_message_fromdeeplearningai_img_0_deeplearning1_googlecloudplatfomr_banner2_2070x1080--1--1.png\n",
      "{'url': 'https://www.deeplearning.ai/the-batch/issue-227/', 'issue': 227, 'title': 'a_message_fromdeeplearningai'}\n",
      "issue_227_title_champion_for_openness_img_0_alliance-1.jpg\n",
      "{'url': 'https://www.deeplearning.ai/the-batch/issue-227/', 'issue': 227, 'title': 'champion_for_openness'}\n",
      "issue_227_title_the_big_pictureandthe_details_img_0_i-jepa-1.jpg\n",
      "{'url': 'https://www.deeplearning.ai/the-batch/issue-227/', 'issue': 227, 'title': 'the_big_pictureandthe_details'}\n",
      "issue_228_title_a_year_of_innovation_and_consternation_img_0_unnamed--35--1.jpg\n",
      "{'url': 'https://www.deeplearning.ai/the-batch/issue-228/', 'issue': 228, 'title': 'a_year_of_innovation_and_consternation'}\n",
      "issue_228_title_a_year_of_innovation_and_consternation_img_1_unnamed--36-.jpg\n",
      "{'url': 'https://www.deeplearning.ai/the-batch/issue-228/', 'issue': 228, 'title': 'a_year_of_innovation_and_consternation'}\n",
      "issue_228_title_generative_ai_everywhere_img_0_unnamed--37-.jpg\n",
      "{'url': 'https://www.deeplearning.ai/the-batch/issue-228/', 'issue': 228, 'title': 'generative_ai_everywhere'}\n",
      "issue_228_title_hollywood_squares_off_img_0_unnamed--38-.jpg\n",
      "{'url': 'https://www.deeplearning.ai/the-batch/issue-228/', 'issue': 228, 'title': 'hollywood_squares_off'}\n",
      "issue_228_title_can_i_use_this_data_img_0_unnamed--39-.jpg\n",
      "{'url': 'https://www.deeplearning.ai/the-batch/issue-228/', 'issue': 228, 'title': 'can_i_use_this_data'}\n",
      "issue_228_title_high_anx-ai-ety_img_0_unnamed--40-.jpg\n",
      "{'url': 'https://www.deeplearning.ai/the-batch/issue-228/', 'issue': 228, 'title': 'high_anx-ai-ety'}\n",
      "issue_228_title_deep_learning_rocks_img_0_unnamed--41-.jpg\n",
      "{'url': 'https://www.deeplearning.ai/the-batch/issue-228/', 'issue': 228, 'title': 'deep_learning_rocks'}\n",
      "issue_229_title_generating_2024_img_0_unnamed--42--1.jpg\n",
      "{'url': 'https://www.deeplearning.ai/the-batch/issue-229/', 'issue': 229, 'title': 'generating_2024'}\n",
      "issue_229_title_anastasis_germanidis_new_tools_to_tell_new_stories_img_0_unnamed--81-.png\n",
      "{'url': 'https://www.deeplearning.ai/the-batch/issue-229/', 'issue': 229, 'title': 'anastasis_germanidis_new_tools_to_tell_new_stories'}\n",
      "issue_229_title_sara_hooker_prioritize_inclusion_img_0_unnamed--82-.png\n",
      "{'url': 'https://www.deeplearning.ai/the-batch/issue-229/', 'issue': 229, 'title': 'sara_hooker_prioritize_inclusion'}\n",
      "issue_229_title_percy_liang_transparency_for_foundation_models_img_0_unnamed--43-.jpg\n",
      "{'url': 'https://www.deeplearning.ai/the-batch/issue-229/', 'issue': 229, 'title': 'percy_liang_transparency_for_foundation_models'}\n",
      "issue_229_title_a_message_fromdeeplearningai_img_0_the-batch-ads-and-exclusive-banners--93-.png\n",
      "Filtered: issue_229_title_a_message_fromdeeplearningai_img_0_the-batch-ads-and-exclusive-banners--93-.png\n",
      "issue_229_title_sasha_luccioni_respect_for_human_creativity_and_agency_img_0_unnamed--83-.png\n",
      "{'url': 'https://www.deeplearning.ai/the-batch/issue-229/', 'issue': 229, 'title': 'sasha_luccioni_respect_for_human_creativity_and_agency'}\n",
      "issue_229_title_pelonomi_moiloa_smaller_models_that_learn_more_from_less_data_img_0_unnamed--44-.jpg\n",
      "{'url': 'https://www.deeplearning.ai/the-batch/issue-229/', 'issue': 229, 'title': 'pelonomi_moiloa_smaller_models_that_learn_more_from_less_data'}\n",
      "issue_229_title_kevin_scott_be_prepared_for_another_year_of_exponential_growth_img_0_unnamed--84-.png\n",
      "{'url': 'https://www.deeplearning.ai/the-batch/issue-229/', 'issue': 229, 'title': 'kevin_scott_be_prepared_for_another_year_of_exponential_growth'}\n",
      "issue_230_title_gpt-4_wouldnt_lie_to_me____would_it_img_0_evilgpt_1200px-1.gif\n",
      "{'url': 'https://www.deeplearning.ai/the-batch/issue-230/', 'issue': 230, 'title': 'gpt-4_wouldnt_lie_to_me____would_it'}\n",
      "issue_230_title_sharper_vision_for_cancer_img_0_unnamed--85-.png\n",
      "{'url': 'https://www.deeplearning.ai/the-batch/issue-230/', 'issue': 230, 'title': 'sharper_vision_for_cancer'}\n",
      "issue_230_title_a_message_fromdeeplearningai_img_0_the-batch-ads-and-exclusive-banners--95-.png\n",
      "Filtered: issue_230_title_a_message_fromdeeplearningai_img_0_the-batch-ads-and-exclusive-banners--95-.png\n",
      "issue_230_title_ai_against_climate_change_img_0_unnamed--86-.png\n",
      "{'url': 'https://www.deeplearning.ai/the-batch/issue-230/', 'issue': 230, 'title': 'ai_against_climate_change'}\n",
      "issue_230_title_vive_lintelligence_artificielle_img_0_unnamed--46-.jpg\n",
      "{'url': 'https://www.deeplearning.ai/the-batch/issue-230/', 'issue': 230, 'title': 'vive_lintelligence_artificielle'}\n",
      "issue_231_title_deep_learning_discovers_antibiotics_img_0_unnamed--89-.png\n",
      "{'url': 'https://www.deeplearning.ai/the-batch/issue-231/', 'issue': 231, 'title': 'deep_learning_discovers_antibiotics'}\n",
      "issue_231_title_openai_revamps_safety_protocol_img_0_unnamed---2024-01-10t150551860.gif\n",
      "{'url': 'https://www.deeplearning.ai/the-batch/issue-231/', 'issue': 231, 'title': 'openai_revamps_safety_protocol'}\n",
      "issue_231_title_a_message_fromdeeplearningai_img_0_version2_deeplearning_langchainjs_banner_2070x1080.png\n",
      "{'url': 'https://www.deeplearning.ai/the-batch/issue-231/', 'issue': 231, 'title': 'a_message_fromdeeplearningai'}\n",
      "issue_231_title_agi_defined_img_0_unnamed--48-.jpg\n",
      "{'url': 'https://www.deeplearning.ai/the-batch/issue-231/', 'issue': 231, 'title': 'agi_defined'}\n",
      "issue_231_title_text_or_images_input_or_output_img_0_unnamed---2024-01-10t150942421.gif\n",
      "{'url': 'https://www.deeplearning.ai/the-batch/issue-231/', 'issue': 231, 'title': 'text_or_images_input_or_output'}\n",
      "issue_231_title_a_message_from_landing_ai_img_0_image--10-.png\n",
      "{'url': 'https://www.deeplearning.ai/the-batch/issue-231/', 'issue': 231, 'title': 'a_message_from_landing_ai'}\n",
      "issue_232_title_ai_busts_out_at_ces_img_0_unnamed---2024-01-17t145508969.gif\n",
      "{'url': 'https://www.deeplearning.ai/the-batch/issue-232/', 'issue': 232, 'title': 'ai_busts_out_at_ces'}\n",
      "issue_232_title_openai_expands_platform_play_img_0_unnamed---2024-01-17t145556800.gif\n",
      "{'url': 'https://www.deeplearning.ai/the-batch/issue-232/', 'issue': 232, 'title': 'openai_expands_platform_play'}\n",
      "issue_232_title_a_message_fromdeeplearningai_img_0_the-batch-ads-and-exclusive-banners---2024-01-16t090702307.png\n",
      "Filtered: issue_232_title_a_message_fromdeeplearningai_img_0_the-batch-ads-and-exclusive-banners---2024-01-16t090702307.png\n",
      "issue_232_title_standard_for_media_watermarks_img_0_unnamed---2024-01-17t145821116.gif\n",
      "{'url': 'https://www.deeplearning.ai/the-batch/issue-232/', 'issue': 232, 'title': 'standard_for_media_watermarks'}\n",
      "issue_232_title_sing_a_tune_generate_an_accompaniment_img_0_unnamed--91-.png\n",
      "{'url': 'https://www.deeplearning.ai/the-batch/issue-232/', 'issue': 232, 'title': 'sing_a_tune_generate_an_accompaniment'}\n",
      "issue_233_title_early_detection_for_pancreatic_cancer_img_0_unnamed--93-.png\n",
      "{'url': 'https://www.deeplearning.ai/the-batch/issue-233/', 'issue': 233, 'title': 'early_detection_for_pancreatic_cancer'}\n",
      "issue_233_title_ai_creates_jobs_study_suggests_img_0_unnamed---2024-01-24t145719589.gif\n",
      "{'url': 'https://www.deeplearning.ai/the-batch/issue-233/', 'issue': 233, 'title': 'ai_creates_jobs_study_suggests'}\n",
      "issue_233_title_a_message_fromdeeplearningai_img_0_the-batch-ads-and-exclusive-banners---2024-01-23t083847050.png\n",
      "Filtered: issue_233_title_a_message_fromdeeplearningai_img_0_the-batch-ads-and-exclusive-banners---2024-01-23t083847050.png\n",
      "issue_233_title_sovereign_ai_img_0_unnamed---2024-01-24t145859354.gif\n",
      "{'url': 'https://www.deeplearning.ai/the-batch/issue-233/', 'issue': 233, 'title': 'sovereign_ai'}\n",
      "issue_233_title_learning_the_language_of_geometry_img_0_unnamed--94-.png\n",
      "{'url': 'https://www.deeplearning.ai/the-batch/issue-233/', 'issue': 233, 'title': 'learning_the_language_of_geometry'}\n",
      "issue_234_title_resources_for_research_img_0_unnamed---2024-01-31t154407087.gif\n",
      "{'url': 'https://www.deeplearning.ai/the-batch/issue-234/', 'issue': 234, 'title': 'resources_for_research'}\n",
      "issue_234_title_high_yields_for_small_farms_img_0_unnamed---2024-01-31t154457554.gif\n",
      "{'url': 'https://www.deeplearning.ai/the-batch/issue-234/', 'issue': 234, 'title': 'high_yields_for_small_farms'}\n",
      "issue_234_title_a_message_fromdeeplearningai_img_0_the-batch-ads-and-exclusive-banners---2024-01-30t091637902.png\n",
      "Filtered: issue_234_title_a_message_fromdeeplearningai_img_0_the-batch-ads-and-exclusive-banners---2024-01-30t091637902.png\n",
      "issue_234_title_ai_jobs_grow_beyond_established_hubs_img_0_unnamed---2024-01-31t154942886.gif\n",
      "{'url': 'https://www.deeplearning.ai/the-batch/issue-234/', 'issue': 234, 'title': 'ai_jobs_grow_beyond_established_hubs'}\n",
      "issue_234_title_more_consistent_generated_videos_img_0_unnamed---2024-01-31t155118727.gif\n",
      "{'url': 'https://www.deeplearning.ai/the-batch/issue-234/', 'issue': 234, 'title': 'more_consistent_generated_videos'}\n",
      "issue_238_title_context_is_everything_img_0_gemini_multimodaldemo_nocc_600px--1-.gif\n",
      "{'url': 'https://www.deeplearning.ai/the-batch/issue-238/', 'issue': 238, 'title': 'context_is_everything'}\n",
      "issue_238_title_blazing_inference_speed_img_0_groq-llmperf.webp\n",
      "{'url': 'https://www.deeplearning.ai/the-batch/issue-238/', 'issue': 238, 'title': 'blazing_inference_speed'}\n",
      "issue_238_title_a_message_fromdeeplearningai_img_0_the-batch-ads-and-exclusive-banners---2024-02-20t090733220.png\n",
      "Filtered: issue_238_title_a_message_fromdeeplearningai_img_0_the-batch-ads-and-exclusive-banners---2024-02-20t090733220.png\n",
      "issue_238_title_openais_next_act_img_0_agent_1200px--1-.gif\n",
      "{'url': 'https://www.deeplearning.ai/the-batch/issue-238/', 'issue': 238, 'title': 'openais_next_act'}\n",
      "issue_238_title_better_faster_network_pruning_img_0_pruning--1-.gif\n",
      "{'url': 'https://www.deeplearning.ai/the-batch/issue-238/', 'issue': 238, 'title': 'better_faster_network_pruning'}\n",
      "issue_239_title_mistral_ai_extends_its_portfolio_img_0_unnamed---2024-03-06t161635694.gif\n",
      "{'url': 'https://www.deeplearning.ai/the-batch/issue-239/', 'issue': 239, 'title': 'mistral_ai_extends_its_portfolio'}\n",
      "issue_239_title_robot_chemist_img_0_unnamed---2024-03-06t161718283.png\n",
      "{'url': 'https://www.deeplearning.ai/the-batch/issue-239/', 'issue': 239, 'title': 'robot_chemist'}\n",
      "issue_239_title_a_message_fromdeeplearningai_img_0_the-batch-ads-and-exclusive-banners---2024-03-05t085620866.png\n",
      "Filtered: issue_239_title_a_message_fromdeeplearningai_img_0_the-batch-ads-and-exclusive-banners---2024-03-05t085620866.png\n",
      "issue_239_title_google_releases_open_source_llms_img_0_unnamed---2024-03-06t161846471.png\n",
      "{'url': 'https://www.deeplearning.ai/the-batch/issue-239/', 'issue': 239, 'title': 'google_releases_open_source_llms'}\n",
      "issue_239_title_schooling_language_models_in_math_img_0_unnamed---2024-03-06t161921552-1.gif\n",
      "{'url': 'https://www.deeplearning.ai/the-batch/issue-239/', 'issue': 239, 'title': 'schooling_language_models_in_math'}\n"
     ]
    },
    {
     "name": "stderr",
     "output_type": "stream",
     "text": [
      "\n"
     ]
    },
    {
     "data": {
      "text/plain": [
       "919"
      ]
     },
     "execution_count": 6,
     "metadata": {},
     "output_type": "execute_result"
    }
   ],
   "execution_count": 6
  },
  {
   "metadata": {
    "ExecuteTime": {
     "end_time": "2025-04-28T16:07:44.086072Z",
     "start_time": "2025-04-28T16:00:35.162787Z"
    }
   },
   "cell_type": "code",
   "source": [
    "import os\n",
    "import json\n",
    "import requests\n",
    "from urllib.parse import urlparse\n",
    "import re\n",
    "from config import Config\n",
    "from tqdm import tqdm\n",
    "from PIL import Image\n",
    "from io import BytesIO\n",
    "\n",
    "# Load articles\n",
    "with open(f'../{Config.parsed_full_data_path}', 'r', encoding='utf-8') as f:\n",
    "    articles = json.load(f)\n",
    "\n",
    "# Prepare output directory\n",
    "output_dir = f'../{Config.image_dataset_path}'\n",
    "os.makedirs(output_dir, exist_ok=True)\n",
    "\n",
    "def slugify(text):\n",
    "    if text is not None:\n",
    "        text = text.lower().strip().replace(' ', '_')\n",
    "    else:\n",
    "        text = 'no_text'\n",
    "    return re.sub(r'[^a-zA-Z0-9_\\-]', '', text)\n",
    "\n",
    "def filtration_by_filename(photo_filename: str) -> bool:\n",
    "    for rule in Config.filtration_keywords:\n",
    "        if all(keyword in photo_filename for keyword in rule):\n",
    "            return True\n",
    "    return False\n",
    "\n",
    "# Download images\n",
    "uris = []\n",
    "metadata = []\n",
    "\n",
    "for article in tqdm(articles):\n",
    "    url = article.get('url', 'None')\n",
    "    issue = article.get('issue', 'unknown')\n",
    "    title_slug = slugify(article.get('title', 'no_title'))\n",
    "\n",
    "    for idx, img_url in enumerate(article.get('images', [])):\n",
    "        try:\n",
    "            parsed_url = urlparse(img_url)\n",
    "            img_name = os.path.basename(parsed_url.path)\n",
    "            img_ext = os.path.splitext(img_name)[-1] or '.jpg'\n",
    "            img_file_slug = slugify(os.path.splitext(img_name)[0])\n",
    "            filename = f'issue_{issue}_title_{title_slug}_img_{idx}_{img_file_slug}{img_ext}'\n",
    "\n",
    "            if filtration_by_filename(filename):\n",
    "                #print('filtrated:', filename)\n",
    "                continue\n",
    "\n",
    "            filepath = os.path.join(output_dir, filename)\n",
    "\n",
    "            # Step 1: Download\n",
    "            response = requests.get(img_url, timeout=10)\n",
    "            response.raise_for_status()\n",
    "\n",
    "            # Step 2: Check Content-Type is image\n",
    "            if 'image' not in response.headers.get('Content-Type', ''):\n",
    "                continue\n",
    "\n",
    "            # Step 3: Validate the image can be opened\n",
    "            try:\n",
    "                img = Image.open(BytesIO(response.content))\n",
    "                img.verify()  # Checks for corrupted image\n",
    "            except Exception:\n",
    "                continue  # Skip invalid images\n",
    "\n",
    "            # Step 4: Save the validated image\n",
    "            with open(filepath, 'wb') as f:\n",
    "                f.write(response.content)\n",
    "\n",
    "            # Save metadata\n",
    "            uris.append(filename)\n",
    "            metadata.append({'url': url, 'issue': issue, 'title': title_slug})\n",
    "\n",
    "        except Exception:\n",
    "            # Skip image if any error occurs\n",
    "            continue\n",
    "\n",
    "# Save metadata to JSON\n",
    "export_data = {\n",
    "    \"uris\": uris,\n",
    "    \"metadata\": metadata\n",
    "}\n",
    "\n",
    "with open(f'../{Config.dataset_path}/photo_data.json', 'w', encoding='utf-8') as f:\n",
    "    json.dump(export_data, f, ensure_ascii=False, indent=4)\n"
   ],
   "id": "e38fcb00d55cf32",
   "outputs": [
    {
     "name": "stderr",
     "output_type": "stream",
     "text": [
      "  0%|          | 3/1134 [00:02<16:06,  1.17it/s]"
     ]
    },
    {
     "name": "stdout",
     "output_type": "stream",
     "text": [
      "filtrated: issue_1_title_a_message_fromdeeplearningai_img_0_1_coursead-dlsoptimizationalgorithms.png\n"
     ]
    },
    {
     "name": "stderr",
     "output_type": "stream",
     "text": [
      "  2%|▏         | 22/1134 [00:17<12:32,  1.48it/s]"
     ]
    },
    {
     "name": "stdout",
     "output_type": "stream",
     "text": [
      "filtrated: issue_5_title_a_message_fromdeeplearningai_img_0_1_dls20course20420course20ad20fixed20size.png\n"
     ]
    },
    {
     "name": "stderr",
     "output_type": "stream",
     "text": [
      "  3%|▎         | 36/1134 [00:27<14:13,  1.29it/s]"
     ]
    },
    {
     "name": "stdout",
     "output_type": "stream",
     "text": [
      "filtrated: issue_7_title_a_message_fromdeeplearningai_img_0_1_dls20course20520course20ad.png\n"
     ]
    },
    {
     "name": "stderr",
     "output_type": "stream",
     "text": [
      "  4%|▍         | 43/1134 [00:32<12:41,  1.43it/s]"
     ]
    },
    {
     "name": "stdout",
     "output_type": "stream",
     "text": [
      "filtrated: issue_8_title_a_message_fromdeeplearningai_img_0_course20ad2016.png\n"
     ]
    },
    {
     "name": "stderr",
     "output_type": "stream",
     "text": [
      "  4%|▍         | 50/1134 [00:36<12:54,  1.40it/s]"
     ]
    },
    {
     "name": "stdout",
     "output_type": "stream",
     "text": [
      "filtrated: issue_9_title_a_message_fromdeeplearningai_img_0_dls20course20420course20ad20fixed20size.png\n"
     ]
    },
    {
     "name": "stderr",
     "output_type": "stream",
     "text": [
      "  5%|▍         | 56/1134 [00:40<10:32,  1.70it/s]"
     ]
    },
    {
     "name": "stdout",
     "output_type": "stream",
     "text": [
      "filtrated: issue_10_title_a_message_fromdeeplearningai_img_0_dls20course20120course20ad.png\n"
     ]
    },
    {
     "name": "stderr",
     "output_type": "stream",
     "text": [
      "  6%|▋         | 71/1134 [00:50<13:36,  1.30it/s]"
     ]
    },
    {
     "name": "stdout",
     "output_type": "stream",
     "text": [
      "filtrated: issue_14_title_a_message_fromdeeplearningai_img_0_1_dls20course20520course20ad.png\n"
     ]
    },
    {
     "name": "stderr",
     "output_type": "stream",
     "text": [
      "  7%|▋         | 76/1134 [00:53<11:48,  1.49it/s]"
     ]
    },
    {
     "name": "stdout",
     "output_type": "stream",
     "text": [
      "filtrated: issue_15_title_a_message_fromdeeplearningai_img_0_1_dls20course20420course20ad20fixed20size.png\n"
     ]
    },
    {
     "name": "stderr",
     "output_type": "stream",
     "text": [
      " 30%|██▉       | 336/1134 [04:16<04:52,  2.73it/s]"
     ]
    },
    {
     "name": "stdout",
     "output_type": "stream",
     "text": [
      "filtrated: issue_72_title_onward_to_2021_img_0_screen20shot202020-12-2920at205-2.webp\n",
      "filtrated: issue_72_title_no_text_img_0_ayanna-howar-screen20shot202020-12-2920at2010.webp\n"
     ]
    },
    {
     "name": "stderr",
     "output_type": "stream",
     "text": [
      " 33%|███▎      | 371/1134 [04:42<10:59,  1.16it/s]"
     ]
    },
    {
     "name": "stdout",
     "output_type": "stream",
     "text": [
      "filtrated: issue_78_title_a_message_fromdeeplearningai_img_0_the-batch-image-1024x576.png\n"
     ]
    },
    {
     "name": "stderr",
     "output_type": "stream",
     "text": [
      " 33%|███▎      | 377/1134 [04:44<04:39,  2.71it/s]"
     ]
    },
    {
     "name": "stdout",
     "output_type": "stream",
     "text": [
      "filtrated: issue_83_title_a_message_fromdeeplearningai_img_0_mlops-march-24_the-batch-image-2048x115220copy.png\n"
     ]
    },
    {
     "name": "stderr",
     "output_type": "stream",
     "text": [
      " 39%|███▉      | 443/1134 [04:55<02:37,  4.39it/s]"
     ]
    },
    {
     "name": "stdout",
     "output_type": "stream",
     "text": [
      "filtrated: issue_97_title_a_message_fromdeeplearningai_img_0_course20name201-2.png\n"
     ]
    },
    {
     "name": "stderr",
     "output_type": "stream",
     "text": [
      " 39%|███▉      | 446/1134 [04:56<02:15,  5.10it/s]"
     ]
    },
    {
     "name": "stdout",
     "output_type": "stream",
     "text": [
      "filtrated: issue_98_title_a_message_fromdeeplearningai_img_0_the-batch-image-4--1---2-.png\n"
     ]
    },
    {
     "name": "stderr",
     "output_type": "stream",
     "text": [
      " 40%|███▉      | 452/1134 [04:57<02:44,  4.14it/s]"
     ]
    },
    {
     "name": "stdout",
     "output_type": "stream",
     "text": [
      "filtrated: issue_99_title_no_text_img_0_course-name-2-2.png\n"
     ]
    },
    {
     "name": "stderr",
     "output_type": "stream",
     "text": [
      " 40%|████      | 458/1134 [04:59<02:47,  4.05it/s]"
     ]
    },
    {
     "name": "stdout",
     "output_type": "stream",
     "text": [
      "filtrated: issue_101_title_no_text_img_0_course-name-3-3.png\n"
     ]
    },
    {
     "name": "stderr",
     "output_type": "stream",
     "text": [
      " 41%|████▏     | 468/1134 [05:02<03:33,  3.12it/s]"
     ]
    },
    {
     "name": "stdout",
     "output_type": "stream",
     "text": [
      "filtrated: issue_103_title_no_text_img_0_experts-panel-811_the-batch-image.png\n"
     ]
    },
    {
     "name": "stderr",
     "output_type": "stream",
     "text": [
      " 42%|████▏     | 478/1134 [05:04<03:09,  3.47it/s]"
     ]
    },
    {
     "name": "stdout",
     "output_type": "stream",
     "text": [
      "filtrated: issue_106_title_no_text_img_0_course-name-banner-4-1.png\n"
     ]
    },
    {
     "name": "stderr",
     "output_type": "stream",
     "text": [
      " 43%|████▎     | 483/1134 [05:05<02:49,  3.85it/s]"
     ]
    },
    {
     "name": "stdout",
     "output_type": "stream",
     "text": [
      "filtrated: issue_107_title_no_text_img_0_course-name-banner-4--1-.png\n"
     ]
    },
    {
     "name": "stderr",
     "output_type": "stream",
     "text": [
      " 43%|████▎     | 488/1134 [05:07<02:36,  4.14it/s]"
     ]
    },
    {
     "name": "stdout",
     "output_type": "stream",
     "text": [
      "filtrated: issue_108_title_no_text_img_0_course-name-banner-4-2.png\n"
     ]
    },
    {
     "name": "stderr",
     "output_type": "stream",
     "text": [
      " 43%|████▎     | 493/1134 [05:08<03:06,  3.43it/s]"
     ]
    },
    {
     "name": "stdout",
     "output_type": "stream",
     "text": [
      "filtrated: issue_109_title_no_text_img_0_9.webp\n"
     ]
    },
    {
     "name": "stderr",
     "output_type": "stream",
     "text": [
      " 44%|████▍     | 498/1134 [05:09<03:08,  3.37it/s]"
     ]
    },
    {
     "name": "stdout",
     "output_type": "stream",
     "text": [
      "filtrated: issue_110_title_no_text_img_0_ai-x-929_the-batch-image.png\n"
     ]
    },
    {
     "name": "stderr",
     "output_type": "stream",
     "text": [
      " 45%|████▍     | 506/1134 [05:11<02:45,  3.81it/s]"
     ]
    },
    {
     "name": "stdout",
     "output_type": "stream",
     "text": [
      "filtrated: issue_115_title_something_wicked_this_way_comes_img_0_andrew-trickortreating-aspanda-4_600px.webp\n"
     ]
    },
    {
     "name": "stderr",
     "output_type": "stream",
     "text": [
      " 47%|████▋     | 534/1134 [05:12<00:18, 32.33it/s]"
     ]
    },
    {
     "name": "stdout",
     "output_type": "stream",
     "text": [
      "filtrated: issue_121_title_a_message_fromdeeplearningai_img_0_the-batch-s12n.webp\n"
     ]
    },
    {
     "name": "stderr",
     "output_type": "stream",
     "text": [
      " 54%|█████▍    | 613/1134 [05:15<00:35, 14.79it/s]"
     ]
    },
    {
     "name": "stdout",
     "output_type": "stream",
     "text": [
      "filtrated: issue_138_title_a_message_fromdeeplearningai_img_0_the-batch-image--3-.png\n"
     ]
    },
    {
     "name": "stderr",
     "output_type": "stream",
     "text": [
      " 54%|█████▍    | 618/1134 [05:16<00:42, 12.02it/s]"
     ]
    },
    {
     "name": "stdout",
     "output_type": "stream",
     "text": [
      "filtrated: issue_139_title_a_message_fromdeeplearningai_img_0_the-batch-image--4-.png\n"
     ]
    },
    {
     "name": "stderr",
     "output_type": "stream",
     "text": [
      " 55%|█████▍    | 622/1134 [05:17<00:51,  9.93it/s]"
     ]
    },
    {
     "name": "stdout",
     "output_type": "stream",
     "text": [
      "filtrated: issue_140_title_a_message_fromdeeplearningai_img_0_428_the-batch-image.png\n"
     ]
    },
    {
     "name": "stderr",
     "output_type": "stream",
     "text": [
      " 56%|█████▌    | 632/1134 [05:20<01:29,  5.63it/s]"
     ]
    },
    {
     "name": "stdout",
     "output_type": "stream",
     "text": [
      "filtrated: issue_142_title_bridge_to_explainable_ai_img_0_bridge.webp\n"
     ]
    },
    {
     "name": "stderr",
     "output_type": "stream",
     "text": [
      " 56%|█████▋    | 638/1134 [05:21<01:56,  4.26it/s]"
     ]
    },
    {
     "name": "stdout",
     "output_type": "stream",
     "text": [
      "filtrated: issue_143_title_a_message_fromdeeplearningai_img_0_ai-x-518_the-batch-image.png\n",
      "filtrated: issue_143_title_managing_medical_uncertainty_img_0_hospitals-1.webp\n"
     ]
    },
    {
     "name": "stderr",
     "output_type": "stream",
     "text": [
      " 57%|█████▋    | 641/1134 [05:21<01:18,  6.28it/s]"
     ]
    },
    {
     "name": "stdout",
     "output_type": "stream",
     "text": [
      "filtrated: issue_144_title_gpt-free_img_0_meta.webp\n"
     ]
    },
    {
     "name": "stderr",
     "output_type": "stream",
     "text": [
      " 57%|█████▋    | 649/1134 [05:23<01:59,  4.05it/s]"
     ]
    },
    {
     "name": "stdout",
     "output_type": "stream",
     "text": [
      "filtrated: issue_145_title_when_data__danger_img_0_locationetcdata.webp\n"
     ]
    },
    {
     "name": "stderr",
     "output_type": "stream",
     "text": [
      " 57%|█████▋    | 652/1134 [05:23<01:25,  5.66it/s]"
     ]
    },
    {
     "name": "stdout",
     "output_type": "stream",
     "text": [
      "filtrated: issue_146_title_linear_regression_straight__narrow_img_0_linearregression_carweight-milege_1200px.webp\n",
      "filtrated: issue_146_title_logistic_regression_follow_the_curve_img_0_logisticregression_tumbler_1200px.webp\n",
      "filtrated: issue_146_title_gradient_descent_its_all_downhill_img_0_heroes-mountainpaths-gullies_1200px-1.webp\n",
      "filtrated: issue_146_title_a_message_fromdeeplearningai_img_0_deeplearningai_banner_stanford_teaser_1200x628_artboard-2--1-.webp\n",
      "filtrated: issue_146_title_neural_networks_find_the_function_img_0_admiralperceptron_1200px.webp\n",
      "filtrated: issue_146_title_decision_trees_from_root_to_leaves_img_0_decisiontree_1200px.webp\n",
      "filtrated: issue_146_title_k-means_clustering_group_think_img_0_k-means_3clusters_1200px_crop-2.webp\n",
      "filtrated: issue_147_title_actors_act_against_ai_img_0_ezgif.webp\n"
     ]
    },
    {
     "name": "stderr",
     "output_type": "stream",
     "text": [
      " 58%|█████▊    | 661/1134 [05:24<00:29, 15.79it/s]"
     ]
    },
    {
     "name": "stdout",
     "output_type": "stream",
     "text": [
      "filtrated: issue_147_title_a_message_fromdeeplearningai_img_0_intro-to-mlops-cover--1-.webp\n",
      "filtrated: issue_147_title_deep_learning_for_deep_discounts_img_0_upside.webp\n"
     ]
    },
    {
     "name": "stderr",
     "output_type": "stream",
     "text": [
      " 59%|█████▉    | 668/1134 [05:25<00:56,  8.23it/s]"
     ]
    },
    {
     "name": "stdout",
     "output_type": "stream",
     "text": [
      "filtrated: issue_148_title_a_message_fromdeeplearningai_img_0_pie---ai-amabssador-soptlight_the-batch-brigita.png\n"
     ]
    },
    {
     "name": "stderr",
     "output_type": "stream",
     "text": [
      " 60%|█████▉    | 678/1134 [05:27<01:14,  6.09it/s]"
     ]
    },
    {
     "name": "stdout",
     "output_type": "stream",
     "text": [
      "filtrated: issue_150_title_wind_in_the_forecast_img_0_wind.webp\n",
      "filtrated: issue_150_title_a_message_fromdeeplearningai_img_0_pie---ai-amabssador-soptlight_the-batch-emilio.png\n"
     ]
    },
    {
     "name": "stderr",
     "output_type": "stream",
     "text": [
      " 61%|██████    | 691/1134 [05:31<02:18,  3.19it/s]"
     ]
    },
    {
     "name": "stdout",
     "output_type": "stream",
     "text": [
      "filtrated: issue_153_title_a_message_fromdeeplearningai_img_0_accelerating-your-ai-careermls3-aug_the-batch-image.png\n"
     ]
    },
    {
     "name": "stderr",
     "output_type": "stream",
     "text": [
      " 61%|██████▏   | 695/1134 [05:31<01:45,  4.17it/s]"
     ]
    },
    {
     "name": "stdout",
     "output_type": "stream",
     "text": [
      "filtrated: issue_154_title_keep_your_ais_on_the_road_img_0_eu.webp\n"
     ]
    },
    {
     "name": "stderr",
     "output_type": "stream",
     "text": [
      " 63%|██████▎   | 711/1134 [05:35<02:00,  3.52it/s]"
     ]
    },
    {
     "name": "stdout",
     "output_type": "stream",
     "text": [
      "filtrated: issue_158_title_a_message_fromdeeplearningai_img_0_ai-for-social-good-banner.webp\n"
     ]
    },
    {
     "name": "stderr",
     "output_type": "stream",
     "text": [
      " 63%|██████▎   | 716/1134 [05:36<01:53,  3.68it/s]"
     ]
    },
    {
     "name": "stdout",
     "output_type": "stream",
     "text": [
      "filtrated: issue_159_title_a_message_fromdeeplearningai_img_0_mls_learner_1200x628_a-1_artboard-1-copy-11-1.webp\n"
     ]
    },
    {
     "name": "stderr",
     "output_type": "stream",
     "text": [
      " 65%|██████▌   | 741/1134 [05:44<01:56,  3.36it/s]"
     ]
    },
    {
     "name": "stdout",
     "output_type": "stream",
     "text": [
      "filtrated: issue_165_title_a_message_fromour_partner_img_0_fourthbrain-banner-ad--1-.png\n",
      "filtrated: issue_165_title_the_dark_side_of_the_moon__lit_up_img_0_moon_600px.webp\n"
     ]
    },
    {
     "name": "stderr",
     "output_type": "stream",
     "text": [
      " 66%|██████▋   | 753/1134 [05:46<01:07,  5.62it/s]"
     ]
    },
    {
     "name": "stdout",
     "output_type": "stream",
     "text": [
      "filtrated: issue_167_title_a_message_fromdeeplearningai_img_0_mls-thebatch-ad.png\n"
     ]
    },
    {
     "name": "stderr",
     "output_type": "stream",
     "text": [
      " 75%|███████▍  | 846/1134 [06:09<00:47,  6.00it/s]"
     ]
    },
    {
     "name": "stdout",
     "output_type": "stream",
     "text": [
      "filtrated: issue_184_title_a_message_fromdeeplearningai_img_0_the-batch-ads-and-exclusive-banners.png\n"
     ]
    },
    {
     "name": "stderr",
     "output_type": "stream",
     "text": [
      " 75%|███████▍  | 850/1134 [06:09<01:01,  4.65it/s]"
     ]
    },
    {
     "name": "stdout",
     "output_type": "stream",
     "text": [
      "filtrated: issue_185_title_a_message_from_dataheroes_img_0_the-batch-ads-and-exclusive-banners.gif\n"
     ]
    },
    {
     "name": "stderr",
     "output_type": "stream",
     "text": [
      " 76%|███████▌  | 862/1134 [06:12<01:00,  4.47it/s]"
     ]
    },
    {
     "name": "stdout",
     "output_type": "stream",
     "text": [
      "filtrated: issue_187_title_a_message_from_workera_img_0_the-batch-ads-and-exclusive-banners--9-.png\n"
     ]
    },
    {
     "name": "stderr",
     "output_type": "stream",
     "text": [
      " 77%|███████▋  | 876/1134 [06:15<00:32,  7.90it/s]"
     ]
    },
    {
     "name": "stdout",
     "output_type": "stream",
     "text": [
      "filtrated: issue_189_title_a_message_fromdeeplearningai_img_0_323_the-batch-image.png\n"
     ]
    },
    {
     "name": "stderr",
     "output_type": "stream",
     "text": [
      " 78%|███████▊  | 880/1134 [06:15<00:37,  6.79it/s]"
     ]
    },
    {
     "name": "stdout",
     "output_type": "stream",
     "text": [
      "filtrated: issue_190_title_a_message_fromdeeplearningai_img_0_the-batch-ads-and-exclusive-banners--12-.png\n"
     ]
    },
    {
     "name": "stderr",
     "output_type": "stream",
     "text": [
      " 78%|███████▊  | 886/1134 [06:17<00:50,  4.90it/s]"
     ]
    },
    {
     "name": "stdout",
     "output_type": "stream",
     "text": [
      "filtrated: issue_191_title_a_message_fromdeeplearningai_img_0_the-batch-ads-and-exclusive-banners--7-.jpg\n"
     ]
    },
    {
     "name": "stderr",
     "output_type": "stream",
     "text": [
      " 79%|███████▉  | 894/1134 [06:18<00:33,  7.27it/s]"
     ]
    },
    {
     "name": "stdout",
     "output_type": "stream",
     "text": [
      "filtrated: issue_194_title_a_message_fromdeeplearningai_img_0_the-batch-ads-and-exclusive-banners--9-.jpg\n"
     ]
    },
    {
     "name": "stderr",
     "output_type": "stream",
     "text": [
      " 79%|███████▉  | 898/1134 [06:19<00:59,  3.97it/s]"
     ]
    },
    {
     "name": "stdout",
     "output_type": "stream",
     "text": [
      "filtrated: issue_195_title_a_message_fromdeeplearningai_img_0_the-batch-ads-and-exclusive-banners--11-.jpg\n"
     ]
    },
    {
     "name": "stderr",
     "output_type": "stream",
     "text": [
      " 80%|███████▉  | 904/1134 [06:20<00:41,  5.56it/s]"
     ]
    },
    {
     "name": "stdout",
     "output_type": "stream",
     "text": [
      "filtrated: issue_196_title_a_message_fromdeeplearningai_img_0_the-batch-ads-and-exclusive-banners--17-.png\n"
     ]
    },
    {
     "name": "stderr",
     "output_type": "stream",
     "text": [
      " 80%|████████  | 910/1134 [06:22<00:56,  3.95it/s]"
     ]
    },
    {
     "name": "stdout",
     "output_type": "stream",
     "text": [
      "filtrated: issue_197_title_a_message_fromworkera_img_0_the-batch-ads-and-exclusive-banners--12---1-.jpg\n"
     ]
    },
    {
     "name": "stderr",
     "output_type": "stream",
     "text": [
      " 81%|████████  | 916/1134 [06:23<00:42,  5.15it/s]"
     ]
    },
    {
     "name": "stdout",
     "output_type": "stream",
     "text": [
      "filtrated: issue_198_title_a_message_from_deeplearningai_img_0_the-batch-ads-and-exclusive-banners--23-.png\n"
     ]
    },
    {
     "name": "stderr",
     "output_type": "stream",
     "text": [
      " 81%|████████▏ | 922/1134 [06:24<00:37,  5.62it/s]"
     ]
    },
    {
     "name": "stdout",
     "output_type": "stream",
     "text": [
      "filtrated: issue_199_title_a_message_fromdeeplearningai_img_0_new-courses-batch.png\n"
     ]
    },
    {
     "name": "stderr",
     "output_type": "stream",
     "text": [
      " 82%|████████▏ | 928/1134 [06:25<00:34,  6.02it/s]"
     ]
    },
    {
     "name": "stdout",
     "output_type": "stream",
     "text": [
      "filtrated: issue_200_title_a_message_fromdeeplearningai_img_0_the-batch-ads-and-exclusive-banners--30-.png\n"
     ]
    },
    {
     "name": "stderr",
     "output_type": "stream",
     "text": [
      " 82%|████████▏ | 934/1134 [06:26<00:36,  5.43it/s]"
     ]
    },
    {
     "name": "stdout",
     "output_type": "stream",
     "text": [
      "filtrated: issue_201_title_a_message_fromdeeplearningai_img_0_the-batch-ads-and-exclusive-banners--33-.png\n"
     ]
    },
    {
     "name": "stderr",
     "output_type": "stream",
     "text": [
      " 83%|████████▎ | 940/1134 [06:27<00:27,  7.17it/s]"
     ]
    },
    {
     "name": "stdout",
     "output_type": "stream",
     "text": [
      "filtrated: issue_202_title_a_message_from_landing_ai_img_0_the-batch-ads-and-exclusive-banners--35-.png\n"
     ]
    },
    {
     "name": "stderr",
     "output_type": "stream",
     "text": [
      " 84%|████████▎ | 948/1134 [06:28<00:23,  7.95it/s]"
     ]
    },
    {
     "name": "stdout",
     "output_type": "stream",
     "text": [
      "filtrated: issue_203_title_a_message_fromdeeplearningai_img_0_the-batch-ads-and-exclusive-banners--36-.png\n"
     ]
    },
    {
     "name": "stderr",
     "output_type": "stream",
     "text": [
      " 84%|████████▍ | 954/1134 [06:29<00:30,  5.84it/s]"
     ]
    },
    {
     "name": "stdout",
     "output_type": "stream",
     "text": [
      "filtrated: issue_204_title_a_message_fromdeeplearningai_img_0_the-batch-ads-and-exclusive-banners--41-.png\n"
     ]
    },
    {
     "name": "stderr",
     "output_type": "stream",
     "text": [
      " 85%|████████▌ | 967/1134 [06:33<00:42,  3.89it/s]"
     ]
    },
    {
     "name": "stdout",
     "output_type": "stream",
     "text": [
      "filtrated: issue_207_title_a_message_fromdeeplearningai_img_0_the-batch-ads-and-exclusive-banners--43-.png\n"
     ]
    },
    {
     "name": "stderr",
     "output_type": "stream",
     "text": [
      " 86%|████████▌ | 971/1134 [06:33<00:37,  4.40it/s]"
     ]
    },
    {
     "name": "stdout",
     "output_type": "stream",
     "text": [
      "filtrated: issue_208_title_a_message_from_deeplearningai_img_0_the-batch-ads-and-exclusive-banners--45-.png\n"
     ]
    },
    {
     "name": "stderr",
     "output_type": "stream",
     "text": [
      " 86%|████████▋ | 980/1134 [06:35<00:23,  6.55it/s]"
     ]
    },
    {
     "name": "stdout",
     "output_type": "stream",
     "text": [
      "filtrated: issue_209_title_a_message_fromdeeplearningai_img_0_the-batch-ads-and-exclusive-banners--49-.png\n"
     ]
    },
    {
     "name": "stderr",
     "output_type": "stream",
     "text": [
      " 87%|████████▋ | 984/1134 [06:36<00:27,  5.54it/s]"
     ]
    },
    {
     "name": "stdout",
     "output_type": "stream",
     "text": [
      "filtrated: issue_210_title_a_message_fromdeeplearningai_img_0_the-batch-ads-and-exclusive-banners--48-.png\n"
     ]
    },
    {
     "name": "stderr",
     "output_type": "stream",
     "text": [
      " 87%|████████▋ | 987/1134 [06:37<00:39,  3.76it/s]"
     ]
    },
    {
     "name": "stdout",
     "output_type": "stream",
     "text": [
      "filtrated: issue_210_title_a_message_fromdeeplearningai_img_0_the-batch-ads-and-exclusive-banners--50-.png\n"
     ]
    },
    {
     "name": "stderr",
     "output_type": "stream",
     "text": [
      " 87%|████████▋ | 991/1134 [06:37<00:27,  5.17it/s]"
     ]
    },
    {
     "name": "stdout",
     "output_type": "stream",
     "text": [
      "filtrated: issue_211_title_a_message_fromdeeplearningai_img_0_the-batch-ads-and-exclusive-banners--51-.png\n"
     ]
    },
    {
     "name": "stderr",
     "output_type": "stream",
     "text": [
      " 88%|████████▊ | 1002/1134 [06:39<00:28,  4.64it/s]"
     ]
    },
    {
     "name": "stdout",
     "output_type": "stream",
     "text": [
      "filtrated: issue_213_title_a_message_fromdeeplearningai_img_0_the-batch-ads-and-exclusive-banners--53-.png\n"
     ]
    },
    {
     "name": "stderr",
     "output_type": "stream",
     "text": [
      " 89%|████████▉ | 1007/1134 [06:40<00:25,  5.07it/s]"
     ]
    },
    {
     "name": "stdout",
     "output_type": "stream",
     "text": [
      "filtrated: issue_214_title_a_message_from_speechlab_img_0_the-batch-ads-and-exclusive-banners--63-.png\n"
     ]
    },
    {
     "name": "stderr",
     "output_type": "stream",
     "text": [
      " 90%|████████▉ | 1020/1134 [06:43<00:23,  4.95it/s]"
     ]
    },
    {
     "name": "stdout",
     "output_type": "stream",
     "text": [
      "filtrated: issue_217_title_a_message_fromdeeplearningai_img_0_the-batch-ads-and-exclusive-banners--67-.png\n"
     ]
    },
    {
     "name": "stderr",
     "output_type": "stream",
     "text": [
      " 90%|█████████ | 1026/1134 [06:44<00:27,  3.99it/s]"
     ]
    },
    {
     "name": "stdout",
     "output_type": "stream",
     "text": [
      "filtrated: issue_218_title_a_message_fromdeeplearningai_img_0_the-batch-ads-and-exclusive-banners--68-.png\n"
     ]
    },
    {
     "name": "stderr",
     "output_type": "stream",
     "text": [
      " 91%|█████████ | 1034/1134 [06:45<00:14,  7.08it/s]"
     ]
    },
    {
     "name": "stdout",
     "output_type": "stream",
     "text": [
      "filtrated: issue_219_title_a_message_fromdeeplearningai_img_0_the-batch-ads-and-exclusive-banners--70-.png\n"
     ]
    },
    {
     "name": "stderr",
     "output_type": "stream",
     "text": [
      " 92%|█████████▏| 1039/1134 [06:46<00:18,  5.02it/s]"
     ]
    },
    {
     "name": "stdout",
     "output_type": "stream",
     "text": [
      "filtrated: issue_220_title_a_message_fromdeeplearningai_img_0_the-batch-ads-and-exclusive-banners--71-.png\n"
     ]
    },
    {
     "name": "stderr",
     "output_type": "stream",
     "text": [
      " 92%|█████████▏| 1048/1134 [06:47<00:12,  7.07it/s]"
     ]
    },
    {
     "name": "stdout",
     "output_type": "stream",
     "text": [
      "filtrated: issue_221_title_a_message_fromdeeplearningai_img_0_the-batch-ads-and-exclusive-banners--72-.png\n"
     ]
    },
    {
     "name": "stderr",
     "output_type": "stream",
     "text": [
      " 93%|█████████▎| 1055/1134 [06:48<00:09,  8.57it/s]"
     ]
    },
    {
     "name": "stdout",
     "output_type": "stream",
     "text": [
      "filtrated: issue_223_title_a_message_fromdeeplearningai_img_0_the-batch-ads-and-exclusive-banners--80-.png\n"
     ]
    },
    {
     "name": "stderr",
     "output_type": "stream",
     "text": [
      " 93%|█████████▎| 1059/1134 [06:49<00:07, 10.22it/s]"
     ]
    },
    {
     "name": "stdout",
     "output_type": "stream",
     "text": [
      "filtrated: issue_223_title_a_message_fromdeeplearningai_img_0_the-batch-ads-and-exclusive-banners-_72_.jpg\n"
     ]
    },
    {
     "name": "stderr",
     "output_type": "stream",
     "text": [
      " 94%|█████████▎| 1061/1134 [06:49<00:09,  7.49it/s]"
     ]
    },
    {
     "name": "stdout",
     "output_type": "stream",
     "text": [
      "filtrated: issue_224_title_a_message_fromdeeplearningai_img_0_the-batch--2-.png\n"
     ]
    },
    {
     "name": "stderr",
     "output_type": "stream",
     "text": [
      " 94%|█████████▍| 1068/1134 [06:50<00:10,  6.22it/s]"
     ]
    },
    {
     "name": "stdout",
     "output_type": "stream",
     "text": [
      "filtrated: issue_225_title_a_message_fromdeeplearningai_img_0_the-batch-ads-and-exclusive-banners--83-.png\n"
     ]
    },
    {
     "name": "stderr",
     "output_type": "stream",
     "text": [
      " 96%|█████████▌| 1087/1134 [06:53<00:07,  6.54it/s]"
     ]
    },
    {
     "name": "stdout",
     "output_type": "stream",
     "text": [
      "filtrated: issue_229_title_a_message_fromdeeplearningai_img_0_the-batch-ads-and-exclusive-banners--93-.png\n"
     ]
    },
    {
     "name": "stderr",
     "output_type": "stream",
     "text": [
      " 96%|█████████▋| 1093/1134 [06:54<00:07,  5.51it/s]"
     ]
    },
    {
     "name": "stdout",
     "output_type": "stream",
     "text": [
      "filtrated: issue_230_title_a_message_fromdeeplearningai_img_0_the-batch-ads-and-exclusive-banners--95-.png\n"
     ]
    },
    {
     "name": "stderr",
     "output_type": "stream",
     "text": [
      " 98%|█████████▊| 1106/1134 [07:04<00:15,  1.86it/s]"
     ]
    },
    {
     "name": "stdout",
     "output_type": "stream",
     "text": [
      "filtrated: issue_232_title_a_message_fromdeeplearningai_img_0_the-batch-ads-and-exclusive-banners---2024-01-16t090702307.png\n"
     ]
    },
    {
     "name": "stderr",
     "output_type": "stream",
     "text": [
      " 98%|█████████▊| 1114/1134 [07:05<00:03,  5.18it/s]"
     ]
    },
    {
     "name": "stdout",
     "output_type": "stream",
     "text": [
      "filtrated: issue_233_title_a_message_fromdeeplearningai_img_0_the-batch-ads-and-exclusive-banners---2024-01-23t083847050.png\n"
     ]
    },
    {
     "name": "stderr",
     "output_type": "stream",
     "text": [
      " 99%|█████████▊| 1118/1134 [07:06<00:03,  4.79it/s]"
     ]
    },
    {
     "name": "stdout",
     "output_type": "stream",
     "text": [
      "filtrated: issue_234_title_a_message_fromdeeplearningai_img_0_the-batch-ads-and-exclusive-banners---2024-01-30t091637902.png\n"
     ]
    },
    {
     "name": "stderr",
     "output_type": "stream",
     "text": [
      " 99%|█████████▉| 1126/1134 [07:07<00:01,  7.12it/s]"
     ]
    },
    {
     "name": "stdout",
     "output_type": "stream",
     "text": [
      "filtrated: issue_238_title_blazing_inference_speed_img_0_groq-llmperf.webp\n",
      "filtrated: issue_238_title_a_message_fromdeeplearningai_img_0_the-batch-ads-and-exclusive-banners---2024-02-20t090733220.png\n"
     ]
    },
    {
     "name": "stderr",
     "output_type": "stream",
     "text": [
      "100%|█████████▉| 1132/1134 [07:08<00:00,  6.76it/s]"
     ]
    },
    {
     "name": "stdout",
     "output_type": "stream",
     "text": [
      "filtrated: issue_239_title_a_message_fromdeeplearningai_img_0_the-batch-ads-and-exclusive-banners---2024-03-05t085620866.png\n"
     ]
    },
    {
     "name": "stderr",
     "output_type": "stream",
     "text": [
      "100%|██████████| 1134/1134 [07:08<00:00,  2.64it/s]\n"
     ]
    }
   ],
   "execution_count": 8
  },
  {
   "metadata": {},
   "cell_type": "markdown",
   "source": "# Web scraping",
   "id": "384e23c7dd3f0a93"
  },
  {
   "metadata": {
    "ExecuteTime": {
     "end_time": "2025-04-28T14:18:00.389579Z",
     "start_time": "2025-04-28T14:17:49.901390Z"
    }
   },
   "cell_type": "code",
   "source": [
    "from bs4 import BeautifulSoup\n",
    "from selenium import webdriver\n",
    "from selenium.webdriver.chrome.options import Options\n",
    "import time\n",
    "import json\n",
    "\n",
    "from config import Config\n",
    "\n",
    "def setup_driver(headless=False):\n",
    "    options = Options()\n",
    "    if headless:\n",
    "        options.add_argument('--headless=new')\n",
    "    options.add_argument('--disable-gpu')\n",
    "    options.add_argument('--no-sandbox')\n",
    "    driver = webdriver.Chrome(options=options)\n",
    "    return driver\n",
    "\n",
    "def extract_issue_data(driver, issue_number):\n",
    "    url = f\"https://www.deeplearning.ai/the-batch/issue-{issue_number}/\"\n",
    "    print(url)\n",
    "    driver.get(url)\n",
    "    time.sleep(5)\n",
    "\n",
    "    soup = BeautifulSoup(driver.page_source, 'html.parser')\n",
    "    main_content = soup.find(\"div\", class_=\"prose--styled\")\n",
    "\n",
    "    if not main_content:\n",
    "        print(f\"❌ No main content found for issue {issue_number}\")\n",
    "        return None\n",
    "\n",
    "    news_anchor = main_content.find(lambda tag: tag.name in [\"h1\", \"h2\"] and tag.get(\"id\") == \"news\")\n",
    "\n",
    "    if not news_anchor:\n",
    "        print(f\"⚠️ No 'news' anchor found in issue {issue_number}, get all\")\n",
    "        elements_to_process = main_content\n",
    "    else:\n",
    "        elements_to_process = list(news_anchor.next_siblings)\n",
    "\n",
    "    articles_data = []\n",
    "    current_article = {\n",
    "        \"issue\": issue_number,\n",
    "        \"url\": url,\n",
    "        \"title\": None,\n",
    "        \"text\": \"\",\n",
    "        \"images\": [],\n",
    "        \"captions\": []\n",
    "    }\n",
    "\n",
    "    for element in elements_to_process:\n",
    "        if isinstance(element, str):\n",
    "            continue\n",
    "\n",
    "        if element.name in [\"h1\", \"h2\", \"h3\"]:\n",
    "            current_article[\"title\"] = element.get_text(strip=True)\n",
    "\n",
    "        elif element.name == \"p\":\n",
    "            text = element.get_text(strip=True)\n",
    "            if text:\n",
    "                current_article[\"text\"] += text + \"\\n\"\n",
    "\n",
    "        elif element.name == \"ul\":\n",
    "            for li in element.find_all(\"li\"):\n",
    "                li_text = li.get_text(strip=True)\n",
    "                if li_text:\n",
    "                    current_article[\"text\"] += \"• \" + li_text + \"\\n\"\n",
    "\n",
    "        elif element.name == \"figure\":\n",
    "            img_tag = element.find(\"img\")\n",
    "            if img_tag:\n",
    "                img_src = img_tag.get(\"src\")\n",
    "                if img_src:\n",
    "                    current_article[\"images\"].append(img_src)\n",
    "\n",
    "            caption_tag = element.find(\"figcaption\")\n",
    "            if caption_tag:\n",
    "                caption = caption_tag.get_text(strip=True)\n",
    "            else:\n",
    "                # fallback — сусідній <p>\n",
    "                next_p = element.find_next_sibling(\"p\")\n",
    "                caption = next_p.get_text(strip=True) if next_p else \"\"\n",
    "\n",
    "            current_article[\"captions\"].append(caption)\n",
    "\n",
    "        elif element.name == \"hr\":\n",
    "            if current_article[\"title\"] is not None or current_article[\"text\"] is not None:\n",
    "                if 'A MESSAGE FROM' not in current_article[\"title\"]:\n",
    "                    articles_data.append(current_article)\n",
    "                current_article = {\n",
    "                    \"issue\": issue_number,\n",
    "                    \"url\": url,\n",
    "                    \"title\": None,\n",
    "                    \"text\": \"\",\n",
    "                    \"images\": [],\n",
    "                    \"captions\": []\n",
    "                }\n",
    "\n",
    "    if current_article[\"title\"] or current_article[\"text\"]:\n",
    "        articles_data.append(current_article)\n",
    "\n",
    "    return articles_data\n",
    "\n",
    "def scrape_all_issues(start=1, end=239, headless=True):\n",
    "    driver = setup_driver(headless)\n",
    "    all_issues = []\n",
    "\n",
    "    for issue_number in range(start, end + 1, 1):\n",
    "        try:\n",
    "            print(f\"Scraping Issue #{issue_number}\")\n",
    "            data = extract_issue_data(driver, issue_number)\n",
    "            all_issues.extend(data)\n",
    "        except Exception as e:\n",
    "            print(f\"Failed to scrape issue {issue_number}: {e}\")\n",
    "            continue\n",
    "\n",
    "    driver.quit()\n",
    "    return all_issues\n",
    "\n",
    "\n",
    "results = scrape_all_issues(start=39, end=39)\n",
    "\n",
    "print(\"✅ Scraping complete. Data saved to 'the_batch_articles.json'\")\n",
    "results"
   ],
   "id": "44e0dd3d76d6deb5",
   "outputs": [
    {
     "name": "stdout",
     "output_type": "stream",
     "text": [
      "Scraping Issue #39\n",
      "https://www.deeplearning.ai/the-batch/issue-39/\n",
      "✅ Scraping complete. Data saved to 'the_batch_articles.json'\n"
     ]
    },
    {
     "data": {
      "text/plain": [
       "[{'issue': 39,\n",
       "  'url': 'https://www.deeplearning.ai/the-batch/issue-39/',\n",
       "  'title': 'Mask Monitor',\n",
       "  'text': 'Cameras that detect face masks are helping French authorities to evaluate citizens’ adherence to government mandates intended to fight Covid-19.What’s new:Starting this week, everyone riding public transportation in France isrequiredto wear a face mask.Paris and Cannesare using computer vision to count people who comply.How it works:Datakalab, a French AI startup, is installing chips in existing CCTV cameras that run an object recognition model. The model is trained to distinguish masked faces from unmasked ones.\\n• Paris istestingthe cameras at the busy Chatelet-Les Halles metro station. Cannes has installed them on buses and in public markets.\\n• The software counts mask wearers every 15 minutes and transmits aggregate statistics to the authorities. The companysaysthe system is meant to help authorities determine where to step up efforts to promote mask-wearing\\n• Datakalab providessimilar technologyfor use in retailing. Those systems note customers’ age, gender, how long they stay in certain areas, and whether they’re smiling.\\nBehind the news:AI is being used widely to monitor compliance with rules designed to combat the spread of Covid-19.\\n• The Indian state of Punjab is using drones fromSkylark Laboratoriesto enforce social distancing and curfew regulations.\\n• Hospitality companies have deployed cameras fromWobot Intelligenceto ensure that employees are washing their hands for at least 20 seconds.\\nYes, but:France’s privacy commissionwarnsthat mask detection technology may violate European rules that limit personal data collection. Datakalab counters that its systems neitheridentify individualsnor store data. In any case, 94 percent of French citizenssupportwearing masks in public according to a recent poll. (France continues to outlaw burqas and other religious face coverings under a 2011 law.)Why it matters:As France and other countries begin to lift rules that keep people physically apart, wearing masks is critical to limiting coronavirus transmission.We’re thinking:Covid-19 surveillance is a double-edged sword: helpful in containing the pandemic but worrisome in other contexts. Governments and businesses must use it appropriately and only while the need persists.\\n',\n",
       "  'images': ['https://home-wordpress.deeplearning.ai/wp-content/uploads/2021/01/ezgif.com-optimize2010.gif'],\n",
       "  'captions': ['Cameras that detect face masks are helping French authorities to evaluate citizens’ adherence to government mandates intended to fight Covid-19.What’s new:Starting this week, everyone riding public transportation in France isrequiredto wear a face mask.Paris and Cannesare using computer vision to count people who comply.How it works:Datakalab, a French AI startup, is installing chips in existing CCTV cameras that run an object recognition model. The model is trained to distinguish masked faces from unmasked ones.']},\n",
       " {'issue': 39,\n",
       "  'url': 'https://www.deeplearning.ai/the-batch/issue-39/',\n",
       "  'title': 'Listening to the Brain',\n",
       "  'text': 'AI has added an unlikely language to its catalog of translation capabilities: brain waves.What’s new:Joseph Makin led a group from the University of California San Francisco torender a person’s neural signals as English textwhile the person read a sentence aloud. Sometimes the system produced gibberish. For instance, it translated brain waves representing, “the woman is holding a broom” into “the little is giggling giggling.” But much of its output was very close to the spoken words: “The ladder was used to rescue the cat and the man” came out as “which ladder will be used to rescue the cat and the man.”Key insight:Brain activity isn’t spoken or readable in the usual sense, but it has structural similarities to language.How it works:Patients undergoing surgery for epilepsy had electrodes attached to the cortical surface. The researchers captured neural activity while the speaker read a sentence and discarded signals with the lowest strength. A model learned to translate the brain waves into a transcript.\\n• Brain scans often detect signals at different times relative to when they began. A convolutional filter applied across time captured the signals within a time window to account for mistimings.\\n• A recurrent neural network learned to extract key features of a sequence of filtered brain activity one time window at a time. After that RNN extracted the features of an entire sequence, a second RNN learned to reconstruct the spoken sentence one word at a time based on the features and the previously predicted word.\\n• During training, another network predicted features of the sentence’s sound based on the extracted features. This additional task helped the first RNN to extract brainwave features most closely related to the sentence.\\nResults:The researchers evaluated their method by word error rate (WER) between true and predicted sentences. Trained on one person reading 50 distinct sentences, the network achieved a 3 percent WER. The network vastly outperformed the previous state of the art, which scored 60 percent WER measured on a different dataset.Yes, but:The researchers tested their network on a larger vocabulary than previous methods. Still, the vocabulary was small: only around 250 words. Classifying a brain wave as one of 250 words is easier than recognizing it among the 170,000 in the English language.Why it matters:The ability to find words in brain waves cracks open a sci-fi Pandora’s box. It’s worth emphasizing that the researchers read brain waves associated with speech, not necessarily thought. Yet it’s amazing that the same learning algorithm works for both brain-to-language and language-to-language translations.We’re thinking:We look forward to upgrading Alexa from voice recognition to mind reading (except for the annoying detail of implanting electrodes in our brains).\\n',\n",
       "  'images': ['https://home-wordpress.deeplearning.ai/wp-content/uploads/2021/01/Cortical.gif'],\n",
       "  'captions': ['AI has added an unlikely language to its catalog of translation capabilities: brain waves.What’s new:Joseph Makin led a group from the University of California San Francisco torender a person’s neural signals as English textwhile the person read a sentence aloud. Sometimes the system produced gibberish. For instance, it translated brain waves representing, “the woman is holding a broom” into “the little is giggling giggling.” But much of its output was very close to the spoken words: “The ladder was used to rescue the cat and the man” came out as “which ladder will be used to rescue the cat and the man.”Key insight:Brain activity isn’t spoken or readable in the usual sense, but it has structural similarities to language.How it works:Patients undergoing surgery for epilepsy had electrodes attached to the cortical surface. The researchers captured neural activity while the speaker read a sentence and discarded signals with the lowest strength. A model learned to translate the brain waves into a transcript.']},\n",
       " {'issue': 39,\n",
       "  'url': 'https://www.deeplearning.ai/the-batch/issue-39/',\n",
       "  'title': 'An Archive Unearthed',\n",
       "  'text': 'An algorithm indexed photos, ads, and other images embedded in 170 years of American newspapers.What’s new:Created by researchers at the University of Washington and U.S. Library of Congress,Newspaper Navigatoruses object recognition to organize visual features in 16 million pages of newspapers dating back to 1789. The tool makes it easy to search this archive — and hopefully others before long — for visual elements.How it works:The researchers fine-tunedFaster R-CNNto flag seven types of visual newspaper content from cartoons to maps.\\n• They trained the system onBeyond Words, an annotated archive of World War I-era newspapers. The dataset also includes transcriptions of headlines and captions to help calibrate optical character recognition.\\n• The researchers added labels for headlines and advertisements.\\n• The system uses optical character recognition to append titles and captions to illustrations and photos. It also produces machine-readable versions of headlines.\\nBehind the news:A number of researchers are using AI to mine the mountains of information locked in digitized newspapers and other historical sources.\\n• PageNetrecognizes page boundaries in handwritten historical documents.\\n• Swiss researchers deviseddhSegment,a neural network that helps with a range of tasks related to historical images such as analyzing a document’s layout and detecting the ornamental letter illustrations that begin chapters in many old texts.\\n• The University of Lincoln-Nebraska’sAidaproject seeks out poetry in old newspapers.\\nWhy it matters:Newspapers are invaluable resources for historians, journalists, and other researchers. Newspaper Navigator’s creatorsopen-sourcedtheir work so it can be used to search other digital archives.We’re thinking:Sometimes we have a hard time finding old GIFs fromThe Batch. Maybe the Library of Congress could give us a hand too?\\n',\n",
       "  'images': ['https://home-wordpress.deeplearning.ai/wp-content/uploads/2021/01/Cartoon.gif'],\n",
       "  'captions': ['An algorithm indexed photos, ads, and other images embedded in 170 years of American newspapers.What’s new:Created by researchers at the University of Washington and U.S. Library of Congress,Newspaper Navigatoruses object recognition to organize visual features in 16 million pages of newspapers dating back to 1789. The tool makes it easy to search this archive — and hopefully others before long — for visual elements.How it works:The researchers fine-tunedFaster R-CNNto flag seven types of visual newspaper content from cartoons to maps.']},\n",
       " {'issue': 39,\n",
       "  'url': 'https://www.deeplearning.ai/the-batch/issue-39/',\n",
       "  'title': 'Taxation With Vector Representation',\n",
       "  'text': 'Governments have struggled to find a tax formula that promotes prosperity without creating extremes of wealth and poverty. Can machine learning show the way?What’s new:Data scientists at Salesforce usedreinforcement learningto develop a tax policy aimed at optimizing worker productivity and income equality.How it works:The researchers developed a video game-type simulation in which four reinforcement learning agents worked to earn money while a fifth taxed their income.\\n• None of the agents had prior knowledge of the game’s economy. The workers were instructed to build wealth by either harvesting resources or building homes.\\n• Each virtual worker had a different skill level. The lower-skilled workers learned that acquiring and selling wood or stone was the best way for them to make money, while their higher-skilled colleagues gravitated to the more complex, higher-paying task of building houses.\\n• Each game ran through 10 tax periods. At the end of each period, the tax bot took a portion of each worker’s earnings, then redistributed the money among all the workers. The process was repeated millions of times.\\n• The researchers also tested the simulation under three human-created tax strategies: A free market approach, the current U.S. tax code, and an academic tax proposal favoring higher income equality.\\nResults:The system optimized the balance between productivity and inequality more effectively than the human-created strategies. Its policy counterintuitively set high tax rates for the highest and lowest earners and assigned the lowest rates to middle earners.Yes, but:A model with four workers isn’t nearly complex enough to simulate a real economy, Blake LeBaron, an economist at Brandeis UniversitytoldMIT Technology Review. The Salesforce team plans to scale up the system to 100 workers.Why it matters:More than 70 percent of the world’s population live in nations whereincome inequality is rising, according to the United Nations. Tax policy is a powerful tool for building more prosperous, resilient economies.We’re thinking:Using AI to discover good social policies? Great idea! Imposing high tax rates on the lowest earners? Not so much.\\n',\n",
       "  'images': ['https://home-wordpress.deeplearning.ai/wp-content/uploads/2021/01/Tax3.gif'],\n",
       "  'captions': ['Governments have struggled to find a tax formula that promotes prosperity without creating extremes of wealth and poverty. Can machine learning show the way?What’s new:Data scientists at Salesforce usedreinforcement learningto develop a tax policy aimed at optimizing worker productivity and income equality.How it works:The researchers developed a video game-type simulation in which four reinforcement learning agents worked to earn money while a fifth taxed their income.']},\n",
       " {'issue': 39,\n",
       "  'url': 'https://www.deeplearning.ai/the-batch/issue-39/',\n",
       "  'title': 'Flexible Teachers, Smarter Students',\n",
       "  'text': 'Human teachers can teach more effectively by adjusting their methods in response to student feedback. It turns out that teacher networks can do the same.What’s new:Hieu Pham led joint work by Carnegie Mellon and Google Brain that trained teacher models (larger, pretrained networks) to educate student models (smaller networks that learn from the teacher’s predictions) more effectively by observing and adjusting to student performance. The method’s name,Meta Pseudo Labels, refers to meta-learning: in this case, learning from predictions that have been tweaked to optimize their educational value rather than their accuracy. Pseudo labels are teacher classifications, either binary or values between 0 and 1, that a student learns to re-create.Key insight:A teacher may generate predictions showing that one dog looks more like a wolf than a cat, while another dog falls in between. But its pseudo label “dog” doesn’t capture that difference. For instance, a model considering two images may output [0.8, 0.2, 0.0] and [0.6, 0.2, 0.2] to express its confidence that they depict a dog, wolf, or cat. Both classifications reflect high confidence that the image is a dog, but they contain more nuanced information. Rather than receiving only the highest-confidence classifications, the student will learn better if the teacher adjusts its predictions to exaggerate, say, the dogishness of wolfish dogs. For example, the teacher may change [0.8, 0.2, 0.0] to [0.9, 0.1, 0.0].How it works:WideResNet-28-2andResNet 50teachers taughtEfficientNetstudents how to recognize images fromCIFAR-10,SVHN, andImageNet.\\n• The student learns from a minibatch of images classified by the teacher. Then the student makes predictions on some of the validation set. The teacher learns to minimize the student’s validation loss. The student learns from the teacher’s prediction distribution, so backpropagation can update the teacher based on student errors. Then the process repeats for the next minibatch.\\n• It may take many training steps before the teacher learns a better distribution. (As any teacher will tell you, the longer students are confused, the less they learn, and the more the teacher must adjust.) The teacher also learns from a small amount of labeled data in the validation set to prevent mis-teaching the student early in training.\\n• Training the teacher on the validation set may look like a bad idea, but the student is never directly exposed to the validation set’s labels. The teacher’s additional knowledge helps the student generalize without overfitting the validation set.\\nResults:Meta Pseudo Labels produced a student with higher ImageNet accuracy (86.9 percent) than a supervised model (84.5 percent). The improvements remained when using a limited number of labels from each dataset, where MPL achieved CIFAR-10 accuracy of 83.7 percent compared with a supervised model’s 82.1, and SVHN accuracy to 91.9 percent compared with 88.2.Why it matters:Student-teacher training began as a compression technique. But latelyNoisy Studentand Meta Pseudo Labels are making it a competitive approach to training models that generalize.We’re thinking:Atdeeplearning.ai, we aim to keep improving our instruction based on student feedback — but please make your feedback differentiable.\\n',\n",
       "  'images': ['https://home-wordpress.deeplearning.ai/wp-content/uploads/2021/01/MetaPseudo.gif'],\n",
       "  'captions': ['Human teachers can teach more effectively by adjusting their methods in response to student feedback. It turns out that teacher networks can do the same.What’s new:Hieu Pham led joint work by Carnegie Mellon and Google Brain that trained teacher models (larger, pretrained networks) to educate student models (smaller networks that learn from the teacher’s predictions) more effectively by observing and adjusting to student performance. The method’s name,Meta Pseudo Labels, refers to meta-learning: in this case, learning from predictions that have been tweaked to optimize their educational value rather than their accuracy. Pseudo labels are teacher classifications, either binary or values between 0 and 1, that a student learns to re-create.Key insight:A teacher may generate predictions showing that one dog looks more like a wolf than a cat, while another dog falls in between. But its pseudo label “dog” doesn’t capture that difference. For instance, a model considering two images may output [0.8, 0.2, 0.0] and [0.6, 0.2, 0.2] to express its confidence that they depict a dog, wolf, or cat. Both classifications reflect high confidence that the image is a dog, but they contain more nuanced information. Rather than receiving only the highest-confidence classifications, the student will learn better if the teacher adjusts its predictions to exaggerate, say, the dogishness of wolfish dogs. For example, the teacher may change [0.8, 0.2, 0.0] to [0.9, 0.1, 0.0].How it works:WideResNet-28-2andResNet 50teachers taughtEfficientNetstudents how to recognize images fromCIFAR-10,SVHN, andImageNet.']},\n",
       " {'issue': 39,\n",
       "  'url': 'https://www.deeplearning.ai/the-batch/issue-39/',\n",
       "  'title': 'Undercover Networks',\n",
       "  'text': 'Neural networks can spill their secrets to those who know how to ask. A new approach secures them from prying eyes.What’s new:Security researchers at North Carolina State University and Intel in apaperdemonstrate that adversaries can find out a model’s parameter values by measuring its power use. They offer countermeasures that mask those values.How it works:The authors show that neural networks, especially those designed to run on smart home speakers and other edge devices, are vulnerable to so-called differential power analysis. The researchers deciphered the weights of a binary neural network with three fully connected hidden layers of 1,024 neurons each by monitoring its power consumption over multiple inference operations.\\n• To thwart such attacks, the researchers adapted a tactic from cryptography called masking. It involves instructing the neural network to randomly split its computations into two streams each time it runs and recombine the streams at the end of the run. In tests, this approach masked the weights.\\n• The researchers propose another method called hiding, in which the system artificially turns its power consumption up while running sensitive operations. This makes it impossible for adversaries to measure power consumption.\\n• The researchers say their masking and hiding methods are adaptable to any type of neural network.\\nBehind the news:Cryptography researchers wrote about differential power analysis and a related technique called simple power analysis as far back as1998. Both techniques exploit the fact that computer processors use more energy to change a 0 to a 1 (or vice versa) than to maintain either value.Yes, but:The countermeasures proposed by the researchers throttled the system’s performance, slowing it down by as much as 50 percent. The authors alsoworrythat adversaries could find ways to analyze the two streams, forcing the defenders to split computations further with an even greater impact on performance.Why it matters:The ability to reverse engineer a neural network’s weights makes it easier to create adversarial examples that fool the network, and to build knockoffs that put security and intellectual property at risk.We’re thinking:Deep learning opening new use cases — but also new vulnerabilities that will require ongoing research to identify and counter.\\n',\n",
       "  'images': ['https://home-wordpress.deeplearning.ai/wp-content/uploads/2021/01/Secrets.gif'],\n",
       "  'captions': ['Neural networks can spill their secrets to those who know how to ask. A new approach secures them from prying eyes.What’s new:Security researchers at North Carolina State University and Intel in apaperdemonstrate that adversaries can find out a model’s parameter values by measuring its power use. They offer countermeasures that mask those values.How it works:The authors show that neural networks, especially those designed to run on smart home speakers and other edge devices, are vulnerable to so-called differential power analysis. The researchers deciphered the weights of a binary neural network with three fully connected hidden layers of 1,024 neurons each by monitoring its power consumption over multiple inference operations.']}]"
      ]
     },
     "execution_count": 7,
     "metadata": {},
     "output_type": "execute_result"
    }
   ],
   "execution_count": 7
  },
  {
   "metadata": {},
   "cell_type": "code",
   "outputs": [],
   "execution_count": null,
   "source": "",
   "id": "973d2172bdccbe70"
  }
 ],
 "metadata": {
  "kernelspec": {
   "display_name": "Python 3",
   "language": "python",
   "name": "python3"
  },
  "language_info": {
   "codemirror_mode": {
    "name": "ipython",
    "version": 2
   },
   "file_extension": ".py",
   "mimetype": "text/x-python",
   "name": "python",
   "nbconvert_exporter": "python",
   "pygments_lexer": "ipython2",
   "version": "2.7.6"
  }
 },
 "nbformat": 4,
 "nbformat_minor": 5
}
